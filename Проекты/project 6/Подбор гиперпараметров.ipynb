{
 "cells": [
  {
   "attachments": {},
   "cell_type": "markdown",
   "metadata": {},
   "source": [
    "## Проект 6\n",
    "\n",
    "## Предсказание биологического ответа молекул"
   ]
  },
  {
   "cell_type": "code",
   "execution_count": 3,
   "metadata": {},
   "outputs": [
    {
     "name": "stderr",
     "output_type": "stream",
     "text": [
      "C:\\Users\\Администратор\\AppData\\Local\\Temp\\ipykernel_1948\\1055135546.py:22: MatplotlibDeprecationWarning: The seaborn styles shipped by Matplotlib are deprecated since 3.6, as they no longer correspond to the styles shipped by seaborn. However, they will remain available as 'seaborn-v0_8-<style>'. Alternatively, directly use the seaborn API instead.\n",
      "  plt.style.use('seaborn')\n"
     ]
    }
   ],
   "source": [
    "#импорт библиотек\n",
    "import numpy as np #для матричных вычислений\n",
    "import pandas as pd #для анализа и предобработки данных\n",
    "import matplotlib.pyplot as plt #для визуализации\n",
    "import seaborn as sns #для визуализации\n",
    "\n",
    "from sklearn import linear_model #линейные моделиё\n",
    "from sklearn import tree #деревья решений\n",
    "from sklearn import ensemble #ансамбли\n",
    "from sklearn import metrics #метрики\n",
    "from sklearn import preprocessing #предобработка\n",
    "from sklearn.model_selection import train_test_split #сплитование выборки\n",
    "\n",
    "from sklearn.model_selection import GridSearchCV\n",
    "from sklearn.model_selection import RandomizedSearchCV\n",
    "from sklearn.model_selection import cross_val_score\n",
    "import hyperopt\n",
    "from hyperopt import hp, fmin, tpe, Trials\n",
    "import optuna\n",
    "\n",
    "%matplotlib inline\n",
    "plt.style.use('seaborn')"
   ]
  },
  {
   "cell_type": "code",
   "execution_count": 4,
   "metadata": {},
   "outputs": [],
   "source": [
    "# загружаю данные\n",
    "data = pd.read_csv('_train_sem09 (1).csv')"
   ]
  },
  {
   "attachments": {},
   "cell_type": "markdown",
   "metadata": {},
   "source": [
    "Данные представлены в формате CSV.  Каждая строка представляет молекулу. \n",
    "\n",
    "Первый столбец Activity содержит экспериментальные данные, описывающие фактический биологический ответ [0, 1]; \n",
    "Остальные столбцы D1-D1776 представляют собой молекулярные дескрипторы — это вычисляемые свойства, которые могут фиксировать некоторые характеристики молекулы, например размер, форму или состав элементов."
   ]
  },
  {
   "cell_type": "code",
   "execution_count": 5,
   "metadata": {},
   "outputs": [
    {
     "data": {
      "text/html": [
       "<div>\n",
       "<style scoped>\n",
       "    .dataframe tbody tr th:only-of-type {\n",
       "        vertical-align: middle;\n",
       "    }\n",
       "\n",
       "    .dataframe tbody tr th {\n",
       "        vertical-align: top;\n",
       "    }\n",
       "\n",
       "    .dataframe thead th {\n",
       "        text-align: right;\n",
       "    }\n",
       "</style>\n",
       "<table border=\"1\" class=\"dataframe\">\n",
       "  <thead>\n",
       "    <tr style=\"text-align: right;\">\n",
       "      <th></th>\n",
       "      <th>Activity</th>\n",
       "      <th>D1</th>\n",
       "      <th>D2</th>\n",
       "      <th>D3</th>\n",
       "      <th>D4</th>\n",
       "      <th>D5</th>\n",
       "      <th>D6</th>\n",
       "      <th>D7</th>\n",
       "      <th>D8</th>\n",
       "      <th>D9</th>\n",
       "      <th>...</th>\n",
       "      <th>D1767</th>\n",
       "      <th>D1768</th>\n",
       "      <th>D1769</th>\n",
       "      <th>D1770</th>\n",
       "      <th>D1771</th>\n",
       "      <th>D1772</th>\n",
       "      <th>D1773</th>\n",
       "      <th>D1774</th>\n",
       "      <th>D1775</th>\n",
       "      <th>D1776</th>\n",
       "    </tr>\n",
       "  </thead>\n",
       "  <tbody>\n",
       "    <tr>\n",
       "      <th>0</th>\n",
       "      <td>1</td>\n",
       "      <td>0.000000</td>\n",
       "      <td>0.497009</td>\n",
       "      <td>0.10</td>\n",
       "      <td>0.0</td>\n",
       "      <td>0.132956</td>\n",
       "      <td>0.678031</td>\n",
       "      <td>0.273166</td>\n",
       "      <td>0.585445</td>\n",
       "      <td>0.743663</td>\n",
       "      <td>...</td>\n",
       "      <td>0</td>\n",
       "      <td>0</td>\n",
       "      <td>0</td>\n",
       "      <td>0</td>\n",
       "      <td>0</td>\n",
       "      <td>0</td>\n",
       "      <td>0</td>\n",
       "      <td>0</td>\n",
       "      <td>0</td>\n",
       "      <td>0</td>\n",
       "    </tr>\n",
       "    <tr>\n",
       "      <th>1</th>\n",
       "      <td>1</td>\n",
       "      <td>0.366667</td>\n",
       "      <td>0.606291</td>\n",
       "      <td>0.05</td>\n",
       "      <td>0.0</td>\n",
       "      <td>0.111209</td>\n",
       "      <td>0.803455</td>\n",
       "      <td>0.106105</td>\n",
       "      <td>0.411754</td>\n",
       "      <td>0.836582</td>\n",
       "      <td>...</td>\n",
       "      <td>1</td>\n",
       "      <td>1</td>\n",
       "      <td>1</td>\n",
       "      <td>1</td>\n",
       "      <td>0</td>\n",
       "      <td>1</td>\n",
       "      <td>0</td>\n",
       "      <td>0</td>\n",
       "      <td>1</td>\n",
       "      <td>0</td>\n",
       "    </tr>\n",
       "    <tr>\n",
       "      <th>2</th>\n",
       "      <td>1</td>\n",
       "      <td>0.033300</td>\n",
       "      <td>0.480124</td>\n",
       "      <td>0.00</td>\n",
       "      <td>0.0</td>\n",
       "      <td>0.209791</td>\n",
       "      <td>0.610350</td>\n",
       "      <td>0.356453</td>\n",
       "      <td>0.517720</td>\n",
       "      <td>0.679051</td>\n",
       "      <td>...</td>\n",
       "      <td>0</td>\n",
       "      <td>0</td>\n",
       "      <td>0</td>\n",
       "      <td>0</td>\n",
       "      <td>0</td>\n",
       "      <td>0</td>\n",
       "      <td>0</td>\n",
       "      <td>0</td>\n",
       "      <td>0</td>\n",
       "      <td>0</td>\n",
       "    </tr>\n",
       "    <tr>\n",
       "      <th>3</th>\n",
       "      <td>1</td>\n",
       "      <td>0.000000</td>\n",
       "      <td>0.538825</td>\n",
       "      <td>0.00</td>\n",
       "      <td>0.5</td>\n",
       "      <td>0.196344</td>\n",
       "      <td>0.724230</td>\n",
       "      <td>0.235606</td>\n",
       "      <td>0.288764</td>\n",
       "      <td>0.805110</td>\n",
       "      <td>...</td>\n",
       "      <td>0</td>\n",
       "      <td>0</td>\n",
       "      <td>0</td>\n",
       "      <td>0</td>\n",
       "      <td>0</td>\n",
       "      <td>0</td>\n",
       "      <td>0</td>\n",
       "      <td>0</td>\n",
       "      <td>0</td>\n",
       "      <td>0</td>\n",
       "    </tr>\n",
       "    <tr>\n",
       "      <th>4</th>\n",
       "      <td>0</td>\n",
       "      <td>0.100000</td>\n",
       "      <td>0.517794</td>\n",
       "      <td>0.00</td>\n",
       "      <td>0.0</td>\n",
       "      <td>0.494734</td>\n",
       "      <td>0.781422</td>\n",
       "      <td>0.154361</td>\n",
       "      <td>0.303809</td>\n",
       "      <td>0.812646</td>\n",
       "      <td>...</td>\n",
       "      <td>0</td>\n",
       "      <td>0</td>\n",
       "      <td>0</td>\n",
       "      <td>0</td>\n",
       "      <td>0</td>\n",
       "      <td>0</td>\n",
       "      <td>0</td>\n",
       "      <td>0</td>\n",
       "      <td>0</td>\n",
       "      <td>0</td>\n",
       "    </tr>\n",
       "  </tbody>\n",
       "</table>\n",
       "<p>5 rows × 1777 columns</p>\n",
       "</div>"
      ],
      "text/plain": [
       "   Activity        D1        D2    D3   D4        D5        D6        D7  \\\n",
       "0         1  0.000000  0.497009  0.10  0.0  0.132956  0.678031  0.273166   \n",
       "1         1  0.366667  0.606291  0.05  0.0  0.111209  0.803455  0.106105   \n",
       "2         1  0.033300  0.480124  0.00  0.0  0.209791  0.610350  0.356453   \n",
       "3         1  0.000000  0.538825  0.00  0.5  0.196344  0.724230  0.235606   \n",
       "4         0  0.100000  0.517794  0.00  0.0  0.494734  0.781422  0.154361   \n",
       "\n",
       "         D8        D9  ...  D1767  D1768  D1769  D1770  D1771  D1772  D1773  \\\n",
       "0  0.585445  0.743663  ...      0      0      0      0      0      0      0   \n",
       "1  0.411754  0.836582  ...      1      1      1      1      0      1      0   \n",
       "2  0.517720  0.679051  ...      0      0      0      0      0      0      0   \n",
       "3  0.288764  0.805110  ...      0      0      0      0      0      0      0   \n",
       "4  0.303809  0.812646  ...      0      0      0      0      0      0      0   \n",
       "\n",
       "   D1774  D1775  D1776  \n",
       "0      0      0      0  \n",
       "1      0      1      0  \n",
       "2      0      0      0  \n",
       "3      0      0      0  \n",
       "4      0      0      0  \n",
       "\n",
       "[5 rows x 1777 columns]"
      ]
     },
     "execution_count": 5,
     "metadata": {},
     "output_type": "execute_result"
    }
   ],
   "source": [
    "data.head()"
   ]
  },
  {
   "cell_type": "code",
   "execution_count": 6,
   "metadata": {},
   "outputs": [
    {
     "data": {
      "image/png": "[encoded data removed]",
      "text/plain": [
       "<Figure size 800x550 with 1 Axes>"
      ]
     },
     "metadata": {},
     "output_type": "display_data"
    }
   ],
   "source": [
    "# проверю сбалансированность классов\n",
    "sns.countplot(data=data, x='Activity');"
   ]
  },
  {
   "attachments": {},
   "cell_type": "markdown",
   "metadata": {},
   "source": [
    "Данные близки к балансу, всё равно буду использовать стратификационное разбиение выборок"
   ]
  },
  {
   "cell_type": "code",
   "execution_count": 7,
   "metadata": {},
   "outputs": [],
   "source": [
    "# создаю матрицу наблюдений Х и вектор правильных ответов y\n",
    "X = data.drop(['Activity'], axis=1)\n",
    "y = data['Activity']\n",
    "\n",
    "# разделяю выборку на тренировочную и тестовую\n",
    "X_train, X_test, y_train, y_test = train_test_split(X, y, stratify=y, random_state = 1, test_size = 0.2)"
   ]
  },
  {
   "attachments": {},
   "cell_type": "markdown",
   "metadata": {},
   "source": [
    "# Логистическая регрессия"
   ]
  },
  {
   "cell_type": "code",
   "execution_count": 6,
   "metadata": {},
   "outputs": [
    {
     "name": "stdout",
     "output_type": "stream",
     "text": [
      "Метрика F1 на тестовой выборке  0.78\n"
     ]
    },
    {
     "name": "stderr",
     "output_type": "stream",
     "text": [
      "c:\\Users\\Администратор\\AppData\\Local\\Programs\\Python\\Python311\\Lib\\site-packages\\sklearn\\linear_model\\_logistic.py:460: ConvergenceWarning: lbfgs failed to converge (status=1):\n",
      "STOP: TOTAL NO. of ITERATIONS REACHED LIMIT.\n",
      "\n",
      "Increase the number of iterations (max_iter) or scale the data as shown in:\n",
      "    https://scikit-learn.org/stable/modules/preprocessing.html\n",
      "Please also refer to the documentation for alternative solver options:\n",
      "    https://scikit-learn.org/stable/modules/linear_model.html#logistic-regression\n",
      "  n_iter_i = _check_optimize_result(\n"
     ]
    }
   ],
   "source": [
    "# создаю объект логистической регрессии\n",
    "logistic_reg = linear_model.LogisticRegression(random_state=42)\n",
    "\n",
    "# обучаю модель\n",
    "logistic_reg.fit(X_train, y_train)\n",
    "\n",
    "# делаю предсказание\n",
    "log_pred_train = logistic_reg.predict(X_train)\n",
    "log_pred_test = logistic_reg.predict(X_test)\n",
    "\n",
    "print('Метрика F1 на тестовой выборке ', metrics.f1_score(y_test, log_pred_test).round(2))"
   ]
  },
  {
   "attachments": {},
   "cell_type": "markdown",
   "metadata": {},
   "source": [
    "GridSearchCV"
   ]
  },
  {
   "cell_type": "code",
   "execution_count": 8,
   "metadata": {},
   "outputs": [
    {
     "name": "stdout",
     "output_type": "stream",
     "text": [
      "Метрика F1 на тестовой выборке  0.79\n",
      "Наилучшие значения гиперпараметров:  {'C': 0.1, 'penalty': 'l2', 'solver': 'liblinear'}\n"
     ]
    }
   ],
   "source": [
    "# задаю параметры\n",
    "param_grid = [\n",
    "              {'penalty': ['l2', 'none'] , # тип регуляризации\n",
    "              'solver': ['lbfgs', 'sag'], # алгоритм оптимизации\n",
    "               'C': [0.01, 0.1, 0.3, 0.5, 0.7, 0.9, 1]}, # уровень силы регурялизации\n",
    "              \n",
    "              {'penalty': ['l1', 'l2'] ,\n",
    "              'solver': ['liblinear', 'saga'],\n",
    "               'C': [0.01, 0.1, 0.3, 0.5, 0.7, 0.9, 1]}]\n",
    "\n",
    "# использую метод\n",
    "grid_search = GridSearchCV(\n",
    "    estimator=linear_model.LogisticRegression(random_state=42, max_iter=1000), \n",
    "    param_grid=param_grid, \n",
    "    cv=5, \n",
    "    n_jobs = -1\n",
    ")  \n",
    "grid_search.fit(X_train, y_train) \n",
    "\n",
    "# вывожу метрику\n",
    "y_test_pred = grid_search.predict(X_test)\n",
    "print('Метрика F1 на тестовой выборке ', metrics.f1_score(y_test, y_test_pred).round(2))\n",
    "print('Наилучшие значения гиперпараметров: ', grid_search.best_params_)"
   ]
  },
  {
   "attachments": {},
   "cell_type": "markdown",
   "metadata": {},
   "source": [
    "RandomizedSearchCV"
   ]
  },
  {
   "cell_type": "code",
   "execution_count": 9,
   "metadata": {},
   "outputs": [
    {
     "name": "stdout",
     "output_type": "stream",
     "text": [
      "Метрика F1 на тестовой выборке  0.78\n",
      "Наилучшие значения гиперпараметров:  {'solver': 'sag', 'penalty': 'l2', 'C': 0.23}\n"
     ]
    }
   ],
   "source": [
    "# задаю параметры\n",
    "param_distributions = [{'penalty': ['l2', 'none'] ,\n",
    "              'solver': ['lbfgs', 'sag'],\n",
    "               'C': list(np.linspace(0.01, 1, 10, dtype=float))}]\n",
    "\n",
    "# использую метод           \n",
    "random_search = RandomizedSearchCV(\n",
    "    estimator=linear_model.LogisticRegression(random_state=42, max_iter=1000), \n",
    "    param_distributions=param_distributions, \n",
    "    cv=5, \n",
    "    n_iter = 10, \n",
    "    n_jobs = -1\n",
    ")  \n",
    "random_search.fit(X_train, y_train) \n",
    "\n",
    "# вывожу метрику\n",
    "y_test_pred = random_search.predict(X_test)\n",
    "print('Метрика F1 на тестовой выборке ',metrics.f1_score(y_test, y_test_pred).round(2))\n",
    "print('Наилучшие значения гиперпараметров: ', random_search.best_params_)"
   ]
  },
  {
   "attachments": {},
   "cell_type": "markdown",
   "metadata": {},
   "source": [
    "Hyperopt"
   ]
  },
  {
   "cell_type": "code",
   "execution_count": 10,
   "metadata": {},
   "outputs": [
    {
     "name": "stderr",
     "output_type": "stream",
     "text": [
      "TPE is being used as the default algorithm.\n"
     ]
    },
    {
     "name": "stdout",
     "output_type": "stream",
     "text": [
      "  5%|▌         | 1/20 [00:02<00:40,  2.12s/trial, best loss: -0.7706169946428503]"
     ]
    },
    {
     "name": "stderr",
     "output_type": "stream",
     "text": [
      "c:\\Users\\Администратор\\AppData\\Local\\Programs\\Python\\Python311\\Lib\\site-packages\\sklearn\\linear_model\\_sag.py:350: ConvergenceWarning: The max_iter was reached which means the coef_ did not converge\n",
      "  warnings.warn(\n",
      "\n"
     ]
    },
    {
     "name": "stdout",
     "output_type": "stream",
     "text": [
      " 15%|█▌        | 3/20 [00:13<01:12,  4.25s/trial, best loss: -0.7807204491271118]"
     ]
    },
    {
     "name": "stderr",
     "output_type": "stream",
     "text": [
      "c:\\Users\\Администратор\\AppData\\Local\\Programs\\Python\\Python311\\Lib\\site-packages\\sklearn\\linear_model\\_sag.py:350: ConvergenceWarning: The max_iter was reached which means the coef_ did not converge\n",
      "  warnings.warn(\n",
      "\n"
     ]
    },
    {
     "name": "stdout",
     "output_type": "stream",
     "text": [
      " 25%|██▌       | 5/20 [00:23<01:03,  4.27s/trial, best loss: -0.7826782883390004]"
     ]
    },
    {
     "name": "stderr",
     "output_type": "stream",
     "text": [
      "c:\\Users\\Администратор\\AppData\\Local\\Programs\\Python\\Python311\\Lib\\site-packages\\sklearn\\linear_model\\_sag.py:350: ConvergenceWarning: The max_iter was reached which means the coef_ did not converge\n",
      "  warnings.warn(\n",
      "\n"
     ]
    },
    {
     "name": "stdout",
     "output_type": "stream",
     "text": [
      " 30%|███       | 6/20 [00:30<01:12,  5.19s/trial, best loss: -0.7826782883390004]"
     ]
    },
    {
     "name": "stderr",
     "output_type": "stream",
     "text": [
      "c:\\Users\\Администратор\\AppData\\Local\\Programs\\Python\\Python311\\Lib\\site-packages\\sklearn\\linear_model\\_sag.py:350: ConvergenceWarning: The max_iter was reached which means the coef_ did not converge\n",
      "  warnings.warn(\n",
      "\n"
     ]
    },
    {
     "name": "stdout",
     "output_type": "stream",
     "text": [
      " 45%|████▌     | 9/20 [00:39<00:36,  3.32s/trial, best loss: -0.7826782883390004]"
     ]
    },
    {
     "name": "stderr",
     "output_type": "stream",
     "text": [
      "c:\\Users\\Администратор\\AppData\\Local\\Programs\\Python\\Python311\\Lib\\site-packages\\sklearn\\linear_model\\_sag.py:350: ConvergenceWarning: The max_iter was reached which means the coef_ did not converge\n",
      "  warnings.warn(\n",
      "\n"
     ]
    },
    {
     "name": "stdout",
     "output_type": "stream",
     "text": [
      " 55%|█████▌    | 11/20 [00:50<00:34,  3.82s/trial, best loss: -0.7826782883390004]"
     ]
    },
    {
     "name": "stderr",
     "output_type": "stream",
     "text": [
      "c:\\Users\\Администратор\\AppData\\Local\\Programs\\Python\\Python311\\Lib\\site-packages\\sklearn\\linear_model\\_sag.py:350: ConvergenceWarning: The max_iter was reached which means the coef_ did not converge\n",
      "  warnings.warn(\n",
      "\n"
     ]
    },
    {
     "name": "stdout",
     "output_type": "stream",
     "text": [
      " 65%|██████▌   | 13/20 [00:58<00:25,  3.69s/trial, best loss: -0.7826782883390004]"
     ]
    },
    {
     "name": "stderr",
     "output_type": "stream",
     "text": [
      "c:\\Users\\Администратор\\AppData\\Local\\Programs\\Python\\Python311\\Lib\\site-packages\\sklearn\\linear_model\\_sag.py:350: ConvergenceWarning: The max_iter was reached which means the coef_ did not converge\n",
      "  warnings.warn(\n",
      "\n"
     ]
    },
    {
     "name": "stdout",
     "output_type": "stream",
     "text": [
      " 70%|███████   | 14/20 [01:07<00:32,  5.49s/trial, best loss: -0.7826782883390004]"
     ]
    },
    {
     "name": "stderr",
     "output_type": "stream",
     "text": [
      "c:\\Users\\Администратор\\AppData\\Local\\Programs\\Python\\Python311\\Lib\\site-packages\\sklearn\\linear_model\\_sag.py:350: ConvergenceWarning: The max_iter was reached which means the coef_ did not converge\n",
      "  warnings.warn(\n",
      "\n"
     ]
    },
    {
     "name": "stdout",
     "output_type": "stream",
     "text": [
      " 80%|████████  | 16/20 [01:18<00:20,  5.08s/trial, best loss: -0.7826782883390004]"
     ]
    },
    {
     "name": "stderr",
     "output_type": "stream",
     "text": [
      "c:\\Users\\Администратор\\AppData\\Local\\Programs\\Python\\Python311\\Lib\\site-packages\\sklearn\\linear_model\\_sag.py:350: ConvergenceWarning: The max_iter was reached which means the coef_ did not converge\n",
      "  warnings.warn(\n",
      "\n"
     ]
    },
    {
     "name": "stdout",
     "output_type": "stream",
     "text": [
      " 85%|████████▌ | 17/20 [01:25<00:17,  5.67s/trial, best loss: -0.7826782883390004]"
     ]
    },
    {
     "name": "stderr",
     "output_type": "stream",
     "text": [
      "c:\\Users\\Администратор\\AppData\\Local\\Programs\\Python\\Python311\\Lib\\site-packages\\sklearn\\linear_model\\_sag.py:350: ConvergenceWarning: The max_iter was reached which means the coef_ did not converge\n",
      "  warnings.warn(\n",
      "\n"
     ]
    },
    {
     "name": "stdout",
     "output_type": "stream",
     "text": [
      " 90%|█████████ | 18/20 [01:34<00:13,  6.60s/trial, best loss: -0.7843573900686336]"
     ]
    },
    {
     "name": "stderr",
     "output_type": "stream",
     "text": [
      "c:\\Users\\Администратор\\AppData\\Local\\Programs\\Python\\Python311\\Lib\\site-packages\\sklearn\\linear_model\\_sag.py:350: ConvergenceWarning: The max_iter was reached which means the coef_ did not converge\n",
      "  warnings.warn(\n",
      "\n"
     ]
    },
    {
     "name": "stdout",
     "output_type": "stream",
     "text": [
      "100%|██████████| 20/20 [01:45<00:00,  5.28s/trial, best loss: -0.7843573900686336]\n",
      "Наилучшие значения гиперпараметров {'C': 0.11205124547519595, 'penalty': 0, 'solver': 1}\n"
     ]
    }
   ],
   "source": [
    "# задаю пространство поиска гиперпараметров\n",
    "space={'penalty': hp.choice('penalty', ['l1', 'l2']),\n",
    "       'solver' : hp.choice('solver', ['liblinear', 'saga']),\n",
    "       'C': hp.uniform('C', 0.01, 1)\n",
    "      }\n",
    "\n",
    "\n",
    "random_state = 42\n",
    "def hyperopt(params, cv=5, X=X_train, y=y_train, random_state=random_state):\n",
    "    model = linear_model.LogisticRegression(**params, random_state=random_state)\n",
    "\n",
    "    # обучаею модель\n",
    "    model.fit(X, y)\n",
    "    # применю  cross validation \n",
    "    score = cross_val_score(model, X, y, cv=cv, scoring=\"f1\", n_jobs=-1).mean()\n",
    "    return -score\n",
    "\n",
    "#подбор гиперпараметров\n",
    "\n",
    "trials = Trials()\n",
    "\n",
    "best=fmin(hyperopt, # функция \n",
    "          space=space, # пространство гиперпараметров\n",
    "          max_evals=20, # максимальное количество итераций\n",
    "          trials=trials, # логирование результатов\n",
    "          rstate=np.random.default_rng(random_state)\n",
    "         )\n",
    "print(\"Наилучшие значения гиперпараметров {}\".format(best))\n"
   ]
  },
  {
   "cell_type": "code",
   "execution_count": 11,
   "metadata": {},
   "outputs": [
    {
     "name": "stdout",
     "output_type": "stream",
     "text": [
      "Метрика f1 на тестовом наборе:  0.79\n"
     ]
    },
    {
     "name": "stderr",
     "output_type": "stream",
     "text": [
      "c:\\Users\\Администратор\\AppData\\Local\\Programs\\Python\\Python311\\Lib\\site-packages\\sklearn\\linear_model\\_sag.py:350: ConvergenceWarning: The max_iter was reached which means the coef_ did not converge\n",
      "  warnings.warn(\n"
     ]
    }
   ],
   "source": [
    "# обучаю модель\n",
    "model = linear_model.LogisticRegression(\n",
    "    random_state=random_state, \n",
    "    penalty= 'l1',\n",
    "    solver= 'saga',\n",
    "    C= 0.11)\n",
    "model.fit(X_train, y_train)\n",
    "\n",
    "#вывожу метрики\n",
    "y_test_pred = model.predict(X_test)\n",
    "print('Метрика f1 на тестовом наборе: ', metrics.f1_score(y_test, y_test_pred).round(2))"
   ]
  },
  {
   "cell_type": "markdown",
   "metadata": {},
   "source": [
    "Optuna\n"
   ]
  },
  {
   "cell_type": "code",
   "execution_count": 12,
   "metadata": {},
   "outputs": [
    {
     "name": "stderr",
     "output_type": "stream",
     "text": [
      "[I 2023-10-09 13:12:58,133] A new study created in memory with name: LogisticRegression\n",
      "c:\\Users\\Администратор\\AppData\\Local\\Programs\\Python\\Python311\\Lib\\site-packages\\sklearn\\linear_model\\_sag.py:350: ConvergenceWarning: The max_iter was reached which means the coef_ did not converge\n",
      "  warnings.warn(\n",
      "[I 2023-10-09 13:13:03,154] Trial 0 finished with value: 0.8548828719196836 and parameters: {'penalty': 'l1', 'solver': 'saga', 'C': 0.8722083664145229}. Best is trial 0 with value: 0.8548828719196836.\n",
      "c:\\Users\\Администратор\\AppData\\Local\\Programs\\Python\\Python311\\Lib\\site-packages\\sklearn\\linear_model\\_sag.py:350: ConvergenceWarning: The max_iter was reached which means the coef_ did not converge\n",
      "  warnings.warn(\n",
      "[I 2023-10-09 13:13:07,833] Trial 1 finished with value: 0.8150602409638554 and parameters: {'penalty': 'l1', 'solver': 'saga', 'C': 0.19537475283489095}. Best is trial 0 with value: 0.8548828719196836.\n",
      "c:\\Users\\Администратор\\AppData\\Local\\Programs\\Python\\Python311\\Lib\\site-packages\\sklearn\\linear_model\\_sag.py:350: ConvergenceWarning: The max_iter was reached which means the coef_ did not converge\n",
      "  warnings.warn(\n",
      "[I 2023-10-09 13:13:11,482] Trial 2 finished with value: 0.8672782874617738 and parameters: {'penalty': 'l2', 'solver': 'saga', 'C': 0.633966605718911}. Best is trial 2 with value: 0.8672782874617738.\n",
      "c:\\Users\\Администратор\\AppData\\Local\\Programs\\Python\\Python311\\Lib\\site-packages\\sklearn\\linear_model\\_sag.py:350: ConvergenceWarning: The max_iter was reached which means the coef_ did not converge\n",
      "  warnings.warn(\n",
      "[I 2023-10-09 13:13:16,525] Trial 3 finished with value: 0.8376741368867353 and parameters: {'penalty': 'l1', 'solver': 'saga', 'C': 0.4169435171709128}. Best is trial 2 with value: 0.8672782874617738.\n",
      "c:\\Users\\Администратор\\AppData\\Local\\Programs\\Python\\Python311\\Lib\\site-packages\\sklearn\\linear_model\\_sag.py:350: ConvergenceWarning: The max_iter was reached which means the coef_ did not converge\n",
      "  warnings.warn(\n",
      "[I 2023-10-09 13:13:20,145] Trial 4 finished with value: 0.8678090575275399 and parameters: {'penalty': 'l2', 'solver': 'saga', 'C': 0.663813041111244}. Best is trial 4 with value: 0.8678090575275399.\n",
      "c:\\Users\\Администратор\\AppData\\Local\\Programs\\Python\\Python311\\Lib\\site-packages\\sklearn\\linear_model\\_sag.py:350: ConvergenceWarning: The max_iter was reached which means the coef_ did not converge\n",
      "  warnings.warn(\n",
      "[I 2023-10-09 13:13:23,733] Trial 5 finished with value: 0.8658536585365855 and parameters: {'penalty': 'l2', 'solver': 'saga', 'C': 0.30149467877348424}. Best is trial 4 with value: 0.8678090575275399.\n",
      "[I 2023-10-09 13:13:24,019] Trial 6 finished with value: 0.8419775553533515 and parameters: {'penalty': 'l1', 'solver': 'liblinear', 'C': 0.428352066955122}. Best is trial 4 with value: 0.8678090575275399.\n",
      "c:\\Users\\Администратор\\AppData\\Local\\Programs\\Python\\Python311\\Lib\\site-packages\\sklearn\\linear_model\\_sag.py:350: ConvergenceWarning: The max_iter was reached which means the coef_ did not converge\n",
      "  warnings.warn(\n",
      "[I 2023-10-09 13:13:27,624] Trial 7 finished with value: 0.8660550458715596 and parameters: {'penalty': 'l2', 'solver': 'saga', 'C': 0.5249627852732145}. Best is trial 4 with value: 0.8678090575275399.\n",
      "c:\\Users\\Администратор\\AppData\\Local\\Programs\\Python\\Python311\\Lib\\site-packages\\sklearn\\linear_model\\_sag.py:350: ConvergenceWarning: The max_iter was reached which means the coef_ did not converge\n",
      "  warnings.warn(\n",
      "[I 2023-10-09 13:13:32,509] Trial 8 finished with value: 0.8372234010306154 and parameters: {'penalty': 'l1', 'solver': 'saga', 'C': 0.4029490478082785}. Best is trial 4 with value: 0.8678090575275399.\n",
      "[I 2023-10-09 13:13:32,800] Trial 9 finished with value: 0.8779443254817987 and parameters: {'penalty': 'l2', 'solver': 'liblinear', 'C': 0.6860868821473883}. Best is trial 9 with value: 0.8779443254817987.\n",
      "[I 2023-10-09 13:13:32,993] Trial 10 finished with value: 0.8406410644088298 and parameters: {'penalty': 'l2', 'solver': 'liblinear', 'C': 0.0646487839563864}. Best is trial 9 with value: 0.8779443254817987.\n",
      "[I 2023-10-09 13:13:33,278] Trial 11 finished with value: 0.8810761235096299 and parameters: {'penalty': 'l2', 'solver': 'liblinear', 'C': 0.7325089517502231}. Best is trial 11 with value: 0.8810761235096299.\n",
      "[I 2023-10-09 13:13:33,562] Trial 12 finished with value: 0.8820293398533007 and parameters: {'penalty': 'l2', 'solver': 'liblinear', 'C': 0.8772148082333081}. Best is trial 12 with value: 0.8820293398533007.\n",
      "[I 2023-10-09 13:13:33,878] Trial 13 finished with value: 0.8831804281345567 and parameters: {'penalty': 'l2', 'solver': 'liblinear', 'C': 0.9377675193120074}. Best is trial 13 with value: 0.8831804281345567.\n",
      "[I 2023-10-09 13:13:34,190] Trial 14 finished with value: 0.8854262144821266 and parameters: {'penalty': 'l2', 'solver': 'liblinear', 'C': 0.9963302691907647}. Best is trial 14 with value: 0.8854262144821266.\n",
      "[I 2023-10-09 13:13:34,491] Trial 15 finished with value: 0.8850855745721271 and parameters: {'penalty': 'l2', 'solver': 'liblinear', 'C': 0.9863582980981502}. Best is trial 14 with value: 0.8854262144821266.\n",
      "[I 2023-10-09 13:13:34,786] Trial 16 finished with value: 0.8856968215158926 and parameters: {'penalty': 'l2', 'solver': 'liblinear', 'C': 0.9968439214898408}. Best is trial 16 with value: 0.8856968215158926.\n",
      "[I 2023-10-09 13:13:35,074] Trial 17 finished with value: 0.8854262144821266 and parameters: {'penalty': 'l2', 'solver': 'liblinear', 'C': 0.9913262248775634}. Best is trial 16 with value: 0.8856968215158926.\n",
      "[I 2023-10-09 13:13:35,371] Trial 18 finished with value: 0.8813455657492353 and parameters: {'penalty': 'l2', 'solver': 'liblinear', 'C': 0.808134906421619}. Best is trial 16 with value: 0.8856968215158926.\n",
      "[I 2023-10-09 13:13:35,662] Trial 19 finished with value: 0.8810033649434078 and parameters: {'penalty': 'l2', 'solver': 'liblinear', 'C': 0.7848089947703605}. Best is trial 16 with value: 0.8856968215158926.\n"
     ]
    }
   ],
   "source": [
    "def optuna_rf(trial):\n",
    "  # задаю пространства поиска гиперпараметров\n",
    "  penalty = trial.suggest_categorical('penalty', ['l1', 'l2'])\n",
    "  solver = trial.suggest_categorical('solver', ['liblinear', 'saga'])\n",
    "  C = trial.suggest_float('C', low=0.01, high=1)\n",
    "\n",
    "  # создаю модель\n",
    "  model = linear_model.LogisticRegression(\n",
    "    random_state=random_state, \n",
    "    penalty = penalty,\n",
    "    solver = solver,\n",
    "    C = C)\n",
    "  # обучаю модель\n",
    "  model.fit(X_train, y_train)\n",
    "  score = metrics.f1_score(y_train, model.predict(X_train))\n",
    "\n",
    "  return score\n",
    "\n",
    "# cоздаю объект исследования\n",
    "study = optuna.create_study(study_name=\"LogisticRegression\", direction=\"maximize\")\n",
    "# ищу лучшую комбинацию гиперпараметров\n",
    "study.optimize(optuna_rf, n_trials=20)"
   ]
  },
  {
   "cell_type": "code",
   "execution_count": 13,
   "metadata": {},
   "outputs": [
    {
     "name": "stdout",
     "output_type": "stream",
     "text": [
      "Наилучшие значения гиперпараметров {'penalty': 'l2', 'solver': 'liblinear', 'C': 0.9968439214898408}\n"
     ]
    }
   ],
   "source": [
    "#результаты на обучающей выборке\n",
    "print(\"Наилучшие значения гиперпараметров {}\".format(study.best_params))\n"
   ]
  },
  {
   "cell_type": "code",
   "execution_count": 14,
   "metadata": {},
   "outputs": [
    {
     "name": "stdout",
     "output_type": "stream",
     "text": [
      "Метрика f1 на тестовом наборе:  0.78\n"
     ]
    }
   ],
   "source": [
    "#обучаю модель и вывожу метрику\n",
    "model = linear_model.LogisticRegression(**study.best_params,random_state=random_state, )\n",
    "model.fit(X_train, y_train)\n",
    "y_test_pred = model.predict(X_test)\n",
    "print('Метрика f1 на тестовом наборе: ', metrics.f1_score(y_test, y_test_pred).round(2))"
   ]
  },
  {
   "attachments": {},
   "cell_type": "markdown",
   "metadata": {},
   "source": [
    "Выводы для модели логистической регрессии:\n",
    "\n",
    "Метрики F1:\n",
    "\n",
    "Модель с параметрами по умолчанию - 0.78\n",
    "\n",
    "GridSearchCV - 0.79 (лучший результат)\n",
    "\n",
    "RandomizedSearchCV - 0.78\n",
    "\n",
    "Hyperopt - 0.79 (лучший результат)\n",
    "\n",
    "Optuna - 0.78\n"
   ]
  },
  {
   "attachments": {},
   "cell_type": "markdown",
   "metadata": {},
   "source": [
    "# Случайный лес"
   ]
  },
  {
   "cell_type": "code",
   "execution_count": 15,
   "metadata": {},
   "outputs": [
    {
     "name": "stdout",
     "output_type": "stream",
     "text": [
      "Метрика f1 на тестовом наборе:  0.81\n"
     ]
    }
   ],
   "source": [
    "#Создаю объект случайный лес\n",
    "rf = ensemble.RandomForestClassifier(random_state=42)\n",
    "\n",
    "#Обучаю модель\n",
    "rf.fit(X_train, y_train)\n",
    "\n",
    "#Вывожу значения метрики \n",
    "y_test_pred = rf.predict(X_test)\n",
    "print('Метрика f1 на тестовом наборе: ',metrics.f1_score(y_test, y_test_pred).round(2))"
   ]
  },
  {
   "attachments": {},
   "cell_type": "markdown",
   "metadata": {},
   "source": [
    "GridSearchCV"
   ]
  },
  {
   "cell_type": "code",
   "execution_count": 16,
   "metadata": {},
   "outputs": [
    {
     "name": "stdout",
     "output_type": "stream",
     "text": [
      "Метрика f1 на тестовом наборе:  0.82\n",
      "Наилучшие значения гиперпараметров:  {'max_depth': 20, 'min_samples_leaf': 7, 'n_estimators': 130}\n"
     ]
    }
   ],
   "source": [
    "# задаю параметры\n",
    "param_grid = {'n_estimators': list(range(100, 200, 30)),\n",
    "              'min_samples_leaf': [5, 7],\n",
    "              'max_depth': [10, 15, 20, 25]\n",
    "              }\n",
    "# использую метод            \n",
    "grid_search_forest = GridSearchCV(\n",
    "    estimator=ensemble.RandomForestClassifier(random_state=42), \n",
    "    param_grid=param_grid, \n",
    "    cv=5, \n",
    "    n_jobs = -1\n",
    ")  \n",
    "grid_search_forest.fit(X_train, y_train) \n",
    "\n",
    "# вывожу метрику\n",
    "y_test_pred = grid_search_forest.predict(X_test)\n",
    "print('Метрика f1 на тестовом наборе: ', metrics.f1_score(y_test, y_test_pred).round(2))\n",
    "print('Наилучшие значения гиперпараметров: ', grid_search_forest.best_params_)"
   ]
  },
  {
   "attachments": {},
   "cell_type": "markdown",
   "metadata": {},
   "source": [
    "RandomizedSearchCV"
   ]
  },
  {
   "cell_type": "code",
   "execution_count": 17,
   "metadata": {},
   "outputs": [
    {
     "name": "stdout",
     "output_type": "stream",
     "text": [
      "Метрика f1 на тестовом наборе:  0.82\n",
      "Наилучшие значения гиперпараметров:  {'n_estimators': 160, 'min_samples_leaf': 5, 'max_depth': 20}\n"
     ]
    }
   ],
   "source": [
    "# задаю параметры\n",
    "param_distributions = {'n_estimators': list(range(100, 200, 30)),\n",
    "              'min_samples_leaf': [5, 7],\n",
    "              'max_depth': [10, 15, 20, 25]\n",
    "              }\n",
    "\n",
    "# использую метод            \n",
    "random_search_forest = RandomizedSearchCV(\n",
    "    estimator=ensemble.RandomForestClassifier(random_state=42), \n",
    "    param_distributions=param_distributions, \n",
    "    cv=5,\n",
    "    n_iter = 10, \n",
    "    n_jobs = -1\n",
    ")  \n",
    "random_search_forest.fit(X_train, y_train) \n",
    "\n",
    "# вывожу метрики\n",
    "y_test_pred = random_search_forest.predict(X_test)\n",
    "print('Метрика f1 на тестовом наборе: ', metrics.f1_score(y_test, y_test_pred).round(2))\n",
    "print('Наилучшие значения гиперпараметров: ',random_search_forest.best_params_)"
   ]
  },
  {
   "attachments": {},
   "cell_type": "markdown",
   "metadata": {},
   "source": [
    "Hyreport"
   ]
  },
  {
   "cell_type": "code",
   "execution_count": 18,
   "metadata": {},
   "outputs": [],
   "source": [
    "# задаю пространство поиска гиперпараметров\n",
    "space={'n_estimators': hp.quniform('n_estimators', low=100, high=300, q = 1),\n",
    "       'max_depth' : hp.quniform('max_depth', low=15, high=40,q =  1),\n",
    "       'min_samples_leaf': hp.quniform('min_samples_leaf', low=3, high=7, q = 1)\n",
    "      }\n",
    "\n",
    "random_state = 42\n",
    "def hyperopt_rf(params, cv=5, X=X_train, y=y_train, random_state=random_state):\n",
    "    params = {'n_estimators': int(params['n_estimators']), \n",
    "              'max_depth': int(params['max_depth']), \n",
    "             'min_samples_leaf': int(params['min_samples_leaf'])\n",
    "              }  \n",
    "    # обучаю модель\n",
    "    model = ensemble.RandomForestClassifier(**params, random_state=random_state)\n",
    "    # применяю кросс-валидацию\n",
    "    score = cross_val_score(model, X, y, cv=cv, scoring=\"f1\", n_jobs=-1).mean()\n",
    "    return -score"
   ]
  },
  {
   "cell_type": "code",
   "execution_count": 19,
   "metadata": {},
   "outputs": [
    {
     "name": "stdout",
     "output_type": "stream",
     "text": [
      "100%|██████████| 20/20 [00:51<00:00,  2.60s/trial, best loss: -0.8089126500268057]\n",
      "Наилучшие значения гиперпараметров {'max_depth': 22.0, 'min_samples_leaf': 3.0, 'n_estimators': 201.0}\n"
     ]
    }
   ],
   "source": [
    "# начинаю подбор гиперпараметров\n",
    "trials = Trials() # используется для логирования результатов\n",
    "\n",
    "best=fmin(hyperopt_rf, # наша функция \n",
    "          space=space, # пространство гиперпараметров\n",
    "          algo=tpe.suggest, # алгоритм оптимизации, установлен по умолчанию, задавать необязательно\n",
    "          max_evals=20, # максимальное количество итераций\n",
    "          trials=trials, # логирование результатов\n",
    "          rstate=np.random.default_rng(random_state)# фиксируем для повторяемости результата\n",
    "         )\n",
    "print('Наилучшие значения гиперпараметров', best)"
   ]
  },
  {
   "cell_type": "code",
   "execution_count": 21,
   "metadata": {},
   "outputs": [
    {
     "name": "stdout",
     "output_type": "stream",
     "text": [
      "Метрика f1 на тестовом наборе:  0.83\n"
     ]
    }
   ],
   "source": [
    "# метрика\n",
    "model = ensemble.RandomForestClassifier(\n",
    "    random_state=random_state, \n",
    "    n_estimators=int(best['n_estimators']),\n",
    "    max_depth=int(best['max_depth']),\n",
    "    min_samples_leaf=int(best['min_samples_leaf'])\n",
    ")\n",
    "model.fit(X_train, y_train)\n",
    "\n",
    "y_test_pred = model.predict(X_test)\n",
    "print('Метрика f1 на тестовом наборе: ', metrics.f1_score(y_test, y_test_pred).round(2))"
   ]
  },
  {
   "attachments": {},
   "cell_type": "markdown",
   "metadata": {},
   "source": [
    "Optuna"
   ]
  },
  {
   "cell_type": "code",
   "execution_count": 22,
   "metadata": {},
   "outputs": [
    {
     "name": "stderr",
     "output_type": "stream",
     "text": [
      "[I 2023-10-09 13:21:45,845] A new study created in memory with name: RandomForestClassifier\n",
      "[I 2023-10-09 13:21:47,234] Trial 0 finished with value: 0.8995713410900184 and parameters: {'n_estimators': 118, 'max_depth': 16, 'min_samples_leaf': 10}. Best is trial 0 with value: 0.8995713410900184.\n",
      "[I 2023-10-09 13:21:49,101] Trial 1 finished with value: 0.9437308868501528 and parameters: {'n_estimators': 133, 'max_depth': 15, 'min_samples_leaf': 5}. Best is trial 1 with value: 0.9437308868501528.\n",
      "[I 2023-10-09 13:21:51,215] Trial 2 finished with value: 0.9758335882532885 and parameters: {'n_estimators': 130, 'max_depth': 27, 'min_samples_leaf': 3}. Best is trial 2 with value: 0.9758335882532885.\n",
      "[I 2023-10-09 13:21:54,096] Trial 3 finished with value: 0.9917254060680356 and parameters: {'n_estimators': 161, 'max_depth': 23, 'min_samples_leaf': 2}. Best is trial 3 with value: 0.9917254060680356.\n",
      "[I 2023-10-09 13:21:56,347] Trial 4 finished with value: 0.9008844159804817 and parameters: {'n_estimators': 190, 'max_depth': 20, 'min_samples_leaf': 10}. Best is trial 3 with value: 0.9917254060680356.\n",
      "[I 2023-10-09 13:21:57,681] Trial 5 finished with value: 0.9245340666055606 and parameters: {'n_estimators': 101, 'max_depth': 23, 'min_samples_leaf': 7}. Best is trial 3 with value: 0.9917254060680356.\n",
      "[I 2023-10-09 13:22:00,015] Trial 6 finished with value: 0.9164882226980728 and parameters: {'n_estimators': 187, 'max_depth': 26, 'min_samples_leaf': 8}. Best is trial 3 with value: 0.9917254060680356.\n",
      "[I 2023-10-09 13:22:01,780] Trial 7 finished with value: 0.9359877488514549 and parameters: {'n_estimators': 127, 'max_depth': 28, 'min_samples_leaf': 6}. Best is trial 3 with value: 0.9917254060680356.\n",
      "[I 2023-10-09 13:22:04,285] Trial 8 finished with value: 0.9288114879315612 and parameters: {'n_estimators': 195, 'max_depth': 11, 'min_samples_leaf': 4}. Best is trial 3 with value: 0.9917254060680356.\n",
      "[I 2023-10-09 13:22:05,608] Trial 9 finished with value: 0.9047037263286499 and parameters: {'n_estimators': 103, 'max_depth': 27, 'min_samples_leaf': 9}. Best is trial 3 with value: 0.9917254060680356.\n",
      "[I 2023-10-09 13:22:08,465] Trial 10 finished with value: 0.9914163090128756 and parameters: {'n_estimators': 163, 'max_depth': 21, 'min_samples_leaf': 2}. Best is trial 3 with value: 0.9917254060680356.\n",
      "[I 2023-10-09 13:22:11,322] Trial 11 finished with value: 0.9911070223857713 and parameters: {'n_estimators': 164, 'max_depth': 21, 'min_samples_leaf': 2}. Best is trial 3 with value: 0.9917254060680356.\n",
      "[I 2023-10-09 13:22:14,114] Trial 12 finished with value: 0.988653787181846 and parameters: {'n_estimators': 162, 'max_depth': 18, 'min_samples_leaf': 2}. Best is trial 3 with value: 0.9917254060680356.\n",
      "[I 2023-10-09 13:22:16,479] Trial 13 finished with value: 0.956548347613219 and parameters: {'n_estimators': 154, 'max_depth': 24, 'min_samples_leaf': 4}. Best is trial 3 with value: 0.9917254060680356.\n",
      "[I 2023-10-09 13:22:19,544] Trial 14 finished with value: 0.992651561543172 and parameters: {'n_estimators': 174, 'max_depth': 30, 'min_samples_leaf': 2}. Best is trial 14 with value: 0.992651561543172.\n",
      "[I 2023-10-09 13:22:22,232] Trial 15 finished with value: 0.9589963280293757 and parameters: {'n_estimators': 177, 'max_depth': 30, 'min_samples_leaf': 4}. Best is trial 14 with value: 0.992651561543172.\n",
      "[I 2023-10-09 13:22:25,135] Trial 16 finished with value: 0.9779816513761468 and parameters: {'n_estimators': 177, 'max_depth': 30, 'min_samples_leaf': 3}. Best is trial 14 with value: 0.992651561543172.\n",
      "[I 2023-10-09 13:22:27,167] Trial 17 finished with value: 0.9357798165137615 and parameters: {'n_estimators': 146, 'max_depth': 24, 'min_samples_leaf': 6}. Best is trial 14 with value: 0.992651561543172.\n",
      "[I 2023-10-09 13:22:29,396] Trial 18 finished with value: 0.923406862745098 and parameters: {'n_estimators': 177, 'max_depth': 10, 'min_samples_leaf': 3}. Best is trial 14 with value: 0.992651561543172.\n",
      "[I 2023-10-09 13:22:31,403] Trial 19 finished with value: 0.9345965770171148 and parameters: {'n_estimators': 149, 'max_depth': 13, 'min_samples_leaf': 5}. Best is trial 14 with value: 0.992651561543172.\n"
     ]
    }
   ],
   "source": [
    "def optuna_rf(trial):\n",
    "  # задаю пространства поиска гиперпараметров\n",
    "  n_estimators = trial.suggest_int('n_estimators', 100, 200, 1)\n",
    "  max_depth = trial.suggest_int('max_depth', 10, 30, 1)\n",
    "  min_samples_leaf = trial.suggest_int('min_samples_leaf', 2, 10, 1)\n",
    "\n",
    "  # создаю модель\n",
    "  model = ensemble.RandomForestClassifier(n_estimators=n_estimators,\n",
    "                                          max_depth=max_depth,\n",
    "                                          min_samples_leaf=min_samples_leaf,\n",
    "                                          random_state=random_state)\n",
    "  # обучаю модель\n",
    "  model.fit(X_train, y_train)\n",
    "  score = metrics.f1_score(y_train, model.predict(X_train))\n",
    "\n",
    "  return score\n",
    "\n",
    "# cоздаю объект исследования\n",
    "study = optuna.create_study(study_name=\"RandomForestClassifier\", direction=\"maximize\")\n",
    "# ищу лучшую комбинацию гиперпараметров\n",
    "study.optimize(optuna_rf, n_trials=20)"
   ]
  },
  {
   "cell_type": "code",
   "execution_count": 26,
   "metadata": {},
   "outputs": [
    {
     "name": "stdout",
     "output_type": "stream",
     "text": [
      "Наилучшие значения гиперпараметров {'n_estimators': 174, 'max_depth': 30, 'min_samples_leaf': 2}\n"
     ]
    }
   ],
   "source": [
    "# результаты на обучающей выборке\n",
    "print(\"Наилучшие значения гиперпараметров {}\".format(study.best_params))"
   ]
  },
  {
   "cell_type": "code",
   "execution_count": 25,
   "metadata": {},
   "outputs": [
    {
     "name": "stdout",
     "output_type": "stream",
     "text": [
      "Метрика f1 на тестовом наборе:  0.82\n"
     ]
    }
   ],
   "source": [
    "# результаты для тестовой выборки\n",
    "model = ensemble.RandomForestClassifier(**study.best_params,random_state=random_state, )\n",
    "model.fit(X_train, y_train)\n",
    "\n",
    "\n",
    "y_test_pred = model.predict(X_test)\n",
    "print('Метрика f1 на тестовом наборе: ', metrics.f1_score(y_test, y_test_pred).round(2))"
   ]
  },
  {
   "attachments": {},
   "cell_type": "markdown",
   "metadata": {},
   "source": [
    "Выводы для модели случайного леса\n",
    "\n",
    "Метрики F1:\n",
    "\n",
    "Модель с параметрами по умолчанию - 0.81\n",
    "\n",
    "GridSearchCV - 0.82\n",
    "\n",
    "RandomizedSearchCV - 0.82\n",
    "\n",
    "Hyperopt - 0.83 (лучший результат)\n",
    "\n",
    "Optuna - 0.82"
   ]
  },
  {
   "attachments": {},
   "cell_type": "markdown",
   "metadata": {},
   "source": [
    "#### Вывод проекта\n",
    "\n",
    "#### Наилучший подбор гиперпараметров удалось зафиксировать у модели случайного леса методом Hyperopt.\n",
    "\n",
    "#### Наилучшие значения гиперпараметров данного проекта {'max_depth': 22.0, 'min_samples_leaf': 3.0, 'n_estimators': 201.0}."
   ]
  },
  {
   "cell_type": "markdown",
   "metadata": {},
   "source": []
  }
 ],
 "metadata": {
  "kernelspec": {
   "display_name": "Python 3",
   "language": "python",
   "name": "python3"
  },
  "language_info": {
   "codemirror_mode": {
    "name": "ipython",
    "version": 3
   },
   "file_extension": ".py",
   "mimetype": "text/x-python",
   "name": "python",
   "nbconvert_exporter": "python",
   "pygments_lexer": "ipython3",
   "version": "3.11.0"
  },
  "orig_nbformat": 4,
  "vscode": {
   "interpreter": {
    "hash": "697232e0b8e789ec23fe933c912406e74fbc7d569e5486b9b29a637f977feb44"
   }
  }
 },
 "nbformat": 4,
 "nbformat_minor": 2
}
