{
 "cells": [
  {
   "attachments": {},
   "cell_type": "markdown",
   "metadata": {},
   "source": [
    "# ИССЛЕДОВАНИЕ ДАННЫХ HR-АГЕНТСТВА\n",
    "\n"
   ]
  },
  {
   "attachments": {},
   "cell_type": "markdown",
   "metadata": {},
   "source": [
    "В процессе анализа датасета необходимо:\n",
    "\n",
    "Выяснить, какие факторы влияют на зарплату специалиста Data Scientist.\n",
    "А также ответить на ключевые вопросы HR-агентства:\n",
    " - Наблюдается ли ежегодный рост зарплат у специалистов Data Scientist?\n",
    " - Как соотносятся зарплаты Data Scientist и Data Engineer в 2022 году?\n",
    " - Как соотносятся зарплаты специалистов Data Scientist в компаниях различных размеров?\n",
    " - Есть ли связь между наличием должностей Data Scientist и Data Engineer и размером компании?\n",
    "\n",
    "Продемонстрировать использование разных тестов для проверки статистической значимости сделанных выводов."
   ]
  },
  {
   "cell_type": "code",
   "execution_count": 127,
   "metadata": {},
   "outputs": [],
   "source": [
    "# загружаю библиотеки\n",
    "\n",
    "import pandas as pd\n",
    "import numpy as np\n",
    "import scipy.stats as stats\n",
    "from scipy import stats\n",
    "import statsmodels.api as sm\n",
    "from statsmodels import stats as sms\n",
    "import matplotlib.pyplot as plt\n",
    "import seaborn as sns\n",
    "import category_encoders as ce\n",
    "\n",
    "# делаю визуальную настройку графиков\n",
    "sns.set_theme(\"notebook\") \n",
    "sns.set_palette(\"Set2\") "
   ]
  },
  {
   "attachments": {},
   "cell_type": "markdown",
   "metadata": {},
   "source": [
    "Классифицирую признаки:\n",
    "\n",
    "Unnamed: 0 - числовой\n",
    "work_year - числовой\n",
    "experience_level - категориальный\n",
    "employment_type - категориальный\n",
    "job_title - категориальный\n",
    "salary - числовой\n",
    "salary_currency - категориальный\n",
    "salary_in_usd - числовой\n",
    "employee_residence - категориальный\n",
    "remote_ratio - категориальный (хотя и состоит из цифр)\n",
    "company_location - категориальный\n",
    "company_size - категориальный"
   ]
  },
  {
   "cell_type": "code",
   "execution_count": 128,
   "metadata": {},
   "outputs": [
    {
     "data": {
      "text/html": [
       "<div>\n",
       "<style scoped>\n",
       "    .dataframe tbody tr th:only-of-type {\n",
       "        vertical-align: middle;\n",
       "    }\n",
       "\n",
       "    .dataframe tbody tr th {\n",
       "        vertical-align: top;\n",
       "    }\n",
       "\n",
       "    .dataframe thead th {\n",
       "        text-align: right;\n",
       "    }\n",
       "</style>\n",
       "<table border=\"1\" class=\"dataframe\">\n",
       "  <thead>\n",
       "    <tr style=\"text-align: right;\">\n",
       "      <th></th>\n",
       "      <th>Unnamed: 0</th>\n",
       "      <th>work_year</th>\n",
       "      <th>experience_level</th>\n",
       "      <th>employment_type</th>\n",
       "      <th>job_title</th>\n",
       "      <th>salary</th>\n",
       "      <th>salary_currency</th>\n",
       "      <th>salary_in_usd</th>\n",
       "      <th>employee_residence</th>\n",
       "      <th>remote_ratio</th>\n",
       "      <th>company_location</th>\n",
       "      <th>company_size</th>\n",
       "    </tr>\n",
       "  </thead>\n",
       "  <tbody>\n",
       "    <tr>\n",
       "      <th>0</th>\n",
       "      <td>0</td>\n",
       "      <td>2020</td>\n",
       "      <td>MI</td>\n",
       "      <td>FT</td>\n",
       "      <td>Data Scientist</td>\n",
       "      <td>70000</td>\n",
       "      <td>EUR</td>\n",
       "      <td>79833</td>\n",
       "      <td>DE</td>\n",
       "      <td>0</td>\n",
       "      <td>DE</td>\n",
       "      <td>L</td>\n",
       "    </tr>\n",
       "    <tr>\n",
       "      <th>1</th>\n",
       "      <td>1</td>\n",
       "      <td>2020</td>\n",
       "      <td>SE</td>\n",
       "      <td>FT</td>\n",
       "      <td>Machine Learning Scientist</td>\n",
       "      <td>260000</td>\n",
       "      <td>USD</td>\n",
       "      <td>260000</td>\n",
       "      <td>JP</td>\n",
       "      <td>0</td>\n",
       "      <td>JP</td>\n",
       "      <td>S</td>\n",
       "    </tr>\n",
       "    <tr>\n",
       "      <th>2</th>\n",
       "      <td>2</td>\n",
       "      <td>2020</td>\n",
       "      <td>SE</td>\n",
       "      <td>FT</td>\n",
       "      <td>Big Data Engineer</td>\n",
       "      <td>85000</td>\n",
       "      <td>GBP</td>\n",
       "      <td>109024</td>\n",
       "      <td>GB</td>\n",
       "      <td>50</td>\n",
       "      <td>GB</td>\n",
       "      <td>M</td>\n",
       "    </tr>\n",
       "    <tr>\n",
       "      <th>3</th>\n",
       "      <td>3</td>\n",
       "      <td>2020</td>\n",
       "      <td>MI</td>\n",
       "      <td>FT</td>\n",
       "      <td>Product Data Analyst</td>\n",
       "      <td>20000</td>\n",
       "      <td>USD</td>\n",
       "      <td>20000</td>\n",
       "      <td>HN</td>\n",
       "      <td>0</td>\n",
       "      <td>HN</td>\n",
       "      <td>S</td>\n",
       "    </tr>\n",
       "    <tr>\n",
       "      <th>4</th>\n",
       "      <td>4</td>\n",
       "      <td>2020</td>\n",
       "      <td>SE</td>\n",
       "      <td>FT</td>\n",
       "      <td>Machine Learning Engineer</td>\n",
       "      <td>150000</td>\n",
       "      <td>USD</td>\n",
       "      <td>150000</td>\n",
       "      <td>US</td>\n",
       "      <td>50</td>\n",
       "      <td>US</td>\n",
       "      <td>L</td>\n",
       "    </tr>\n",
       "    <tr>\n",
       "      <th>...</th>\n",
       "      <td>...</td>\n",
       "      <td>...</td>\n",
       "      <td>...</td>\n",
       "      <td>...</td>\n",
       "      <td>...</td>\n",
       "      <td>...</td>\n",
       "      <td>...</td>\n",
       "      <td>...</td>\n",
       "      <td>...</td>\n",
       "      <td>...</td>\n",
       "      <td>...</td>\n",
       "      <td>...</td>\n",
       "    </tr>\n",
       "    <tr>\n",
       "      <th>602</th>\n",
       "      <td>602</td>\n",
       "      <td>2022</td>\n",
       "      <td>SE</td>\n",
       "      <td>FT</td>\n",
       "      <td>Data Engineer</td>\n",
       "      <td>154000</td>\n",
       "      <td>USD</td>\n",
       "      <td>154000</td>\n",
       "      <td>US</td>\n",
       "      <td>100</td>\n",
       "      <td>US</td>\n",
       "      <td>M</td>\n",
       "    </tr>\n",
       "    <tr>\n",
       "      <th>603</th>\n",
       "      <td>603</td>\n",
       "      <td>2022</td>\n",
       "      <td>SE</td>\n",
       "      <td>FT</td>\n",
       "      <td>Data Engineer</td>\n",
       "      <td>126000</td>\n",
       "      <td>USD</td>\n",
       "      <td>126000</td>\n",
       "      <td>US</td>\n",
       "      <td>100</td>\n",
       "      <td>US</td>\n",
       "      <td>M</td>\n",
       "    </tr>\n",
       "    <tr>\n",
       "      <th>604</th>\n",
       "      <td>604</td>\n",
       "      <td>2022</td>\n",
       "      <td>SE</td>\n",
       "      <td>FT</td>\n",
       "      <td>Data Analyst</td>\n",
       "      <td>129000</td>\n",
       "      <td>USD</td>\n",
       "      <td>129000</td>\n",
       "      <td>US</td>\n",
       "      <td>0</td>\n",
       "      <td>US</td>\n",
       "      <td>M</td>\n",
       "    </tr>\n",
       "    <tr>\n",
       "      <th>605</th>\n",
       "      <td>605</td>\n",
       "      <td>2022</td>\n",
       "      <td>SE</td>\n",
       "      <td>FT</td>\n",
       "      <td>Data Analyst</td>\n",
       "      <td>150000</td>\n",
       "      <td>USD</td>\n",
       "      <td>150000</td>\n",
       "      <td>US</td>\n",
       "      <td>100</td>\n",
       "      <td>US</td>\n",
       "      <td>M</td>\n",
       "    </tr>\n",
       "    <tr>\n",
       "      <th>606</th>\n",
       "      <td>606</td>\n",
       "      <td>2022</td>\n",
       "      <td>MI</td>\n",
       "      <td>FT</td>\n",
       "      <td>AI Scientist</td>\n",
       "      <td>200000</td>\n",
       "      <td>USD</td>\n",
       "      <td>200000</td>\n",
       "      <td>IN</td>\n",
       "      <td>100</td>\n",
       "      <td>US</td>\n",
       "      <td>L</td>\n",
       "    </tr>\n",
       "  </tbody>\n",
       "</table>\n",
       "<p>607 rows × 12 columns</p>\n",
       "</div>"
      ],
      "text/plain": [
       "     Unnamed: 0  work_year experience_level employment_type  \\\n",
       "0             0       2020               MI              FT   \n",
       "1             1       2020               SE              FT   \n",
       "2             2       2020               SE              FT   \n",
       "3             3       2020               MI              FT   \n",
       "4             4       2020               SE              FT   \n",
       "..          ...        ...              ...             ...   \n",
       "602         602       2022               SE              FT   \n",
       "603         603       2022               SE              FT   \n",
       "604         604       2022               SE              FT   \n",
       "605         605       2022               SE              FT   \n",
       "606         606       2022               MI              FT   \n",
       "\n",
       "                      job_title  salary salary_currency  salary_in_usd  \\\n",
       "0                Data Scientist   70000             EUR          79833   \n",
       "1    Machine Learning Scientist  260000             USD         260000   \n",
       "2             Big Data Engineer   85000             GBP         109024   \n",
       "3          Product Data Analyst   20000             USD          20000   \n",
       "4     Machine Learning Engineer  150000             USD         150000   \n",
       "..                          ...     ...             ...            ...   \n",
       "602               Data Engineer  154000             USD         154000   \n",
       "603               Data Engineer  126000             USD         126000   \n",
       "604                Data Analyst  129000             USD         129000   \n",
       "605                Data Analyst  150000             USD         150000   \n",
       "606                AI Scientist  200000             USD         200000   \n",
       "\n",
       "    employee_residence  remote_ratio company_location company_size  \n",
       "0                   DE             0               DE            L  \n",
       "1                   JP             0               JP            S  \n",
       "2                   GB            50               GB            M  \n",
       "3                   HN             0               HN            S  \n",
       "4                   US            50               US            L  \n",
       "..                 ...           ...              ...          ...  \n",
       "602                 US           100               US            M  \n",
       "603                 US           100               US            M  \n",
       "604                 US             0               US            M  \n",
       "605                 US           100               US            M  \n",
       "606                 IN           100               US            L  \n",
       "\n",
       "[607 rows x 12 columns]"
      ]
     },
     "execution_count": 128,
     "metadata": {},
     "output_type": "execute_result"
    }
   ],
   "source": [
    "# загружаю датасет\n",
    "salaries = pd.read_csv('ds_salaries.csv')\n",
    "salaries"
   ]
  },
  {
   "cell_type": "code",
   "execution_count": 129,
   "metadata": {},
   "outputs": [],
   "source": [
    "# задаю уровень значимости\n",
    "\n",
    "alpha = 0.05"
   ]
  },
  {
   "cell_type": "markdown",
   "metadata": {},
   "source": [
    "# Описательный анализ данных"
   ]
  },
  {
   "cell_type": "code",
   "execution_count": 130,
   "metadata": {},
   "outputs": [
    {
     "name": "stdout",
     "output_type": "stream",
     "text": [
      "<class 'pandas.core.frame.DataFrame'>\n",
      "RangeIndex: 607 entries, 0 to 606\n",
      "Data columns (total 12 columns):\n",
      " #   Column              Non-Null Count  Dtype \n",
      "---  ------              --------------  ----- \n",
      " 0   Unnamed: 0          607 non-null    int64 \n",
      " 1   work_year           607 non-null    int64 \n",
      " 2   experience_level    607 non-null    object\n",
      " 3   employment_type     607 non-null    object\n",
      " 4   job_title           607 non-null    object\n",
      " 5   salary              607 non-null    int64 \n",
      " 6   salary_currency     607 non-null    object\n",
      " 7   salary_in_usd       607 non-null    int64 \n",
      " 8   employee_residence  607 non-null    object\n",
      " 9   remote_ratio        607 non-null    int64 \n",
      " 10  company_location    607 non-null    object\n",
      " 11  company_size        607 non-null    object\n",
      "dtypes: int64(5), object(7)\n",
      "memory usage: 57.0+ KB\n"
     ]
    }
   ],
   "source": [
    "salaries.info()"
   ]
  },
  {
   "attachments": {},
   "cell_type": "markdown",
   "metadata": {},
   "source": [
    "В датасете 607 записей, без пропущенных значений\n",
    "\n",
    "\n",
    "### Классифицирую признаки:\n",
    "\n",
    "Unnamed: 0 - числовой\n",
    "\n",
    "work_year - числовой\n",
    "\n",
    "experience_level - категориальный\n",
    "\n",
    "employment_type - категориальный\n",
    "\n",
    "job_title - категориальный\n",
    "\n",
    "salary - числовой\n",
    "\n",
    "salary_currency - категориальный\n",
    "\n",
    "salary_in_usd - числовой\n",
    "\n",
    "employee_residence - категориальный\n",
    "\n",
    "remote_ratio - категориальный (хотя и состоит из цифр)\n",
    "\n",
    "company_location - категориальный\n",
    "\n",
    "company_size - категориальный"
   ]
  },
  {
   "cell_type": "code",
   "execution_count": 131,
   "metadata": {},
   "outputs": [
    {
     "name": "stdout",
     "output_type": "stream",
     "text": [
      "Количество дубликатов: 0\n"
     ]
    }
   ],
   "source": [
    "# проверяю на наличие дубликатов\n",
    "\n",
    "print('Количество дубликатов: {}'.format(salaries[salaries.duplicated()].shape[0]))"
   ]
  },
  {
   "attachments": {},
   "cell_type": "markdown",
   "metadata": {},
   "source": [
    "Исследовав признаки датасетапришла к выводу о неинформативности столбцов Unnamed: 0, salary и salary_currency, так как в данных имеется признак salary_in_usd, на основе которого я и буду производить свой анализ. \n",
    "\n",
    "По сути мне и необходимо, чтобы зарплата была приведена в одну валюту, чтобы можно было проводить сравнительные исследования. На основании этого я избавлюсь от признаков Unnamed: 0,salary и salary_currency."
   ]
  },
  {
   "cell_type": "code",
   "execution_count": 107,
   "metadata": {},
   "outputs": [],
   "source": [
    "# удаляю не информативные признаки\n",
    "\n",
    "salaries = salaries.drop(['salary_currency', 'salary', 'Unnamed: 0'] , axis=1)\n"
   ]
  },
  {
   "cell_type": "code",
   "execution_count": 132,
   "metadata": {},
   "outputs": [
    {
     "data": {
      "text/plain": [
       "[Text(0.5, 0, 'Зарплата в долларах'), Text(0, 0.5, 'Частота')]"
      ]
     },
     "execution_count": 132,
     "metadata": {},
     "output_type": "execute_result"
    },
    {
     "data": {
      "image/png": "[encoded data removed]",
      "text/plain": [
       "<Figure size 640x480 with 1 Axes>"
      ]
     },
     "metadata": {},
     "output_type": "display_data"
    }
   ],
   "source": [
    "# строю гистограмму распределения зарплат\n",
    "\n",
    "salary_hist = sns.histplot(salaries['salary_in_usd'], kde = True)\n",
    "salary_hist.axvline(salaries['salary_in_usd'].mean(), color='red', linestyle='--', linewidth=0.8)\n",
    "salary_hist.set_title('Распределение зарплат')\n",
    "salary_hist.set(xlabel = 'Зарплата в долларах', ylabel= 'Частота')"
   ]
  },
  {
   "cell_type": "code",
   "execution_count": 133,
   "metadata": {},
   "outputs": [
    {
     "data": {
      "text/plain": [
       "[Text(0.5, 0, 'Зарплата в долларах')]"
      ]
     },
     "execution_count": 133,
     "metadata": {},
     "output_type": "execute_result"
    },
    {
     "data": {
      "image/png": "[encoded data removed]",
      "text/plain": [
       "<Figure size 640x480 with 1 Axes>"
      ]
     },
     "metadata": {},
     "output_type": "display_data"
    }
   ],
   "source": [
    "#строю коробчатую диаграмму распределения зарплат\n",
    "\n",
    "salary_box = sns.boxplot(salaries['salary_in_usd'], orient='h', medianprops={\"color\": \"red\", \"linestyle\": '--'})\n",
    "salary_box.set_title('Распределение зарплат')\n",
    "salary_box.set(xlabel = 'Зарплата в долларах')"
   ]
  },
  {
   "cell_type": "code",
   "execution_count": 134,
   "metadata": {},
   "outputs": [
    {
     "data": {
      "text/plain": [
       "count       607.0\n",
       "mean     112298.0\n",
       "std       70957.0\n",
       "min        2859.0\n",
       "25%       62726.0\n",
       "50%      101570.0\n",
       "75%      150000.0\n",
       "max      600000.0\n",
       "Name: salary_in_usd, dtype: float64"
      ]
     },
     "execution_count": 134,
     "metadata": {},
     "output_type": "execute_result"
    }
   ],
   "source": [
    "# отображаю основные статистические характеристики данных о зарплате\n",
    "\n",
    "salaries['salary_in_usd'].describe().round()"
   ]
  },
  {
   "attachments": {},
   "cell_type": "markdown",
   "metadata": {},
   "source": [
    "Итак, данные о зарплате в долларах имеют распределение отличное от нормального.\n",
    "\n",
    "Среднее значение 112298\n",
    "Медиана - 101570\n",
    "Минимум - 2859, максимум - 600000\n",
    "\n",
    "В данных имеются выбросы."
   ]
  },
  {
   "cell_type": "code",
   "execution_count": 135,
   "metadata": {},
   "outputs": [
    {
     "data": {
      "text/plain": [
       "count                607\n",
       "unique                50\n",
       "top       Data Scientist\n",
       "freq                 143\n",
       "Name: job_title, dtype: object"
      ]
     },
     "execution_count": 135,
     "metadata": {},
     "output_type": "execute_result"
    }
   ],
   "source": [
    "#рассмотрю стат х-ки ещё нескольких мне интересных признаков\n",
    "\n",
    "salaries['job_title'].describe()"
   ]
  },
  {
   "attachments": {},
   "cell_type": "markdown",
   "metadata": {},
   "source": [
    "В признаке профессий имеется 50 различных значений, самое часто встречающееся - Data Scientist"
   ]
  },
  {
   "cell_type": "code",
   "execution_count": 136,
   "metadata": {},
   "outputs": [
    {
     "data": {
      "text/plain": [
       "count     607\n",
       "unique     50\n",
       "top        US\n",
       "freq      355\n",
       "Name: company_location, dtype: object"
      ]
     },
     "execution_count": 136,
     "metadata": {},
     "output_type": "execute_result"
    }
   ],
   "source": [
    "salaries['company_location'].describe()"
   ]
  },
  {
   "cell_type": "code",
   "execution_count": 137,
   "metadata": {},
   "outputs": [
    {
     "data": {
      "text/plain": [
       "count     607\n",
       "unique      4\n",
       "top        SE\n",
       "freq      280\n",
       "Name: experience_level, dtype: object"
      ]
     },
     "execution_count": 137,
     "metadata": {},
     "output_type": "execute_result"
    }
   ],
   "source": [
    "salaries['experience_level'].describe()"
   ]
  },
  {
   "attachments": {},
   "cell_type": "markdown",
   "metadata": {},
   "source": [
    "\n",
    "### Наблюдается ли ежегодный рост зарплат у специалистов Data Scientist?"
   ]
  },
  {
   "cell_type": "code",
   "execution_count": 138,
   "metadata": {},
   "outputs": [
    {
     "data": {
      "text/plain": [
       "Text(0.5, 1.0, 'Распределение ЗП Data Scientist по годам')"
      ]
     },
     "execution_count": 138,
     "metadata": {},
     "output_type": "execute_result"
    },
    {
     "data": {
      "image/png": "[encoded data removed]",
      "text/plain": [
       "<Figure size 640x480 with 1 Axes>"
      ]
     },
     "metadata": {},
     "output_type": "display_data"
    }
   ],
   "source": [
    "# построю диаграмму распределения зарплат (в долларах) по годам\n",
    "# уточнение - под \"специалистами Data Scientist\", я подразумеваю весь датасет, тк в задании не указано, что имеется в виду конкретная должность.\n",
    "\n",
    "salary_year = sns.boxplot(data = salaries, x ='salary_in_usd', y = 'work_year', orient='h', medianprops={\"color\": \"red\", \"linestyle\": '--'})\n",
    "salary_year.set(xlabel='Размер ЗП', ylabel='Год')\n",
    "plt.title('Распределение ЗП Data Scientist по годам')"
   ]
  },
  {
   "cell_type": "code",
   "execution_count": 139,
   "metadata": {},
   "outputs": [
    {
     "name": "stdout",
     "output_type": "stream",
     "text": [
      "Заработная плата в зависимости от года\n"
     ]
    },
    {
     "data": {
      "text/html": [
       "<div>\n",
       "<style scoped>\n",
       "    .dataframe tbody tr th:only-of-type {\n",
       "        vertical-align: middle;\n",
       "    }\n",
       "\n",
       "    .dataframe tbody tr th {\n",
       "        vertical-align: top;\n",
       "    }\n",
       "\n",
       "    .dataframe thead th {\n",
       "        text-align: right;\n",
       "    }\n",
       "</style>\n",
       "<table border=\"1\" class=\"dataframe\">\n",
       "  <thead>\n",
       "    <tr style=\"text-align: right;\">\n",
       "      <th></th>\n",
       "      <th>count</th>\n",
       "      <th>mean</th>\n",
       "      <th>std</th>\n",
       "      <th>min</th>\n",
       "      <th>25%</th>\n",
       "      <th>50%</th>\n",
       "      <th>75%</th>\n",
       "      <th>max</th>\n",
       "    </tr>\n",
       "    <tr>\n",
       "      <th>work_year</th>\n",
       "      <th></th>\n",
       "      <th></th>\n",
       "      <th></th>\n",
       "      <th></th>\n",
       "      <th></th>\n",
       "      <th></th>\n",
       "      <th></th>\n",
       "      <th></th>\n",
       "    </tr>\n",
       "  </thead>\n",
       "  <tbody>\n",
       "    <tr>\n",
       "      <th>2020</th>\n",
       "      <td>72.0</td>\n",
       "      <td>95813.00</td>\n",
       "      <td>82831.80</td>\n",
       "      <td>5707.0</td>\n",
       "      <td>45724.5</td>\n",
       "      <td>75544.0</td>\n",
       "      <td>115526.0</td>\n",
       "      <td>450000.0</td>\n",
       "    </tr>\n",
       "    <tr>\n",
       "      <th>2021</th>\n",
       "      <td>217.0</td>\n",
       "      <td>99853.79</td>\n",
       "      <td>80225.11</td>\n",
       "      <td>2859.0</td>\n",
       "      <td>50000.0</td>\n",
       "      <td>82528.0</td>\n",
       "      <td>135000.0</td>\n",
       "      <td>600000.0</td>\n",
       "    </tr>\n",
       "    <tr>\n",
       "      <th>2022</th>\n",
       "      <td>318.0</td>\n",
       "      <td>124522.01</td>\n",
       "      <td>58183.65</td>\n",
       "      <td>10000.0</td>\n",
       "      <td>81666.0</td>\n",
       "      <td>120000.0</td>\n",
       "      <td>160000.0</td>\n",
       "      <td>405000.0</td>\n",
       "    </tr>\n",
       "  </tbody>\n",
       "</table>\n",
       "</div>"
      ],
      "text/plain": [
       "           count       mean       std      min      25%       50%       75%  \\\n",
       "work_year                                                                     \n",
       "2020        72.0   95813.00  82831.80   5707.0  45724.5   75544.0  115526.0   \n",
       "2021       217.0   99853.79  80225.11   2859.0  50000.0   82528.0  135000.0   \n",
       "2022       318.0  124522.01  58183.65  10000.0  81666.0  120000.0  160000.0   \n",
       "\n",
       "                max  \n",
       "work_year            \n",
       "2020       450000.0  \n",
       "2021       600000.0  \n",
       "2022       405000.0  "
      ]
     },
     "execution_count": 139,
     "metadata": {},
     "output_type": "execute_result"
    }
   ],
   "source": [
    "# отображаю основные статистические характеристики данных\n",
    "\n",
    "salary_agg = salaries.groupby('work_year')['salary_in_usd'].describe().round(2)\n",
    "print('Заработная плата в зависимости от года')\n",
    "salary_agg"
   ]
  },
  {
   "attachments": {},
   "cell_type": "markdown",
   "metadata": {},
   "source": [
    "Визуально по диаграмме можно предположить, что в зависимости от года заработная плата растёт. \n",
    "Медиана каждый последующий год выше, средняя зп тоже выше, но в данных за 21 год имеются кричичные выбросы (особенно выброс в 600000). \n",
    "Даже на глаз видно, что динамика 21го года к 20му - не значительная или её вовсе нет.\n",
    "\n",
    "Будет ли это влиять на мои выводы при ответе на вопрос,я решу после статистического теста. \n",
    "\n",
    "А так же, сравню свои выводы на основании визуализации с тестами и пойму, статистически значим ли этот рост зп.\n"
   ]
  },
  {
   "attachments": {},
   "cell_type": "markdown",
   "metadata": {},
   "source": [
    "\n",
    "### Как соотносятся зарплаты Data Scientist и Data Engineer в 2022 году?"
   ]
  },
  {
   "cell_type": "code",
   "execution_count": 140,
   "metadata": {},
   "outputs": [
    {
     "data": {
      "text/html": [
       "<div>\n",
       "<style scoped>\n",
       "    .dataframe tbody tr th:only-of-type {\n",
       "        vertical-align: middle;\n",
       "    }\n",
       "\n",
       "    .dataframe tbody tr th {\n",
       "        vertical-align: top;\n",
       "    }\n",
       "\n",
       "    .dataframe thead th {\n",
       "        text-align: right;\n",
       "    }\n",
       "</style>\n",
       "<table border=\"1\" class=\"dataframe\">\n",
       "  <thead>\n",
       "    <tr style=\"text-align: right;\">\n",
       "      <th></th>\n",
       "      <th>count</th>\n",
       "      <th>mean</th>\n",
       "      <th>std</th>\n",
       "      <th>min</th>\n",
       "      <th>25%</th>\n",
       "      <th>50%</th>\n",
       "      <th>75%</th>\n",
       "      <th>max</th>\n",
       "    </tr>\n",
       "    <tr>\n",
       "      <th>job_title</th>\n",
       "      <th></th>\n",
       "      <th></th>\n",
       "      <th></th>\n",
       "      <th></th>\n",
       "      <th></th>\n",
       "      <th></th>\n",
       "      <th></th>\n",
       "      <th></th>\n",
       "    </tr>\n",
       "  </thead>\n",
       "  <tbody>\n",
       "    <tr>\n",
       "      <th>Data Engineer</th>\n",
       "      <td>89.0</td>\n",
       "      <td>126375.696629</td>\n",
       "      <td>55954.398677</td>\n",
       "      <td>25000.0</td>\n",
       "      <td>78526.0</td>\n",
       "      <td>120000.0</td>\n",
       "      <td>160000.0</td>\n",
       "      <td>324000.0</td>\n",
       "    </tr>\n",
       "    <tr>\n",
       "      <th>Data Scientist</th>\n",
       "      <td>77.0</td>\n",
       "      <td>136172.090909</td>\n",
       "      <td>54563.084740</td>\n",
       "      <td>18442.0</td>\n",
       "      <td>100000.0</td>\n",
       "      <td>140000.0</td>\n",
       "      <td>176000.0</td>\n",
       "      <td>260000.0</td>\n",
       "    </tr>\n",
       "  </tbody>\n",
       "</table>\n",
       "</div>"
      ],
      "text/plain": [
       "                count           mean           std      min       25%  \\\n",
       "job_title                                                               \n",
       "Data Engineer    89.0  126375.696629  55954.398677  25000.0   78526.0   \n",
       "Data Scientist   77.0  136172.090909  54563.084740  18442.0  100000.0   \n",
       "\n",
       "                     50%       75%       max  \n",
       "job_title                                     \n",
       "Data Engineer   120000.0  160000.0  324000.0  \n",
       "Data Scientist  140000.0  176000.0  260000.0  "
      ]
     },
     "execution_count": 140,
     "metadata": {},
     "output_type": "execute_result"
    },
    {
     "data": {
      "image/png": "[encoded data removed]",
      "text/plain": [
       "<Figure size 640x480 with 1 Axes>"
      ]
     },
     "metadata": {},
     "output_type": "display_data"
    }
   ],
   "source": [
    "mask = salaries['work_year'] == 2022 # фильтрую по году\n",
    "salary_2022 = salaries[mask]\n",
    "prof = ['Data Scientist', 'Data Engineer'] # фильтрую по профессии\n",
    "salary_prof = salary_2022.loc[salary_2022['job_title'].isin(prof)]\n",
    "\n",
    "# строю диаграмму\n",
    "salary_2022_box = sns.boxplot(data = salary_prof, x ='salary_in_usd', y = 'job_title', orient='h', medianprops={\"color\": \"red\", \"linestyle\": '--'})\n",
    "salary_2022_box.set(xlabel='Размер ЗП', ylabel='Профессия')\n",
    "plt.title('Распределение ЗП по профессиям в 2022 году')\n",
    "\n",
    "# отображаю основные статистические характеристики данных о зарплате\n",
    "salary_agg = salary_prof.groupby('job_title')['salary_in_usd'].describe()\n",
    "salary_agg"
   ]
  },
  {
   "attachments": {},
   "cell_type": "markdown",
   "metadata": {},
   "source": [
    "По диаграмме можно сделать вывод, что профессия Data Scientist оплачивалась в 2022 году выше, чем Data Engineer. \n",
    "\"Усы\" диаграмм так же разные, у DS они шире. Сама \"коробка\" у DS смещена правее, вместе с медианой.\n",
    "\n",
    "Статистически значима ли эта разница пойму сделав тесты."
   ]
  },
  {
   "attachments": {},
   "cell_type": "markdown",
   "metadata": {},
   "source": [
    "### Как соотносятся зарплаты специалистов Data Scientist в компаниях различных размеров?\n"
   ]
  },
  {
   "cell_type": "code",
   "execution_count": 141,
   "metadata": {},
   "outputs": [
    {
     "data": {
      "text/html": [
       "<div>\n",
       "<style scoped>\n",
       "    .dataframe tbody tr th:only-of-type {\n",
       "        vertical-align: middle;\n",
       "    }\n",
       "\n",
       "    .dataframe tbody tr th {\n",
       "        vertical-align: top;\n",
       "    }\n",
       "\n",
       "    .dataframe thead th {\n",
       "        text-align: right;\n",
       "    }\n",
       "</style>\n",
       "<table border=\"1\" class=\"dataframe\">\n",
       "  <thead>\n",
       "    <tr style=\"text-align: right;\">\n",
       "      <th></th>\n",
       "      <th>count</th>\n",
       "      <th>mean</th>\n",
       "      <th>std</th>\n",
       "      <th>min</th>\n",
       "      <th>25%</th>\n",
       "      <th>50%</th>\n",
       "      <th>75%</th>\n",
       "      <th>max</th>\n",
       "    </tr>\n",
       "    <tr>\n",
       "      <th>company_size</th>\n",
       "      <th></th>\n",
       "      <th></th>\n",
       "      <th></th>\n",
       "      <th></th>\n",
       "      <th></th>\n",
       "      <th></th>\n",
       "      <th></th>\n",
       "      <th></th>\n",
       "    </tr>\n",
       "  </thead>\n",
       "  <tbody>\n",
       "    <tr>\n",
       "      <th>L</th>\n",
       "      <td>198.0</td>\n",
       "      <td>119243.0</td>\n",
       "      <td>86157.0</td>\n",
       "      <td>5882.0</td>\n",
       "      <td>61042.0</td>\n",
       "      <td>100000.0</td>\n",
       "      <td>154600.0</td>\n",
       "      <td>600000.0</td>\n",
       "    </tr>\n",
       "    <tr>\n",
       "      <th>M</th>\n",
       "      <td>326.0</td>\n",
       "      <td>116905.0</td>\n",
       "      <td>59288.0</td>\n",
       "      <td>4000.0</td>\n",
       "      <td>78132.0</td>\n",
       "      <td>113188.0</td>\n",
       "      <td>152875.0</td>\n",
       "      <td>450000.0</td>\n",
       "    </tr>\n",
       "    <tr>\n",
       "      <th>S</th>\n",
       "      <td>83.0</td>\n",
       "      <td>77633.0</td>\n",
       "      <td>63462.0</td>\n",
       "      <td>2859.0</td>\n",
       "      <td>41943.0</td>\n",
       "      <td>65000.0</td>\n",
       "      <td>100000.0</td>\n",
       "      <td>416000.0</td>\n",
       "    </tr>\n",
       "  </tbody>\n",
       "</table>\n",
       "</div>"
      ],
      "text/plain": [
       "              count      mean      std     min      25%       50%       75%  \\\n",
       "company_size                                                                  \n",
       "L             198.0  119243.0  86157.0  5882.0  61042.0  100000.0  154600.0   \n",
       "M             326.0  116905.0  59288.0  4000.0  78132.0  113188.0  152875.0   \n",
       "S              83.0   77633.0  63462.0  2859.0  41943.0   65000.0  100000.0   \n",
       "\n",
       "                   max  \n",
       "company_size            \n",
       "L             600000.0  \n",
       "M             450000.0  \n",
       "S             416000.0  "
      ]
     },
     "execution_count": 141,
     "metadata": {},
     "output_type": "execute_result"
    },
    {
     "data": {
      "image/png": "[encoded data removed]",
      "text/plain": [
       "<Figure size 640x480 with 1 Axes>"
      ]
     },
     "metadata": {},
     "output_type": "display_data"
    }
   ],
   "source": [
    "# уточнение - под \"специалистами Data Scientist\", я подразумеваю весь датасет, тк в задании не указано, что имеется в виду конкретная должность.\n",
    "# строю диаграмму\n",
    "\n",
    "salaries_ds_box = sns.boxplot(data = salaries, x = 'salary_in_usd' , y ='company_size',  orient='h', medianprops={\"color\": \"red\", \"linestyle\": '--'})\n",
    "salaries_ds_box.set(xlabel='Размер ЗП', ylabel='размер компании')\n",
    "plt.title('Распределение ЗП Data Scientist в зависимости от размера компании')\n",
    "\n",
    "# отображаю основные статистические характеристики данных о зарплате\n",
    "salary_agg = salaries.groupby('company_size')['salary_in_usd'].describe().round()\n",
    "salary_agg"
   ]
  },
  {
   "attachments": {},
   "cell_type": "markdown",
   "metadata": {},
   "source": [
    "Визуально заработные платы в компаниях размера S - меньше, чем в M и L. Но вот очевидную визуальную разницу между M и L отследить сложнее.\n",
    "\n",
    "Среднее значение выше у больших компаний, но в их данных имеется очевидный выброс в 600000 долларов.\n",
    "\n",
    "А вот по медиане можно судить, что в средних компаниях ЗП всё таки немного выше, чем в больших.\n",
    "\n",
    "Посмотрю, как на эти вопросы ответят тесты."
   ]
  },
  {
   "attachments": {},
   "cell_type": "markdown",
   "metadata": {},
   "source": [
    "### Есть ли связь между наличием должностей Data Scientist и Data Engineer и размером компании?"
   ]
  },
  {
   "cell_type": "code",
   "execution_count": 142,
   "metadata": {},
   "outputs": [
    {
     "data": {
      "image/png": "[encoded data removed]",
      "text/plain": [
       "<Figure size 640x480 with 1 Axes>"
      ]
     },
     "metadata": {},
     "output_type": "display_data"
    }
   ],
   "source": [
    "prof2 = ['Data Engineer', 'Data Scientist'] # фильтрую по профессии\n",
    "salary_prof = salaries.loc[salaries['job_title'].isin(prof2)]\n",
    "\n",
    "salary_prof = pd.get_dummies(salary_prof, columns=['job_title']) # кодирую признак профессии\n",
    "\n",
    "# строю график\n",
    "ax = sns.countplot(data=salary_prof, x=salary_prof['job_title_Data Engineer'], hue='company_size')\n",
    "ax.set(xlabel='Должность (0-Data Scientist,    1-Data Engineer)', ylabel='Количество должностей')\n",
    "plt.title('Зависимость наличия должностей DS и DE от размера компании')\n",
    "plt.show()\n"
   ]
  },
  {
   "attachments": {},
   "cell_type": "markdown",
   "metadata": {},
   "source": [
    "Визуально наблюдается прямая связь между размером компании и количеством вакансий соответствующих профессий.\n",
    "\n",
    "Чем компания больше - тем больше специалистов она ищет. Далее проверю этот вывод тестами."
   ]
  },
  {
   "attachments": {},
   "cell_type": "markdown",
   "metadata": {},
   "source": [
    "## Статистический анализ данных\n"
   ]
  },
  {
   "cell_type": "code",
   "execution_count": 143,
   "metadata": {},
   "outputs": [],
   "source": [
    "# функция для принятия решения о нормальности\n",
    "def decision_normality(p):\n",
    "    print('p-value = {:.3f}'.format(p))\n",
    "    if p <= alpha:\n",
    "        print('p-значение меньше, чем заданный уровень значимости {:.2f}. Распределение отлично от нормального'.format(alpha))\n",
    "    else:\n",
    "        print('p-значение больше, чем заданный уровень значимости {:.2f}. Распределение является нормальным'.format(alpha))\n",
    "\n",
    "\n",
    "# функция для принятия решения об отклонении нулевой гипотезы\n",
    "def decision_hypothesis(p):\n",
    "    print('p-value = {:.3f}'.format(p))\n",
    "    if p <= alpha:\n",
    "        print('p-значение меньше, чем заданный уровень значимости {:.2f}. Отвергаем нулевую гипотезу в пользу альтернативной.'.format(alpha))\n",
    "    else:\n",
    "        print('p-значение больше, чем заданный уровень значимости {:.2f}. У нас нет оснований отвергнуть нулевую гипотезу.'.format(alpha))\n",
    "      "
   ]
  },
  {
   "attachments": {},
   "cell_type": "markdown",
   "metadata": {},
   "source": [
    "\n",
    "### Наблюдается ли ежегодный рост зарплат у специалистов Data Scientist?"
   ]
  },
  {
   "attachments": {},
   "cell_type": "markdown",
   "metadata": {},
   "source": [
    "\n",
    "**Сформулирую нулевую и альтернативные гипотезы** (отдельно для 20-21 года и 21-22 года)\n",
    "\n",
    "ДЛЯ 2020 и 2021 года:\n",
    "\n",
    "*Нулевая гипотеза* ($H_0$): зарплата в 2021 году ($μ_1$) статистически меньше либо равна зарплате в 2020 году ($μ_2$).\n",
    "\n",
    "$$ H_0 : μ_1 <= μ_2$$\n",
    "\n",
    "*Альтернативная гипотеза* ($H_1$): зарплата в 2021 году ($μ_1$) статистически больше, чем зарплата в 2020 году ($μ_2$).\n",
    "\n",
    "$$ H_1 : μ_1 > μ_2$$\n",
    "\n",
    "---------------------------------------------------------------------------------------------------\n",
    "\n",
    "ДЛЯ 2021 и 2022 года:\n",
    "\n",
    "*Нулевая гипотеза* ($H_0$): зарплата в 2022 году ($μ_1$) статистически меньше либо равна зарплате в 2021 году ($μ_2$).\n",
    "\n",
    "$$ H_0 : μ_1 <= μ_2$$\n",
    "\n",
    "*Альтернативная гипотеза* ($H_1$): зарплата в 2022 году ($μ_1$) статистически больше, чем зарплата в 2021 году ($μ_2$).\n",
    "\n",
    "$$ H_1 : μ_1 > μ_2$$"
   ]
  },
  {
   "cell_type": "markdown",
   "metadata": {},
   "source": [
    "**Проверка на нормальность**\n",
    "\n",
    "С помощью теста Шапиро-Уилка проверим, распределён ли признак нормально. Напомним гипотезы теста Шапиро-Уилка:\n",
    "\n",
    "*Нулевая гипотеза* ($H_0$): распределение данные является нормальным.\n",
    "\n",
    "*Альтернативная гипотеза* ($H_1$): распределение данных отлично от нормального."
   ]
  },
  {
   "cell_type": "code",
   "execution_count": 144,
   "metadata": {},
   "outputs": [
    {
     "name": "stdout",
     "output_type": "stream",
     "text": [
      "2020:\n",
      "p-value = 0.000\n",
      "p-значение меньше, чем заданный уровень значимости 0.05. Распределение отлично от нормального\n",
      "2021:\n",
      "p-value = 0.000\n",
      "p-значение меньше, чем заданный уровень значимости 0.05. Распределение отлично от нормального\n",
      "2022:\n",
      "p-value = 0.000\n",
      "p-значение меньше, чем заданный уровень значимости 0.05. Распределение отлично от нормального\n"
     ]
    }
   ],
   "source": [
    "\n",
    "sl_20 = salaries[salaries['work_year']==2020]['salary_in_usd']\n",
    "sl_21 = salaries.loc[salaries['work_year']==2021]['salary_in_usd']\n",
    "sl_22 = salaries.loc[salaries['work_year']==2022]['salary_in_usd']\n",
    "\n",
    "# проводим тест Шапиро-Уилка\n",
    "print('2020:')\n",
    "result = stats.shapiro(sl_20)\n",
    "decision_normality(result[1])\n",
    "\n",
    "print('2021:')\n",
    "result = stats.shapiro(sl_21)\n",
    "decision_normality(result[1])\n",
    "\n",
    "print('2022:')\n",
    "result = stats.shapiro(sl_22)\n",
    "decision_normality(result[1])\n"
   ]
  },
  {
   "attachments": {},
   "cell_type": "markdown",
   "metadata": {},
   "source": [
    "**Выберу подходящий статистический тест**\n",
    "\n",
    "Для выбора нужного теста воспользуюсь алгоритмом выбора теста. Для этого отвечу на следующие вопросы:\n",
    "* Какой тип у признака «salary_in_usd»? — Количественный.\n",
    "* Сколько сравниваемых групп? — Две (отдельно 20-21 и 21-22 года).\n",
    "* Группы зависимы? — Нет.\n",
    "* Признак распределён по нормальному закону? — Нет.\n",
    "\n",
    "Чтобы проверить мою гипотезу, можно использовать U-критерий Манна — Уитни для сравнения распределений на основе рангов.\n",
    "\n",
    "**Проведу тест**"
   ]
  },
  {
   "cell_type": "code",
   "execution_count": 75,
   "metadata": {},
   "outputs": [
    {
     "name": "stdout",
     "output_type": "stream",
     "text": [
      "p-value = 0.232\n",
      "p-значение больше, чем заданный уровень значимости 0.05. У нас нет оснований отвергнуть нулевую гипотезу.\n"
     ]
    }
   ],
   "source": [
    "# сравниваю зп в 2020 и 2021 году\n",
    "_, p = stats.mannwhitneyu(sl_21, sl_20, alternative='greater')\n",
    "decision_hypothesis(p)"
   ]
  },
  {
   "cell_type": "code",
   "execution_count": 76,
   "metadata": {},
   "outputs": [
    {
     "name": "stdout",
     "output_type": "stream",
     "text": [
      "p-value = 0.000\n",
      "p-значение меньше, чем заданный уровень значимости 0.05. Отвергаем нулевую гипотезу в пользу альтернативной.\n"
     ]
    }
   ],
   "source": [
    "# сравниваю зп в 2020 и 2021 году\n",
    "_, p = stats.mannwhitneyu(sl_22, sl_21, alternative='greater')\n",
    "decision_hypothesis(p)"
   ]
  },
  {
   "attachments": {},
   "cell_type": "markdown",
   "metadata": {},
   "source": [
    "На основании тестов делаю вывод, что НЕЛЬЗЯ считать, что заработная плата DS ежегодно показывает динамику.\n",
    "\n",
    "Динамику показал только 22 год, по сравнению с 21."
   ]
  },
  {
   "attachments": {},
   "cell_type": "markdown",
   "metadata": {},
   "source": [
    "\n",
    "### Как соотносятся зарплаты Data Scientist и Data Engineer в 2022 году?"
   ]
  },
  {
   "attachments": {},
   "cell_type": "markdown",
   "metadata": {},
   "source": [
    "\n",
    "**Сформулирую нулевую и альтернативные гипотезы**\n",
    "\n",
    "Сначала проверю равны ли зарплаты:\n",
    "\n",
    "*Нулевая гипотеза* ($H_0$): зарплата Data Scientist ($μ_1$) и Data Engineer ($μ_2$) в 2022 году равны.\n",
    "\n",
    "$$ H_0 : μ_1 = μ_2$$\n",
    "\n",
    "*Альтернативная гипотеза* ($H_1$):зарплата Data Scientist ($μ_1$) и Data Engineer ($μ_2$) в 2022 году не равны.\n",
    "\n",
    "$$ H_1 : μ_1   \\neq   μ_2$$\n"
   ]
  },
  {
   "cell_type": "markdown",
   "metadata": {},
   "source": [
    "**Проверка на нормальность**\n",
    "\n",
    "С помощью теста Шапиро-Уилка проверим, распределён ли признак нормально. Напомним гипотезы теста Шапиро-Уилка:\n",
    "\n",
    "*Нулевая гипотеза* ($H_0$): распределение данные является нормальным.\n",
    "\n",
    "*Альтернативная гипотеза* ($H_1$): распределение данных отлично от нормального."
   ]
  },
  {
   "cell_type": "code",
   "execution_count": 68,
   "metadata": {},
   "outputs": [
    {
     "name": "stdout",
     "output_type": "stream",
     "text": [
      "2020:\n",
      "p-value = 0.327\n",
      "p-значение больше, чем заданный уровень значимости 0.05. Распределение является нормальным\n",
      "2021:\n",
      "p-value = 0.010\n",
      "p-значение меньше, чем заданный уровень значимости 0.05. Распределение отлично от нормального\n"
     ]
    }
   ],
   "source": [
    "salaries_22 = pd.read_csv('ds_salaries.csv')\n",
    "\n",
    "mask = salaries_22['work_year'] == 2022 # фильтрую по году\n",
    "salary_2022 = salaries_22[mask]\n",
    "\n",
    "ds_22 = salary_2022[salary_2022['job_title'] == 'Data Scientist']['salary_in_usd']\n",
    "de_22 = salary_2022[salary_2022['job_title'] == 'Data Engineer']['salary_in_usd']\n",
    "\n",
    "# проводим тест Шапиро-Уилка\n",
    "print('2020:')\n",
    "result = stats.shapiro(ds_22)\n",
    "decision_normality(result[1])\n",
    "\n",
    "print('2021:')\n",
    "result = stats.shapiro(de_22)\n",
    "decision_normality(result[1])"
   ]
  },
  {
   "attachments": {},
   "cell_type": "markdown",
   "metadata": {},
   "source": [
    "**Выберу подходящий статистический тест**\n",
    "\n",
    "Для выбора нужного теста воспользуюсь алгоритмом выбора теста. Для этого отвечу на следующие вопросы:\n",
    "* Какой тип у признака «salary_in_usd»? — Количественный.\n",
    "* Сколько сравниваемых групп? — Две.\n",
    "* Группы зависимы? — Нет.\n",
    "* Признак распределён по нормальному закону? — Нет (в одной группе распределение отлично от нормального).\n",
    "\n",
    "Чтобы проверить мою гипотезу, можно использовать U-критерий Манна — Уитни для сравнения распределений на основе рангов.\n",
    "\n",
    "**Проведу тест**"
   ]
  },
  {
   "cell_type": "code",
   "execution_count": 70,
   "metadata": {},
   "outputs": [
    {
     "name": "stdout",
     "output_type": "stream",
     "text": [
      "p-value = 0.155\n",
      "p-значение больше, чем заданный уровень значимости 0.05. У нас нет оснований отвергнуть нулевую гипотезу.\n"
     ]
    }
   ],
   "source": [
    "# сравниваю зп в DS и DE d 2022 году\n",
    "_, p = stats.mannwhitneyu(ds_22, de_22, alternative='two-sided')\n",
    "decision_hypothesis(p)"
   ]
  },
  {
   "attachments": {},
   "cell_type": "markdown",
   "metadata": {},
   "source": [
    "### Вывод: \n",
    "У меня нет оснований утверждать, что есть разница между зарплатами DS и DE в 2022 году. "
   ]
  },
  {
   "attachments": {},
   "cell_type": "markdown",
   "metadata": {},
   "source": [
    "### Как соотносятся зарплаты специалистов Data Scientist в компаниях различных размеров?\n"
   ]
  },
  {
   "attachments": {},
   "cell_type": "markdown",
   "metadata": {},
   "source": [
    "**Сформулирую нулевую и альтернативные гипотезы**\n",
    "\n",
    "\n",
    "\n",
    "*Нулевая гипотеза* ($H_0$): зарплата Data Scientist в компаниях S($μ_1$), M($μ_2$) и L($μ_3$) равны.\n",
    "\n",
    "$$ H_1 : μ_1 = μ_2 = μ_3$$\n",
    "\n",
    "*Альтернативная гипотеза* зарплата Data Scientist в компаниях S($μ_1$), M($μ_2$) и L($μ_3$) не равны.\n",
    "\n",
    "$$ H_1 : μ_1 \\neq μ_2 \\neq μ_3$$"
   ]
  },
  {
   "cell_type": "markdown",
   "metadata": {},
   "source": [
    "**Проверка на нормальность**\n",
    "\n",
    "С помощью теста Шапиро-Уилка проверим, распределён ли признак нормально. Напомним гипотезы теста Шапиро-Уилка:\n",
    "\n",
    "*Нулевая гипотеза* ($H_0$): распределение данные является нормальным.\n",
    "\n",
    "*Альтернативная гипотеза* ($H_1$): распределение данных отлично от нормального."
   ]
  },
  {
   "cell_type": "code",
   "execution_count": 73,
   "metadata": {},
   "outputs": [
    {
     "name": "stdout",
     "output_type": "stream",
     "text": [
      "2020:\n",
      "p-value = 0.000\n",
      "p-значение меньше, чем заданный уровень значимости 0.05. Распределение отлично от нормального\n",
      "2021:\n",
      "p-value = 0.000\n",
      "p-значение меньше, чем заданный уровень значимости 0.05. Распределение отлично от нормального\n",
      "2022:\n",
      "p-value = 0.000\n",
      "p-значение меньше, чем заданный уровень значимости 0.05. Распределение отлично от нормального\n"
     ]
    }
   ],
   "source": [
    "sl_S = salaries[salaries['company_size']=='S']['salary_in_usd']\n",
    "sl_M = salaries[salaries['company_size']=='M']['salary_in_usd']\n",
    "sl_L = salaries[salaries['company_size']=='L']['salary_in_usd']\n",
    "\n",
    "# проводим тест Шапиро-Уилка\n",
    "print('2020:')\n",
    "result = stats.shapiro(sl_S)\n",
    "decision_normality(result[1])\n",
    "\n",
    "print('2021:')\n",
    "result = stats.shapiro(sl_M)\n",
    "decision_normality(result[1])\n",
    "\n",
    "print('2022:')\n",
    "result = stats.shapiro(sl_L)\n",
    "decision_normality(result[1])\n"
   ]
  },
  {
   "attachments": {},
   "cell_type": "markdown",
   "metadata": {},
   "source": [
    "**Выберу подходящий статистический тест**\n",
    "\n",
    "Для выбора нужного теста воспользуюсь алгоритмом выбора теста. Для этого отвечу на следующие вопросы:\n",
    "* Какой тип у признака «salary_in_usd»? — Количественный.\n",
    "* Сколько сравниваемых групп? — Три.\n",
    "* Группы зависимы? — Нет.\n",
    "* Признак распределён по нормальному закону? — Нет. \n",
    "\n",
    "Для проверки моей гипотезы можно использовать критерий Краскела — Уоллиса.\n",
    "\n",
    "**Проведу тест**"
   ]
  },
  {
   "cell_type": "code",
   "execution_count": 74,
   "metadata": {},
   "outputs": [
    {
     "name": "stdout",
     "output_type": "stream",
     "text": [
      "p-value = 0.000\n",
      "p-значение меньше, чем заданный уровень значимости 0.05. Отвергаем нулевую гипотезу в пользу альтернативной.\n"
     ]
    }
   ],
   "source": [
    "# провожу тест\n",
    "_, p = stats.kruskal(sl_S, sl_M, sl_L)\n",
    "decision_hypothesis(p)"
   ]
  },
  {
   "attachments": {},
   "cell_type": "markdown",
   "metadata": {},
   "source": [
    "ВЫВОД: Заработные платы различны в зависимости от размера компании."
   ]
  },
  {
   "attachments": {},
   "cell_type": "markdown",
   "metadata": {},
   "source": [
    "### Проверю, правильно ли моё предположение, что с увеличением размеров компании - увеличивается и зп."
   ]
  },
  {
   "attachments": {},
   "cell_type": "markdown",
   "metadata": {},
   "source": [
    "**Сформулирую нулевую и альтернативные гипотезы** (S - M и M - L)\n",
    "\n",
    "ДЛЯ S и M:\n",
    "\n",
    "*Нулевая гипотеза* ($H_0$): зарплата в компаниях M ($μ_1$) статистически меньше либо равна зарплате в компаниях S ($μ_2$).\n",
    "\n",
    "$$ H_0 : μ_1 <= μ_2$$\n",
    "\n",
    "*Альтернативная гипотеза* ($H_1$): зарплата в компаниях M ($μ_1$) статистически больше, чем зарплата в компаниях S ($μ_2$).\n",
    "\n",
    "$$ H_1 : μ_1 > μ_2$$\n",
    "\n",
    "---------------------------------------------------------------------------------------------------\n",
    "\n",
    "ДЛЯ M и L:\n",
    "\n",
    "*Нулевая гипотеза* ($H_0$): зарплата в компаниях L ($μ_1$) статистически меньше либо равна зарплате в компаниях M ($μ_2$).\n",
    "\n",
    "$$ H_0 : μ_1 <= μ_2$$\n",
    "\n",
    "*Альтернативная гипотеза* ($H_1$): зарплата в компаниях L ($μ_1$) статистически больше, чем зарплата в компаниях M ($μ_2$).\n",
    "\n",
    "$$ H_1 : μ_1 > μ_2$$"
   ]
  },
  {
   "attachments": {},
   "cell_type": "markdown",
   "metadata": {},
   "source": [
    "Я уже знаю, что данные в выборках не распределены нормально. Буду сравнивать компании S - M и M - L.\n",
    "\n",
    "**Выберу подходящий статистический тест**\n",
    "\n",
    "Для выбора нужного теста воспользуюсь алгоритмом выбора теста. Для этого отвечу на следующие вопросы:\n",
    "* Какой тип у признака «salary_in_usd»? — Количественный.\n",
    "* Сколько сравниваемых групп? — Две (отдельно S - M и M - L).\n",
    "* Группы зависимы? — Нет.\n",
    "* Признак распределён по нормальному закону? — Нет.\n",
    "\n",
    "Чтобы проверить мою гипотезу, можно использовать U-критерий Манна — Уитни для сравнения распределений на основе рангов.\n",
    "\n",
    "**Проведу тест**"
   ]
  },
  {
   "cell_type": "code",
   "execution_count": 77,
   "metadata": {},
   "outputs": [
    {
     "name": "stdout",
     "output_type": "stream",
     "text": [
      "p-value = 0.000\n",
      "p-значение меньше, чем заданный уровень значимости 0.05. Отвергаем нулевую гипотезу в пользу альтернативной.\n"
     ]
    }
   ],
   "source": [
    "# сравниваю зп в компаниях S и M\n",
    "_, p = stats.mannwhitneyu(sl_M, sl_S, alternative='greater')\n",
    "decision_hypothesis(p)"
   ]
  },
  {
   "cell_type": "code",
   "execution_count": 78,
   "metadata": {},
   "outputs": [
    {
     "name": "stdout",
     "output_type": "stream",
     "text": [
      "p-value = 0.892\n",
      "p-значение больше, чем заданный уровень значимости 0.05. У нас нет оснований отвергнуть нулевую гипотезу.\n"
     ]
    }
   ],
   "source": [
    "# сравниваю зп в компаниях M и L\n",
    "_, p = stats.mannwhitneyu(sl_L, sl_M, alternative='greater')\n",
    "decision_hypothesis(p)"
   ]
  },
  {
   "attachments": {},
   "cell_type": "markdown",
   "metadata": {},
   "source": [
    "ВЫВОД:\n",
    "\n",
    "На основании статистических тестов можно утверждать, что зарплаты в компаниях S и M - отличаются (в компаниях M зп выше). \n",
    "\n",
    "Зарплаты в компаниях M и L - статистически не отличаются. Поэтому сказать, что от размера компании доход увеличивается, в целом, нельзя.\n",
    "\n",
    "Но можно утверждать, что размеры зарплат не одинаковы в компаниях разного размера."
   ]
  },
  {
   "attachments": {},
   "cell_type": "markdown",
   "metadata": {},
   "source": [
    "### Есть ли связь между наличием должностей Data Scientist и Data Engineer и размером компании?"
   ]
  },
  {
   "attachments": {},
   "cell_type": "markdown",
   "metadata": {},
   "source": [
    "**Сформулирую нулевую и альтернативные гипотезы**\n",
    "\n",
    "*Нулевая гипотеза*: между наличием должностей Data Scientist и Data Engineer и размером компании нет взаимосвязи (признаки независимы).\n",
    "\n",
    "*Альтернативная гипотеза*: между наличием должностей Data Scientist и Data Engineer и размером компании есть взаимосвязь (признаки зависимы).\n"
   ]
  },
  {
   "attachments": {},
   "cell_type": "markdown",
   "metadata": {},
   "source": [
    "**Выберу подходящий статистический тест**\n",
    "\n",
    "Для выбора нужного теста воспользуюсь алгоритмом выбора теста. Для этого отвечу на следующие вопросы:\n",
    "* Какой тип у признака «job_title»? — Категориальный.\n",
    "* Сколько сравниваемых групп? — Две.\n",
    "* Проверяется независимость групп? — Да.\n",
    "\n",
    "Для проверки нашей гипотезы можно использовать критерий ${\\chi}^2$ (хи-квадрат).\n",
    "\n",
    "**Проведу тест**"
   ]
  },
  {
   "cell_type": "code",
   "execution_count": 82,
   "metadata": {},
   "outputs": [
    {
     "data": {
      "text/html": [
       "<div>\n",
       "<style scoped>\n",
       "    .dataframe tbody tr th:only-of-type {\n",
       "        vertical-align: middle;\n",
       "    }\n",
       "\n",
       "    .dataframe tbody tr th {\n",
       "        vertical-align: top;\n",
       "    }\n",
       "\n",
       "    .dataframe thead th {\n",
       "        text-align: right;\n",
       "    }\n",
       "</style>\n",
       "<table border=\"1\" class=\"dataframe\">\n",
       "  <thead>\n",
       "    <tr style=\"text-align: right;\">\n",
       "      <th>company_size</th>\n",
       "      <th>L</th>\n",
       "      <th>M</th>\n",
       "      <th>S</th>\n",
       "    </tr>\n",
       "    <tr>\n",
       "      <th>job_title</th>\n",
       "      <th></th>\n",
       "      <th></th>\n",
       "      <th></th>\n",
       "    </tr>\n",
       "  </thead>\n",
       "  <tbody>\n",
       "    <tr>\n",
       "      <th>Data Engineer</th>\n",
       "      <td>37</td>\n",
       "      <td>89</td>\n",
       "      <td>6</td>\n",
       "    </tr>\n",
       "    <tr>\n",
       "      <th>Data Scientist</th>\n",
       "      <td>45</td>\n",
       "      <td>77</td>\n",
       "      <td>21</td>\n",
       "    </tr>\n",
       "  </tbody>\n",
       "</table>\n",
       "</div>"
      ],
      "text/plain": [
       "company_size     L   M   S\n",
       "job_title                 \n",
       "Data Engineer   37  89   6\n",
       "Data Scientist  45  77  21"
      ]
     },
     "execution_count": 82,
     "metadata": {},
     "output_type": "execute_result"
    }
   ],
   "source": [
    "# составляю таблицу сопряжённости\n",
    "prof2 = ['Data Engineer', 'Data Scientist'] # фильтрую по профессии\n",
    "salary_prof2 = salaries.loc[salaries['job_title'].isin(prof2)]\n",
    "\n",
    "cross_table = pd.crosstab(salary_prof2['job_title'], salary_prof2['company_size'])\n",
    "\n",
    "cross_table"
   ]
  },
  {
   "cell_type": "code",
   "execution_count": 83,
   "metadata": {},
   "outputs": [
    {
     "name": "stdout",
     "output_type": "stream",
     "text": [
      "p-value = 0.008\n",
      "p-значение меньше, чем заданный уровень значимости 0.05. Отвергаем нулевую гипотезу в пользу альтернативной.\n"
     ]
    }
   ],
   "source": [
    "# проводим тест\n",
    "_, p, _, _ = stats.chi2_contingency(cross_table)\n",
    "decision_hypothesis(p)"
   ]
  },
  {
   "attachments": {},
   "cell_type": "markdown",
   "metadata": {},
   "source": [
    "ВЫВОД: Наблюдается статистически значимая взаимосвязь между наличием должностей Data Scientist и Data Engineer и размером компании."
   ]
  },
  {
   "attachments": {},
   "cell_type": "markdown",
   "metadata": {},
   "source": [
    "# Дополнительное исследование"
   ]
  },
  {
   "attachments": {},
   "cell_type": "markdown",
   "metadata": {},
   "source": [
    "### Увеличивается ли заработная плата в зависимости от опыта работы? "
   ]
  },
  {
   "cell_type": "code",
   "execution_count": 117,
   "metadata": {},
   "outputs": [
    {
     "data": {
      "image/png": "[encoded data removed]",
      "text/plain": [
       "<Figure size 640x480 with 1 Axes>"
      ]
     },
     "metadata": {},
     "output_type": "display_data"
    }
   ],
   "source": [
    "# посторою график зп в зависимости от опыта\n",
    "\n",
    "experience = sns.boxplot(salaries, x='salary_in_usd', y='experience_level', orient='h', medianprops={\"color\": \"red\", \"linestyle\": '--'}, order=['EN', 'MI', 'SE', 'EX'])\n",
    "experience.set(xlabel='ЗП в долларах', ylabel='Опыт работы')\n",
    "plt.title('Размер ЗП в зависимости от опыта')\n",
    "plt.show()"
   ]
  },
  {
   "cell_type": "code",
   "execution_count": 149,
   "metadata": {},
   "outputs": [
    {
     "name": "stdout",
     "output_type": "stream",
     "text": [
      "Заработная плата в зависимости от опыта\n"
     ]
    },
    {
     "data": {
      "text/html": [
       "<div>\n",
       "<style scoped>\n",
       "    .dataframe tbody tr th:only-of-type {\n",
       "        vertical-align: middle;\n",
       "    }\n",
       "\n",
       "    .dataframe tbody tr th {\n",
       "        vertical-align: top;\n",
       "    }\n",
       "\n",
       "    .dataframe thead th {\n",
       "        text-align: right;\n",
       "    }\n",
       "</style>\n",
       "<table border=\"1\" class=\"dataframe\">\n",
       "  <thead>\n",
       "    <tr style=\"text-align: right;\">\n",
       "      <th></th>\n",
       "      <th>count</th>\n",
       "      <th>mean</th>\n",
       "      <th>std</th>\n",
       "      <th>min</th>\n",
       "      <th>25%</th>\n",
       "      <th>50%</th>\n",
       "      <th>75%</th>\n",
       "      <th>max</th>\n",
       "    </tr>\n",
       "    <tr>\n",
       "      <th>experience_level</th>\n",
       "      <th></th>\n",
       "      <th></th>\n",
       "      <th></th>\n",
       "      <th></th>\n",
       "      <th></th>\n",
       "      <th></th>\n",
       "      <th></th>\n",
       "      <th></th>\n",
       "    </tr>\n",
       "  </thead>\n",
       "  <tbody>\n",
       "    <tr>\n",
       "      <th>EN</th>\n",
       "      <td>88.0</td>\n",
       "      <td>61643.32</td>\n",
       "      <td>44395.54</td>\n",
       "      <td>4000.0</td>\n",
       "      <td>27505.0</td>\n",
       "      <td>56500.0</td>\n",
       "      <td>85425.75</td>\n",
       "      <td>250000.0</td>\n",
       "    </tr>\n",
       "    <tr>\n",
       "      <th>EX</th>\n",
       "      <td>26.0</td>\n",
       "      <td>199392.04</td>\n",
       "      <td>117071.26</td>\n",
       "      <td>69741.0</td>\n",
       "      <td>130006.5</td>\n",
       "      <td>171437.5</td>\n",
       "      <td>233750.00</td>\n",
       "      <td>600000.0</td>\n",
       "    </tr>\n",
       "    <tr>\n",
       "      <th>MI</th>\n",
       "      <td>213.0</td>\n",
       "      <td>87996.06</td>\n",
       "      <td>63901.06</td>\n",
       "      <td>2859.0</td>\n",
       "      <td>48000.0</td>\n",
       "      <td>76940.0</td>\n",
       "      <td>112000.00</td>\n",
       "      <td>450000.0</td>\n",
       "    </tr>\n",
       "    <tr>\n",
       "      <th>SE</th>\n",
       "      <td>280.0</td>\n",
       "      <td>138617.29</td>\n",
       "      <td>57691.98</td>\n",
       "      <td>18907.0</td>\n",
       "      <td>100000.0</td>\n",
       "      <td>135500.0</td>\n",
       "      <td>170000.00</td>\n",
       "      <td>412000.0</td>\n",
       "    </tr>\n",
       "  </tbody>\n",
       "</table>\n",
       "</div>"
      ],
      "text/plain": [
       "                  count       mean        std      min       25%       50%  \\\n",
       "experience_level                                                             \n",
       "EN                 88.0   61643.32   44395.54   4000.0   27505.0   56500.0   \n",
       "EX                 26.0  199392.04  117071.26  69741.0  130006.5  171437.5   \n",
       "MI                213.0   87996.06   63901.06   2859.0   48000.0   76940.0   \n",
       "SE                280.0  138617.29   57691.98  18907.0  100000.0  135500.0   \n",
       "\n",
       "                        75%       max  \n",
       "experience_level                       \n",
       "EN                 85425.75  250000.0  \n",
       "EX                233750.00  600000.0  \n",
       "MI                112000.00  450000.0  \n",
       "SE                170000.00  412000.0  "
      ]
     },
     "execution_count": 149,
     "metadata": {},
     "output_type": "execute_result"
    }
   ],
   "source": [
    "# отображаю основные статистические характеристики данных о зарплате\n",
    "\n",
    "salary_exp = salaries.groupby('experience_level')['salary_in_usd'].describe().round(2)\n",
    "print('Заработная плата в зависимости от опыта')\n",
    "salary_exp"
   ]
  },
  {
   "attachments": {},
   "cell_type": "markdown",
   "metadata": {},
   "source": [
    "Судя по визуализации на графике и статистическим характеристикам, можно сделать первичный вывод, что в зависимости от опыта заработная плата растёт.\n",
    "\n",
    "Это прослеживается если анализировать среднюю ЗП, а так же медиану.\n",
    "\n",
    "Чтобы определить, являются ли эти различия статистически значимыми, проведу тестирование. \n",
    "\n",
    "Буду проводить его отдельно для последовательных пар опыта работы."
   ]
  },
  {
   "attachments": {},
   "cell_type": "markdown",
   "metadata": {},
   "source": [
    "**Сформулирую нулевую и альтернативные гипотезы** (EN - MI, Mi - SE, SE - EX)\n",
    "\n",
    "ДЛЯ EN и MI:\n",
    "\n",
    "*Нулевая гипотеза* ($H_0$): зарплата с опытом MI ($μ_1$) статистически меньше либо равна зарплате с опытом EN ($μ_2$).\n",
    "\n",
    "$$ H_0 : μ_1 <= μ_2$$\n",
    "\n",
    "*Альтернативная гипотеза* ($H_1$): зарплата с опытом MI ($μ_1$) статистически больше, чем зарплата с опытом EN ($μ_2$).\n",
    "\n",
    "$$ H_1 : μ_1 > μ_2$$\n",
    "\n",
    "---------------------------------------------------------------------------------------------------\n",
    "\n",
    "ДЛЯ MI и SE:\n",
    "\n",
    "*Нулевая гипотеза* ($H_0$): зарплата с опытом SE ($μ_1$) статистически меньше либо равна зарплате с опытом MI ($μ_2$).\n",
    "\n",
    "$$ H_0 : μ_1 <= μ_2$$\n",
    "\n",
    "*Альтернативная гипотеза* ($H_1$): зарплата с опытом SE ($μ_1$) статистически больше, чем зарплата с опытом MI ($μ_2$).\n",
    "\n",
    "$$ H_1 : μ_1 > μ_2$$\n",
    "\n",
    "---------------------------------------------------------------------------------------------------\n",
    "\n",
    "ДЛЯ SE и EX:\n",
    "\n",
    "*Нулевая гипотеза* ($H_0$): зарплата с опытом EX ($μ_1$) статистически меньше либо равна зарплате с опытом SE ($μ_2$).\n",
    "\n",
    "$$ H_0 : μ_1 <= μ_2$$\n",
    "\n",
    "*Альтернативная гипотеза* ($H_1$): зарплата с опытом EX ($μ_1$) статистически больше, чем зарплата с опытом SE ($μ_2$).\n",
    "\n",
    "$$ H_1 : μ_1 > μ_2$$"
   ]
  },
  {
   "cell_type": "code",
   "execution_count": 122,
   "metadata": {},
   "outputs": [
    {
     "name": "stdout",
     "output_type": "stream",
     "text": [
      "EN:\n",
      "p-value = 0.000\n",
      "p-значение меньше, чем заданный уровень значимости 0.05. Распределение отлично от нормального\n",
      "MI:\n",
      "p-value = 0.000\n",
      "p-значение меньше, чем заданный уровень значимости 0.05. Распределение отлично от нормального\n",
      "SE:\n",
      "p-value = 0.000\n",
      "p-значение меньше, чем заданный уровень значимости 0.05. Распределение отлично от нормального\n",
      "EX:\n",
      "p-value = 0.001\n",
      "p-значение меньше, чем заданный уровень значимости 0.05. Распределение отлично от нормального\n"
     ]
    }
   ],
   "source": [
    "sl_EN = salaries[salaries['experience_level']=='EN']['salary_in_usd']\n",
    "sl_MI = salaries[salaries['experience_level']=='MI']['salary_in_usd']\n",
    "sl_SE = salaries[salaries['experience_level']=='SE']['salary_in_usd']\n",
    "sl_EX = salaries[salaries['experience_level']=='EX']['salary_in_usd']\n",
    "\n",
    "# проводим тест Шапиро-Уилка\n",
    "print('EN:')\n",
    "result = stats.shapiro(sl_EN)\n",
    "decision_normality(result[1])\n",
    "\n",
    "print('MI:')\n",
    "result = stats.shapiro(sl_MI)\n",
    "decision_normality(result[1])\n",
    "\n",
    "print('SE:')\n",
    "result = stats.shapiro(sl_SE)\n",
    "decision_normality(result[1])\n",
    "\n",
    "print('EX:')\n",
    "result = stats.shapiro(sl_EX)\n",
    "decision_normality(result[1])"
   ]
  },
  {
   "attachments": {},
   "cell_type": "markdown",
   "metadata": {},
   "source": [
    "\n",
    "\n",
    "**Выберу подходящий статистический тест**\n",
    "\n",
    "Для выбора нужного теста воспользуюсь алгоритмом выбора теста. Для этого отвечу на следующие вопросы:\n",
    "* Какой тип у признака «salary_in_usd»? — Количественный.\n",
    "* Сколько сравниваемых групп? — Две (отдельно для каждой пары).\n",
    "* Группы зависимы? — Нет.\n",
    "* Признак распределён по нормальному закону? — Нет.\n",
    "\n",
    "Чтобы проверить мою гипотезу, можно использовать U-критерий Манна — Уитни для сравнения распределений на основе рангов.\n",
    "\n",
    "**Проведу тест**"
   ]
  },
  {
   "cell_type": "code",
   "execution_count": 124,
   "metadata": {},
   "outputs": [
    {
     "name": "stdout",
     "output_type": "stream",
     "text": [
      "p-value = 0.000\n",
      "p-значение меньше, чем заданный уровень значимости 0.05. Отвергаем нулевую гипотезу в пользу альтернативной.\n"
     ]
    }
   ],
   "source": [
    "# сравниваю зп с опытом EN и MI\n",
    "_, p = stats.mannwhitneyu(sl_EN, sl_MI, alternative='less')\n",
    "decision_hypothesis(p)"
   ]
  },
  {
   "cell_type": "code",
   "execution_count": 125,
   "metadata": {},
   "outputs": [
    {
     "name": "stdout",
     "output_type": "stream",
     "text": [
      "p-value = 0.000\n",
      "p-значение меньше, чем заданный уровень значимости 0.05. Отвергаем нулевую гипотезу в пользу альтернативной.\n"
     ]
    }
   ],
   "source": [
    "# сравниваю зп с опытом MI и SE\n",
    "_, p = stats.mannwhitneyu(sl_MI, sl_SE, alternative='less')\n",
    "decision_hypothesis(p)"
   ]
  },
  {
   "cell_type": "code",
   "execution_count": 126,
   "metadata": {},
   "outputs": [
    {
     "name": "stdout",
     "output_type": "stream",
     "text": [
      "p-value = 0.002\n",
      "p-значение меньше, чем заданный уровень значимости 0.05. Отвергаем нулевую гипотезу в пользу альтернативной.\n"
     ]
    }
   ],
   "source": [
    "# сравниваю зп с опытом SE и EX\n",
    "_, p = stats.mannwhitneyu(sl_SE, sl_EX, alternative='less')\n",
    "decision_hypothesis(p)"
   ]
  },
  {
   "attachments": {},
   "cell_type": "markdown",
   "metadata": {},
   "source": [
    "На основании визуального анализа и статистических тестов можно сделать вывод, что при увеличении опыта работы специалиста - увеличивается и его заработная плата."
   ]
  },
  {
   "attachments": {},
   "cell_type": "markdown",
   "metadata": {},
   "source": [
    "### Влияет ли тип трудоустройства на заработную плату специалиста?"
   ]
  },
  {
   "cell_type": "code",
   "execution_count": 147,
   "metadata": {},
   "outputs": [
    {
     "data": {
      "image/png": "[encoded data removed]",
      "text/plain": [
       "<Figure size 640x480 with 1 Axes>"
      ]
     },
     "metadata": {},
     "output_type": "display_data"
    }
   ],
   "source": [
    "# посторою график зп в зависимости от типа трудоустройства\n",
    "\n",
    "employment = sns.boxplot(salaries, x='salary_in_usd', y='employment_type', orient='h', medianprops={\"color\": \"red\", \"linestyle\": '--'})\n",
    "employment.set(xlabel='ЗП в долларах', ylabel='Тип трудоустройства')\n",
    "plt.title('Размер ЗП в зависимости от типа трудоустройства')\n",
    "plt.show()"
   ]
  },
  {
   "cell_type": "code",
   "execution_count": 148,
   "metadata": {},
   "outputs": [
    {
     "name": "stdout",
     "output_type": "stream",
     "text": [
      "Заработная плата в зависимости от типа трудоустройста\n"
     ]
    },
    {
     "data": {
      "text/html": [
       "<div>\n",
       "<style scoped>\n",
       "    .dataframe tbody tr th:only-of-type {\n",
       "        vertical-align: middle;\n",
       "    }\n",
       "\n",
       "    .dataframe tbody tr th {\n",
       "        vertical-align: top;\n",
       "    }\n",
       "\n",
       "    .dataframe thead th {\n",
       "        text-align: right;\n",
       "    }\n",
       "</style>\n",
       "<table border=\"1\" class=\"dataframe\">\n",
       "  <thead>\n",
       "    <tr style=\"text-align: right;\">\n",
       "      <th></th>\n",
       "      <th>count</th>\n",
       "      <th>mean</th>\n",
       "      <th>std</th>\n",
       "      <th>min</th>\n",
       "      <th>25%</th>\n",
       "      <th>50%</th>\n",
       "      <th>75%</th>\n",
       "      <th>max</th>\n",
       "    </tr>\n",
       "    <tr>\n",
       "      <th>employment_type</th>\n",
       "      <th></th>\n",
       "      <th></th>\n",
       "      <th></th>\n",
       "      <th></th>\n",
       "      <th></th>\n",
       "      <th></th>\n",
       "      <th></th>\n",
       "      <th></th>\n",
       "    </tr>\n",
       "  </thead>\n",
       "  <tbody>\n",
       "    <tr>\n",
       "      <th>CT</th>\n",
       "      <td>5.0</td>\n",
       "      <td>184575.00</td>\n",
       "      <td>156250.89</td>\n",
       "      <td>31875.0</td>\n",
       "      <td>100000.00</td>\n",
       "      <td>105000.0</td>\n",
       "      <td>270000.0</td>\n",
       "      <td>416000.0</td>\n",
       "    </tr>\n",
       "    <tr>\n",
       "      <th>FL</th>\n",
       "      <td>4.0</td>\n",
       "      <td>48000.00</td>\n",
       "      <td>40529.82</td>\n",
       "      <td>12000.0</td>\n",
       "      <td>18000.00</td>\n",
       "      <td>40000.0</td>\n",
       "      <td>70000.0</td>\n",
       "      <td>100000.0</td>\n",
       "    </tr>\n",
       "    <tr>\n",
       "      <th>FT</th>\n",
       "      <td>588.0</td>\n",
       "      <td>113468.07</td>\n",
       "      <td>69476.47</td>\n",
       "      <td>2859.0</td>\n",
       "      <td>64962.25</td>\n",
       "      <td>104196.5</td>\n",
       "      <td>150000.0</td>\n",
       "      <td>600000.0</td>\n",
       "    </tr>\n",
       "    <tr>\n",
       "      <th>PT</th>\n",
       "      <td>10.0</td>\n",
       "      <td>33070.50</td>\n",
       "      <td>31472.91</td>\n",
       "      <td>5409.0</td>\n",
       "      <td>12000.00</td>\n",
       "      <td>18817.5</td>\n",
       "      <td>48370.0</td>\n",
       "      <td>100000.0</td>\n",
       "    </tr>\n",
       "  </tbody>\n",
       "</table>\n",
       "</div>"
      ],
      "text/plain": [
       "                 count       mean        std      min        25%       50%  \\\n",
       "employment_type                                                              \n",
       "CT                 5.0  184575.00  156250.89  31875.0  100000.00  105000.0   \n",
       "FL                 4.0   48000.00   40529.82  12000.0   18000.00   40000.0   \n",
       "FT               588.0  113468.07   69476.47   2859.0   64962.25  104196.5   \n",
       "PT                10.0   33070.50   31472.91   5409.0   12000.00   18817.5   \n",
       "\n",
       "                      75%       max  \n",
       "employment_type                      \n",
       "CT               270000.0  416000.0  \n",
       "FL                70000.0  100000.0  \n",
       "FT               150000.0  600000.0  \n",
       "PT                48370.0  100000.0  "
      ]
     },
     "execution_count": 148,
     "metadata": {},
     "output_type": "execute_result"
    }
   ],
   "source": [
    "# отображаю основные статистические характеристики данных о зарплате\n",
    "\n",
    "salary_exp = salaries.groupby('employment_type')['salary_in_usd'].describe().round(2)\n",
    "print('Заработная плата в зависимости от типа трудоустройста')\n",
    "salary_exp"
   ]
  },
  {
   "attachments": {},
   "cell_type": "markdown",
   "metadata": {},
   "source": [
    "При визуальном анализе можно сделать первичные выводы, что зарплаты для разных типов трудоустройства - разные. Проведу тесты."
   ]
  },
  {
   "attachments": {},
   "cell_type": "markdown",
   "metadata": {},
   "source": [
    "\n",
    "**Сформулирую нулевую и альтернативные гипотезы**\n",
    "\n",
    "Проверю равны ли зарплаты:\n",
    "\n",
    "*Нулевая гипотеза* ($H_0$): зарплата для разных типов трудоустройства одинаковые.\n",
    "\n",
    "$$ H_0 : μ_1 = μ_2 = μ_3 = μ_4$$\n",
    "\n",
    "*Альтернативная гипотеза* ($H_1$):зарплата для разных типов трудоустройства отличаются.\n",
    "\n",
    "$$ H_1 : μ_1   \\neq   μ_2\\neq   μ_3\\neq   μ_4$$"
   ]
  },
  {
   "cell_type": "code",
   "execution_count": 150,
   "metadata": {},
   "outputs": [
    {
     "name": "stdout",
     "output_type": "stream",
     "text": [
      "CT:\n",
      "p-value = 0.406\n",
      "p-значение больше, чем заданный уровень значимости 0.05. Распределение является нормальным\n",
      "FL:\n",
      "p-value = 0.507\n",
      "p-значение больше, чем заданный уровень значимости 0.05. Распределение является нормальным\n",
      "FT:\n",
      "p-value = 0.000\n",
      "p-значение меньше, чем заданный уровень значимости 0.05. Распределение отлично от нормального\n",
      "PT:\n",
      "p-value = 0.023\n",
      "p-значение меньше, чем заданный уровень значимости 0.05. Распределение отлично от нормального\n"
     ]
    }
   ],
   "source": [
    "# проверяю распределение в группах\n",
    "\n",
    "sl_CT = salaries[salaries['employment_type']=='CT']['salary_in_usd']\n",
    "sl_FL = salaries[salaries['employment_type']=='FL']['salary_in_usd']\n",
    "sl_FT = salaries[salaries['employment_type']=='FT']['salary_in_usd']\n",
    "sl_PT = salaries[salaries['employment_type']=='PT']['salary_in_usd']\n",
    "\n",
    "# проводим тест Шапиро-Уилка\n",
    "print('CT:')\n",
    "result = stats.shapiro(sl_CT)\n",
    "decision_normality(result[1])\n",
    "\n",
    "print('FL:')\n",
    "result = stats.shapiro(sl_FL)\n",
    "decision_normality(result[1])\n",
    "\n",
    "print('FT:')\n",
    "result = stats.shapiro(sl_FT)\n",
    "decision_normality(result[1])\n",
    "\n",
    "print('PT:')\n",
    "result = stats.shapiro(sl_PT)\n",
    "decision_normality(result[1])"
   ]
  },
  {
   "attachments": {},
   "cell_type": "markdown",
   "metadata": {},
   "source": [
    "**Выберу подходящий статистический тест**\n",
    "\n",
    "Для выбора нужного теста воспользуюсь алгоритмом выбора теста. Для этого отвечу на следующие вопросы:\n",
    "* Какой тип у признака «salary_in_usd»? — Количественный.\n",
    "* Сколько сравниваемых групп? — Три.\n",
    "* Группы зависимы? — Нет.\n",
    "* Признак распределён по нормальному закону? — Нет (две группы показали отличное от нормального распределение). \n",
    "\n",
    "Для проверки моей гипотезы можно использовать критерий Краскела — Уоллиса.\n",
    "\n",
    "**Проведу тест**"
   ]
  },
  {
   "cell_type": "code",
   "execution_count": 151,
   "metadata": {},
   "outputs": [
    {
     "name": "stdout",
     "output_type": "stream",
     "text": [
      "p-value = 0.000\n",
      "p-значение меньше, чем заданный уровень значимости 0.05. Отвергаем нулевую гипотезу в пользу альтернативной.\n"
     ]
    }
   ],
   "source": [
    "# провожу тест\n",
    "_, p = stats.kruskal(sl_CT, sl_FL, sl_FT, sl_PT)\n",
    "decision_hypothesis(p)"
   ]
  },
  {
   "attachments": {},
   "cell_type": "markdown",
   "metadata": {},
   "source": [
    "На основании статистических тестов можно сделать вывод, что заработные платы специалистов с разным типом трудоустройства отличаются."
   ]
  },
  {
   "attachments": {},
   "cell_type": "markdown",
   "metadata": {},
   "source": [
    "## Общие выводы по проекту:"
   ]
  },
  {
   "attachments": {},
   "cell_type": "markdown",
   "metadata": {},
   "source": [
    "1) Заработная плата DS не показывает ежегодную динамику. Но при этом рост 22 года к 23му - очевиден.\n",
    "\n",
    "2) Нет оснований утверждать, что есть разница между зарплатами DS и DE в 2022 году.\n",
    "\n",
    "3) Заработные платы различны в зависимости от размера компании. При этом можно утверждать, что зарплаты в компаниях M выше, чем в компаниях L. \n",
    "\n",
    "    Зарплаты же в компаниях M и L - статистически не отличаются. Поэтому сказать, что от размера компании доход увеличивается, в целом, нельзя.\n",
    "\n",
    "4) Есть статистически значимая взаимосвязь между наличием должностей Data Scientist и Data Engineer и размером компании.\n",
    "\n",
    "5) При увеличении опыта работы специалиста - увеличивается и его заработная плата.\n",
    "\n",
    "6) Тип трудоустройства влияет на уровень заработной платы специалистов."
   ]
  }
 ],
 "metadata": {
  "kernelspec": {
   "display_name": "Python 3",
   "language": "python",
   "name": "python3"
  },
  "language_info": {
   "codemirror_mode": {
    "name": "ipython",
    "version": 3
   },
   "file_extension": ".py",
   "mimetype": "text/x-python",
   "name": "python",
   "nbconvert_exporter": "python",
   "pygments_lexer": "ipython3",
   "version": "3.11.0"
  },
  "orig_nbformat": 4,
  "vscode": {
   "interpreter": {
    "hash": "697232e0b8e789ec23fe933c912406e74fbc7d569e5486b9b29a637f977feb44"
   }
  }
 },
 "nbformat": 4,
 "nbformat_minor": 2
}
