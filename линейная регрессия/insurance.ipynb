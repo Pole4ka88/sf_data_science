{
 "cells": [
  {
   "cell_type": "code",
   "execution_count": 39,
   "metadata": {},
   "outputs": [],
   "source": [
    "import numpy as np #для матричных вычислений\n",
    "import pandas as pd #для анализа и предобработки данных\n",
    "import matplotlib.pyplot as plt #для визуализации\n",
    "import seaborn as sns #для визуализации\n",
    "\n",
    "from sklearn import linear_model #линейные модели\n",
    "from sklearn import metrics #метрики\n",
    "from sklearn import preprocessing #предобработка\n",
    "from sklearn.model_selection import train_test_split #разделение выборки"
   ]
  },
  {
   "cell_type": "code",
   "execution_count": 40,
   "metadata": {},
   "outputs": [
    {
     "data": {
      "text/html": [
       "<div>\n",
       "<style scoped>\n",
       "    .dataframe tbody tr th:only-of-type {\n",
       "        vertical-align: middle;\n",
       "    }\n",
       "\n",
       "    .dataframe tbody tr th {\n",
       "        vertical-align: top;\n",
       "    }\n",
       "\n",
       "    .dataframe thead th {\n",
       "        text-align: right;\n",
       "    }\n",
       "</style>\n",
       "<table border=\"1\" class=\"dataframe\">\n",
       "  <thead>\n",
       "    <tr style=\"text-align: right;\">\n",
       "      <th></th>\n",
       "      <th>age</th>\n",
       "      <th>sex</th>\n",
       "      <th>bmi</th>\n",
       "      <th>children</th>\n",
       "      <th>smoker</th>\n",
       "      <th>region</th>\n",
       "      <th>charges</th>\n",
       "    </tr>\n",
       "  </thead>\n",
       "  <tbody>\n",
       "    <tr>\n",
       "      <th>0</th>\n",
       "      <td>19</td>\n",
       "      <td>female</td>\n",
       "      <td>27.900</td>\n",
       "      <td>0</td>\n",
       "      <td>yes</td>\n",
       "      <td>southwest</td>\n",
       "      <td>16884.92400</td>\n",
       "    </tr>\n",
       "    <tr>\n",
       "      <th>1</th>\n",
       "      <td>18</td>\n",
       "      <td>male</td>\n",
       "      <td>33.770</td>\n",
       "      <td>1</td>\n",
       "      <td>no</td>\n",
       "      <td>southeast</td>\n",
       "      <td>1725.55230</td>\n",
       "    </tr>\n",
       "    <tr>\n",
       "      <th>2</th>\n",
       "      <td>28</td>\n",
       "      <td>male</td>\n",
       "      <td>33.000</td>\n",
       "      <td>3</td>\n",
       "      <td>no</td>\n",
       "      <td>southeast</td>\n",
       "      <td>4449.46200</td>\n",
       "    </tr>\n",
       "    <tr>\n",
       "      <th>3</th>\n",
       "      <td>33</td>\n",
       "      <td>male</td>\n",
       "      <td>22.705</td>\n",
       "      <td>0</td>\n",
       "      <td>no</td>\n",
       "      <td>northwest</td>\n",
       "      <td>21984.47061</td>\n",
       "    </tr>\n",
       "    <tr>\n",
       "      <th>4</th>\n",
       "      <td>32</td>\n",
       "      <td>male</td>\n",
       "      <td>28.880</td>\n",
       "      <td>0</td>\n",
       "      <td>no</td>\n",
       "      <td>northwest</td>\n",
       "      <td>3866.85520</td>\n",
       "    </tr>\n",
       "  </tbody>\n",
       "</table>\n",
       "</div>"
      ],
      "text/plain": [
       "   age     sex     bmi  children smoker     region      charges\n",
       "0   19  female  27.900         0    yes  southwest  16884.92400\n",
       "1   18    male  33.770         1     no  southeast   1725.55230\n",
       "2   28    male  33.000         3     no  southeast   4449.46200\n",
       "3   33    male  22.705         0     no  northwest  21984.47061\n",
       "4   32    male  28.880         0     no  northwest   3866.85520"
      ]
     },
     "execution_count": 40,
     "metadata": {},
     "output_type": "execute_result"
    }
   ],
   "source": [
    "data = pd.read_csv('insurance.csv')\n",
    "data.head()"
   ]
  },
  {
   "cell_type": "code",
   "execution_count": 41,
   "metadata": {},
   "outputs": [
    {
     "name": "stdout",
     "output_type": "stream",
     "text": [
      "(1338, 7)\n"
     ]
    }
   ],
   "source": [
    "print(data.shape)\n"
   ]
  },
  {
   "cell_type": "code",
   "execution_count": 42,
   "metadata": {},
   "outputs": [
    {
     "data": {
      "text/plain": [
       "age         0\n",
       "sex         0\n",
       "bmi         0\n",
       "children    0\n",
       "smoker      0\n",
       "region      0\n",
       "charges     0\n",
       "dtype: int64"
      ]
     },
     "metadata": {},
     "output_type": "display_data"
    }
   ],
   "source": [
    "display(data.isnull().sum())"
   ]
  },
  {
   "cell_type": "code",
   "execution_count": 43,
   "metadata": {},
   "outputs": [
    {
     "data": {
      "text/plain": [
       "age           int64\n",
       "sex          object\n",
       "bmi         float64\n",
       "children      int64\n",
       "smoker       object\n",
       "region       object\n",
       "charges     float64\n",
       "dtype: object"
      ]
     },
     "metadata": {},
     "output_type": "display_data"
    }
   ],
   "source": [
    "display(data.dtypes)"
   ]
  },
  {
   "cell_type": "code",
   "execution_count": 44,
   "metadata": {},
   "outputs": [
    {
     "data": {
      "text/html": [
       "<div>\n",
       "<style scoped>\n",
       "    .dataframe tbody tr th:only-of-type {\n",
       "        vertical-align: middle;\n",
       "    }\n",
       "\n",
       "    .dataframe tbody tr th {\n",
       "        vertical-align: top;\n",
       "    }\n",
       "\n",
       "    .dataframe thead th {\n",
       "        text-align: right;\n",
       "    }\n",
       "</style>\n",
       "<table border=\"1\" class=\"dataframe\">\n",
       "  <thead>\n",
       "    <tr style=\"text-align: right;\">\n",
       "      <th></th>\n",
       "      <th>age</th>\n",
       "      <th>bmi</th>\n",
       "      <th>children</th>\n",
       "      <th>charges</th>\n",
       "    </tr>\n",
       "  </thead>\n",
       "  <tbody>\n",
       "    <tr>\n",
       "      <th>count</th>\n",
       "      <td>1338.000000</td>\n",
       "      <td>1338.000000</td>\n",
       "      <td>1338.000000</td>\n",
       "      <td>1338.000000</td>\n",
       "    </tr>\n",
       "    <tr>\n",
       "      <th>mean</th>\n",
       "      <td>39.207025</td>\n",
       "      <td>30.663397</td>\n",
       "      <td>1.094918</td>\n",
       "      <td>13270.422265</td>\n",
       "    </tr>\n",
       "    <tr>\n",
       "      <th>std</th>\n",
       "      <td>14.049960</td>\n",
       "      <td>6.098187</td>\n",
       "      <td>1.205493</td>\n",
       "      <td>12110.011237</td>\n",
       "    </tr>\n",
       "    <tr>\n",
       "      <th>min</th>\n",
       "      <td>18.000000</td>\n",
       "      <td>15.960000</td>\n",
       "      <td>0.000000</td>\n",
       "      <td>1121.873900</td>\n",
       "    </tr>\n",
       "    <tr>\n",
       "      <th>25%</th>\n",
       "      <td>27.000000</td>\n",
       "      <td>26.296250</td>\n",
       "      <td>0.000000</td>\n",
       "      <td>4740.287150</td>\n",
       "    </tr>\n",
       "    <tr>\n",
       "      <th>50%</th>\n",
       "      <td>39.000000</td>\n",
       "      <td>30.400000</td>\n",
       "      <td>1.000000</td>\n",
       "      <td>9382.033000</td>\n",
       "    </tr>\n",
       "    <tr>\n",
       "      <th>75%</th>\n",
       "      <td>51.000000</td>\n",
       "      <td>34.693750</td>\n",
       "      <td>2.000000</td>\n",
       "      <td>16639.912515</td>\n",
       "    </tr>\n",
       "    <tr>\n",
       "      <th>max</th>\n",
       "      <td>64.000000</td>\n",
       "      <td>53.130000</td>\n",
       "      <td>5.000000</td>\n",
       "      <td>63770.428010</td>\n",
       "    </tr>\n",
       "  </tbody>\n",
       "</table>\n",
       "</div>"
      ],
      "text/plain": [
       "               age          bmi     children       charges\n",
       "count  1338.000000  1338.000000  1338.000000   1338.000000\n",
       "mean     39.207025    30.663397     1.094918  13270.422265\n",
       "std      14.049960     6.098187     1.205493  12110.011237\n",
       "min      18.000000    15.960000     0.000000   1121.873900\n",
       "25%      27.000000    26.296250     0.000000   4740.287150\n",
       "50%      39.000000    30.400000     1.000000   9382.033000\n",
       "75%      51.000000    34.693750     2.000000  16639.912515\n",
       "max      64.000000    53.130000     5.000000  63770.428010"
      ]
     },
     "execution_count": 44,
     "metadata": {},
     "output_type": "execute_result"
    }
   ],
   "source": [
    "data.describe()"
   ]
  },
  {
   "cell_type": "code",
   "execution_count": 45,
   "metadata": {},
   "outputs": [
    {
     "data": {
      "text/html": [
       "<div>\n",
       "<style scoped>\n",
       "    .dataframe tbody tr th:only-of-type {\n",
       "        vertical-align: middle;\n",
       "    }\n",
       "\n",
       "    .dataframe tbody tr th {\n",
       "        vertical-align: top;\n",
       "    }\n",
       "\n",
       "    .dataframe thead th {\n",
       "        text-align: right;\n",
       "    }\n",
       "</style>\n",
       "<table border=\"1\" class=\"dataframe\">\n",
       "  <thead>\n",
       "    <tr style=\"text-align: right;\">\n",
       "      <th></th>\n",
       "      <th>sex</th>\n",
       "      <th>smoker</th>\n",
       "      <th>region</th>\n",
       "    </tr>\n",
       "  </thead>\n",
       "  <tbody>\n",
       "    <tr>\n",
       "      <th>count</th>\n",
       "      <td>1338</td>\n",
       "      <td>1338</td>\n",
       "      <td>1338</td>\n",
       "    </tr>\n",
       "    <tr>\n",
       "      <th>unique</th>\n",
       "      <td>2</td>\n",
       "      <td>2</td>\n",
       "      <td>4</td>\n",
       "    </tr>\n",
       "    <tr>\n",
       "      <th>top</th>\n",
       "      <td>male</td>\n",
       "      <td>no</td>\n",
       "      <td>southeast</td>\n",
       "    </tr>\n",
       "    <tr>\n",
       "      <th>freq</th>\n",
       "      <td>676</td>\n",
       "      <td>1064</td>\n",
       "      <td>364</td>\n",
       "    </tr>\n",
       "  </tbody>\n",
       "</table>\n",
       "</div>"
      ],
      "text/plain": [
       "         sex smoker     region\n",
       "count   1338   1338       1338\n",
       "unique     2      2          4\n",
       "top     male     no  southeast\n",
       "freq     676   1064        364"
      ]
     },
     "execution_count": 45,
     "metadata": {},
     "output_type": "execute_result"
    }
   ],
   "source": [
    "data.describe(include='object')"
   ]
  },
  {
   "cell_type": "code",
   "execution_count": 46,
   "metadata": {},
   "outputs": [
    {
     "data": {
      "text/plain": [
       "['age', 'bmi', 'children', 'charges']"
      ]
     },
     "execution_count": 46,
     "metadata": {},
     "output_type": "execute_result"
    }
   ],
   "source": [
    "#выделяем имена числовых признаков в виде списка для удобства дальнейшей работы\n",
    "types = data.dtypes\n",
    "num_features = list(types[(types != 'object')].index)\n",
    "num_features"
   ]
  },
  {
   "cell_type": "code",
   "execution_count": 47,
   "metadata": {},
   "outputs": [
    {
     "data": {
      "image/png": "[encoded data removed]",
      "text/plain": [
       "<Figure size 1500x2000 with 8 Axes>"
      ]
     },
     "metadata": {},
     "output_type": "display_data"
    }
   ],
   "source": [
    "n = len(num_features) #количество числовых признаков\n",
    "fig, axes = plt.subplots(n, 2, figsize=(15, 20)) # фигура + n х 2 координатных плоскостей\n",
    "#Создаем цикл для всех признаков из списка числовых признаков\n",
    "for i, feature in enumerate(num_features): #i- индекс, feature - название признака в таблице\n",
    "    #Строим гистограмму распределения признака \n",
    "    histplot = sns.histplot(data=data, x=feature, ax=axes[i][0])\n",
    "    #Добавляем подпись графику\n",
    "    histplot.set_title('{} hist'.format(feature))\n",
    "    #Добавляем поворот отметок на оси абсцисс\n",
    "    histplot.xaxis.set_tick_params(rotation=45)\n",
    "    #Строим диаграмму рассеяния + линейную регрессию\n",
    "    regplot = sns.regplot(data=data, x=feature, y='charges', ax=axes[i][1])\n",
    "    #Добавляем подпись графику\n",
    "    regplot.set_title('{} VS price'.format(feature));\n",
    "    #Добавляем поворот отметок на оси абсцисс\n",
    "    regplot.xaxis.set_tick_params(rotation=45)\n",
    "plt.tight_layout() #выравнивание графиков"
   ]
  },
  {
   "cell_type": "code",
   "execution_count": 48,
   "metadata": {},
   "outputs": [
    {
     "data": {
      "text/plain": [
       "Text(0.5, 1.0, 'Зависимость страховки от пола')"
      ]
     },
     "execution_count": 48,
     "metadata": {},
     "output_type": "execute_result"
    },
    {
     "data": {
      "image/png": "[encoded data removed]",
      "text/plain": [
       "<Figure size 500x1000 with 3 Axes>"
      ]
     },
     "metadata": {},
     "output_type": "display_data"
    }
   ],
   "source": [
    "fig, axes = plt.subplots(3, 1, figsize=(5, 10))\n",
    "\n",
    "axes[0].bar(data['smoker'], data['charges'])\n",
    "axes[0].set_title('Зависимость страховки от курения')\n",
    "axes[1].bar(data['region'], data['charges'], color = 'red')\n",
    "axes[1].set_title('Зависимость страховки от региона')\n",
    "axes[2].bar(data['sex'], data['charges'], color = 'green')\n",
    "axes[2].set_title('Зависимость страховки от пола')"
   ]
  },
  {
   "cell_type": "code",
   "execution_count": 49,
   "metadata": {},
   "outputs": [
    {
     "data": {
      "application/vnd.plotly.v1+json": {
       "config": {
        "plotlyServerURL": "https://plot.ly"
       },
       "data": [
        {
         "coloraxis": "coloraxis",
         "hovertemplate": "smoker: %{x}<br>bmi: %{y}<br>color: %{z}<extra></extra>",
         "name": "0",
         "type": "heatmap",
         "x": [
          "no",
          "yes"
         ],
         "xaxis": "x",
         "y": [
          15.96,
          16.815,
          17.195,
          17.29,
          17.385,
          17.4,
          17.48,
          17.67,
          17.765,
          17.8,
          17.86,
          17.955,
          18.05,
          18.3,
          18.335,
          18.5,
          18.6,
          18.715,
          18.905,
          19,
          19.095,
          19.19,
          19.3,
          19.475,
          19.57,
          19.8,
          19.855,
          19.95,
          20.045,
          20.1,
          20.13,
          20.235,
          20.3,
          20.35,
          20.4,
          20.425,
          20.52,
          20.6,
          20.615,
          20.7,
          20.79,
          20.8,
          20.9,
          21.01,
          21.09,
          21.12,
          21.28,
          21.3,
          21.375,
          21.4,
          21.47,
          21.5,
          21.56,
          21.565,
          21.66,
          21.7,
          21.755,
          21.78,
          21.8,
          21.85,
          21.89,
          21.945,
          22,
          22.04,
          22.1,
          22.135,
          22.22,
          22.23,
          22.3,
          22.42,
          22.515,
          22.6,
          22.61,
          22.705,
          22.77,
          22.8,
          22.88,
          22.895,
          22.99,
          23,
          23.085,
          23.1,
          23.18,
          23.2,
          23.21,
          23.275,
          23.3,
          23.32,
          23.37,
          23.4,
          23.465,
          23.54,
          23.56,
          23.6,
          23.65,
          23.655,
          23.7,
          23.75,
          23.76,
          23.8,
          23.845,
          23.87,
          23.9,
          23.94,
          23.98,
          24.035,
          24.09,
          24.1,
          24.13,
          24.225,
          24.3,
          24.31,
          24.32,
          24.4,
          24.415,
          24.42,
          24.51,
          24.53,
          24.6,
          24.605,
          24.64,
          24.7,
          24.75,
          24.795,
          24.86,
          24.89,
          24.97,
          24.985,
          25,
          25.08,
          25.1,
          25.175,
          25.2,
          25.27,
          25.3,
          25.365,
          25.4,
          25.41,
          25.46,
          25.52,
          25.555,
          25.6,
          25.65,
          25.7,
          25.74,
          25.745,
          25.8,
          25.84,
          25.85,
          25.9,
          25.935,
          26.03,
          26.07,
          26.125,
          26.18,
          26.2,
          26.22,
          26.29,
          26.315,
          26.4,
          26.41,
          26.505,
          26.51,
          26.6,
          26.62,
          26.695,
          26.7,
          26.73,
          26.79,
          26.8,
          26.84,
          26.885,
          26.9,
          26.98,
          27,
          27.06,
          27.075,
          27.1,
          27.17,
          27.2,
          27.265,
          27.28,
          27.3,
          27.36,
          27.4,
          27.455,
          27.5,
          27.55,
          27.6,
          27.61,
          27.645,
          27.7,
          27.72,
          27.74,
          27.8,
          27.83,
          27.835,
          27.9,
          27.93,
          27.94,
          28,
          28.025,
          28.05,
          28.1,
          28.12,
          28.16,
          28.2,
          28.215,
          28.27,
          28.3,
          28.31,
          28.38,
          28.4,
          28.405,
          28.49,
          28.5,
          28.595,
          28.6,
          28.69,
          28.7,
          28.785,
          28.8,
          28.82,
          28.88,
          28.9,
          28.93,
          28.975,
          29,
          29.04,
          29.07,
          29.1,
          29.15,
          29.165,
          29.2,
          29.26,
          29.3,
          29.355,
          29.37,
          29.4,
          29.45,
          29.48,
          29.5,
          29.545,
          29.59,
          29.6,
          29.64,
          29.7,
          29.735,
          29.8,
          29.81,
          29.83,
          29.9,
          29.92,
          29.925,
          30,
          30.02,
          30.03,
          30.1,
          30.115,
          30.14,
          30.2,
          30.21,
          30.25,
          30.3,
          30.305,
          30.36,
          30.4,
          30.495,
          30.5,
          30.59,
          30.685,
          30.69,
          30.78,
          30.8,
          30.875,
          30.9,
          30.97,
          31,
          31.02,
          31.065,
          31.1,
          31.13,
          31.16,
          31.2,
          31.24,
          31.255,
          31.3,
          31.35,
          31.4,
          31.445,
          31.46,
          31.5,
          31.54,
          31.57,
          31.6,
          31.635,
          31.68,
          31.73,
          31.79,
          31.8,
          31.825,
          31.9,
          31.92,
          32,
          32.01,
          32.015,
          32.1,
          32.11,
          32.12,
          32.2,
          32.205,
          32.23,
          32.3,
          32.34,
          32.395,
          32.4,
          32.45,
          32.49,
          32.5,
          32.56,
          32.585,
          32.6,
          32.67,
          32.68,
          32.7,
          32.775,
          32.78,
          32.8,
          32.87,
          32.9,
          32.965,
          33,
          33.06,
          33.1,
          33.11,
          33.155,
          33.2,
          33.25,
          33.3,
          33.33,
          33.345,
          33.4,
          33.44,
          33.5,
          33.535,
          33.55,
          33.63,
          33.66,
          33.7,
          33.725,
          33.77,
          33.8,
          33.82,
          33.88,
          33.915,
          33.99,
          34.01,
          34.1,
          34.105,
          34.2,
          34.21,
          34.295,
          34.3,
          34.32,
          34.39,
          34.4,
          34.43,
          34.485,
          34.5,
          34.58,
          34.6,
          34.675,
          34.7,
          34.77,
          34.8,
          34.865,
          34.87,
          34.9,
          34.96,
          35.09,
          35.1,
          35.15,
          35.2,
          35.245,
          35.3,
          35.31,
          35.4,
          35.42,
          35.435,
          35.5,
          35.53,
          35.6,
          35.625,
          35.64,
          35.7,
          35.72,
          35.75,
          35.8,
          35.815,
          35.86,
          35.9,
          35.91,
          35.97,
          36,
          36.005,
          36.08,
          36.1,
          36.19,
          36.195,
          36.2,
          36.29,
          36.3,
          36.385,
          36.4,
          36.48,
          36.52,
          36.575,
          36.6,
          36.63,
          36.67,
          36.7,
          36.765,
          36.85,
          36.86,
          36.955,
          36.96,
          37,
          37.05,
          37.07,
          37.1,
          37.145,
          37.18,
          37.29,
          37.3,
          37.335,
          37.4,
          37.43,
          37.51,
          37.525,
          37.62,
          37.7,
          37.715,
          37.73,
          37.8,
          37.9,
          37.905,
          38,
          38.06,
          38.095,
          38.17,
          38.19,
          38.28,
          38.285,
          38.38,
          38.39,
          38.6,
          38.665,
          38.83,
          38.9,
          38.94,
          38.95,
          39.05,
          39.1,
          39.14,
          39.16,
          39.2,
          39.27,
          39.33,
          39.4,
          39.425,
          39.49,
          39.5,
          39.52,
          39.6,
          39.615,
          39.7,
          39.71,
          39.8,
          39.805,
          39.82,
          39.9,
          39.93,
          39.995,
          40.15,
          40.185,
          40.26,
          40.28,
          40.3,
          40.37,
          40.375,
          40.47,
          40.48,
          40.5,
          40.565,
          40.66,
          40.81,
          40.92,
          40.945,
          41.1,
          41.14,
          41.23,
          41.325,
          41.42,
          41.47,
          41.69,
          41.8,
          41.895,
          41.91,
          42.13,
          42.24,
          42.35,
          42.4,
          42.46,
          42.655,
          42.68,
          42.75,
          42.9,
          42.94,
          43.01,
          43.12,
          43.34,
          43.4,
          43.7,
          43.89,
          44,
          44.22,
          44.7,
          44.745,
          44.77,
          44.88,
          45.32,
          45.43,
          45.54,
          45.9,
          46.09,
          46.2,
          46.53,
          46.7,
          46.75,
          47.41,
          47.52,
          47.6,
          47.74,
          48.07,
          49.06,
          50.38,
          52.58,
          53.13
         ],
         "yaxis": "y",
         "z": [
          [
           1694.7964,
           0
          ],
          [
           4904.00035,
           0
          ],
          [
           0,
           14455.64405
          ],
          [
           5305.3026,
           12829.4551
          ],
          [
           2775.19215,
           0
          ],
          [
           2585.269,
           0
          ],
          [
           1621.3402,
           0
          ],
          [
           2680.9493,
           0
          ],
          [
           0,
           32734.1863
          ],
          [
           1727.785,
           0
          ],
          [
           5116.5004,
           0
          ],
          [
           0,
           15006.57945
          ],
          [
           9644.2525,
           0
          ],
          [
           0,
           19023.26
          ],
          [
           11534.87265,
           0
          ],
          [
           4766.022,
           0
          ],
          [
           1728.897,
           0
          ],
          [
           21595.38229,
           0
          ],
          [
           4827.90495,
           0
          ],
          [
           6753.038,
           0
          ],
          [
           0,
           16776.30405
          ],
          [
           8627.5411,
           0
          ],
          [
           0,
           15820.699
          ],
          [
           6933.24225,
           0
          ],
          [
           8428.0693,
           0
          ],
          [
           2310.2375,
           17179.522
          ],
          [
           6492.37645,
           0
          ],
          [
           5855.9025,
           22412.6485
          ],
          [
           0,
           18109.274550000002
          ],
          [
           12032.326,
           0
          ],
          [
           0,
           18767.7377
          ],
          [
           3861.20965,
           19594.80965
          ],
          [
           1242.26,
           0
          ],
          [
           8605.3615,
           0
          ],
          [
           3260.199,
           0
          ],
          [
           1625.43375,
           0
          ],
          [
           4544.2348,
           14571.8908
          ],
          [
           5498.237,
           0
          ],
          [
           2803.69785,
           0
          ],
          [
           1242.816,
           0
          ],
          [
           1607.5101,
           0
          ],
          [
           2755.5434999999998,
           0
          ],
          [
           1832.094,
           21195.818
          ],
          [
           11013.7119,
           0
          ],
          [
           13415.0381,
           0
          ],
          [
           6652.5288,
           0
          ],
          [
           4296.2712,
           0
          ],
          [
           9182.17,
           0
          ],
          [
           5861.56275,
           0
          ],
          [
           11511.265500000001,
           0
          ],
          [
           3353.4703,
           0
          ],
          [
           10791.96,
           0
          ],
          [
           9855.1314,
           0
          ],
          [
           0,
           13747.87235
          ],
          [
           14399.8544,
           14283.4594
          ],
          [
           0,
           13844.506
          ],
          [
           4134.08245,
           16657.71745
          ],
          [
           9078.26289,
           0
          ],
          [
           0,
           20167.33603
          ],
          [
           7504.316999999999,
           15737.2045
          ],
          [
           3180.5101,
           0
          ],
          [
           4718.20355,
           0
          ],
          [
           1964.78,
           0
          ],
          [
           13616.3586,
           0
          ],
          [
           10577.087,
           0
          ],
          [
           6291.14515,
           0
          ],
          [
           0,
           19444.2658
          ],
          [
           7602.787200000001,
           0
          ],
          [
           4625.0925,
           0
          ],
          [
           18368.61579,
           14711.7438
          ],
          [
           4428.88785,
           0
          ],
          [
           2457.502,
           18608.262
          ],
          [
           3176.8159,
           24873.3849
          ],
          [
           7173.35995,
           0
          ],
          [
           11833.7823,
           0
          ],
          [
           8127.4295,
           0
          ],
          [
           0,
           23244.7902
          ],
          [
           4719.52405,
           21098.55405
          ],
          [
           1704.5681,
           22199.8401
          ],
          [
           12094.478,
           0
          ],
          [
           8078.267650000001,
           0
          ],
          [
           2483.736,
           0
          ],
          [
           10197.7722,
           0
          ],
          [
           6250.435,
           0
          ],
          [
           2538.6169,
           22218.1149
          ],
          [
           7986.47525,
           0
          ],
          [
           11345.519,
           0
          ],
          [
           1711.0268,
           0
          ],
          [
           7469.3578,
           19964.7463
          ],
          [
           2441.5915,
           0
          ],
          [
           4804.39135,
           0
          ],
          [
           10107.2206,
           0
          ],
          [
           6798.099899999999,
           0
          ],
          [
           6735.659,
           0
          ],
          [
           17626.23951,
           0
          ],
          [
           7741.28595,
           21677.28345
          ],
          [
           7221.8305,
           0
          ],
          [
           3077.0955,
           0
          ],
          [
           0,
           26926.5144
          ],
          [
           3847.674,
           0
          ],
          [
           3557.45405,
           24106.91255
          ],
          [
           8582.3023,
           0
          ],
          [
           5080.096,
           0
          ],
          [
           6858.4796,
           0
          ],
          [
           15201.768655,
           17663.1442
          ],
          [
           10422.91665,
           0
          ],
          [
           2201.0971,
           0
          ],
          [
           14605.352985,
           0
          ],
          [
           4578.7282,
           19852.8242
          ],
          [
           8965.79575,
           0
          ],
          [
           4391.652,
           0
          ],
          [
           6986.981900000001,
           0
          ],
          [
           11193.5383,
           24869.8368
          ],
          [
           0,
           18259.216
          ],
          [
           11520.09985,
           0
          ],
          [
           0,
           21223.6758
          ],
          [
           2709.1119,
           0
          ],
          [
           12629.8967,
           0
          ],
          [
           3183.357,
           17496.306
          ],
          [
           5257.50795,
           21259.37795
          ],
          [
           0,
           19515.5416
          ],
          [
           12323.936,
           21880.82
          ],
          [
           0,
           16577.7795
          ],
          [
           10221.35255,
           20935.95505
          ],
          [
           16542.44059,
           0
          ],
          [
           0,
           21659.9301
          ],
          [
           6593.5083,
           0
          ],
          [
           15629.26784,
           0
          ],
          [
           10537.32,
           0
          ],
          [
           7325.0482,
           0
          ],
          [
           0,
           25382.297
          ],
          [
           3558.62025,
           15518.18025
          ],
          [
           11837.16,
           0
          ],
          [
           3969.4833,
           21771.3423
          ],
          [
           8442.667,
           21819.957000000002
          ],
          [
           13047.33235,
           0
          ],
          [
           8782.469,
           0
          ],
          [
           0,
           21978.6769
          ],
          [
           9225.2564,
           0
          ],
          [
           14478.33015,
           0
          ],
          [
           1927.0644499999999,
           20296.86345
          ],
          [
           8932.084,
           23306.547
          ],
          [
           11454.0215,
           0
          ],
          [
           9101.798,
           17942.106
          ],
          [
           7949.600100000001,
           0
          ],
          [
           3279.86855,
           0
          ],
          [
           4934.705,
           0
          ],
          [
           7274.4231,
           23807.2406
          ],
          [
           0,
           24180.9335
          ],
          [
           4412.8665,
           19199.944
          ],
          [
           4239.89265,
           0
          ],
          [
           3403.6367,
           16450.8947
          ],
          [
           0,
           38245.59327
          ],
          [
           5227.98875,
           23401.30575
          ],
          [
           4675.3622,
           0
          ],
          [
           4883.866,
           0
          ],
          [
           8308.7573,
           0
          ],
          [
           0,
           27808.7251
          ],
          [
           6389.37785,
           0
          ],
          [
           11743.299,
           19539.243
          ],
          [
           8827.2099,
           20149.3229
          ],
          [
           12815.44495,
           0
          ],
          [
           3078.1584,
           0
          ],
          [
           9715.841,
           21348.706
          ],
          [
           5749.9773000000005,
           0
          ],
          [
           4877.98105,
           27105.33105
          ],
          [
           11150.78,
           22478.6
          ],
          [
           3309.2747,
           0
          ],
          [
           8399.50006,
           0
          ],
          [
           19533.130785,
           0
          ],
          [
           1664.9996,
           17085.2676
          ],
          [
           4854.515649999999,
           25552.65265
          ],
          [
           5969.723,
           0
          ],
          [
           7758.8357,
           28950.4692
          ],
          [
           11737.84884,
           0
          ],
          [
           0,
           17043.3414
          ],
          [
           10106.13425,
           0
          ],
          [
           4746.344,
           19040.876
          ],
          [
           10412.1138,
           0
          ],
          [
           6969.6335,
           0
          ],
          [
           8001.16035,
           0
          ],
          [
           0,
           18223.4512
          ],
          [
           0,
           16232.847
          ],
          [
           8606.2174,
           20786.1524
          ],
          [
           7111.870000000001,
           0
          ],
          [
           7439.56595,
           0
          ],
          [
           10424.563999999998,
           0
          ],
          [
           9981.9185,
           0
          ],
          [
           12169.378085,
           24520.264
          ],
          [
           4747.0529,
           0
          ],
          [
           9007.84805,
           24535.69855
          ],
          [
           4984.1905,
           16297.846
          ],
          [
           6323.898800000001,
           0
          ],
          [
           7654.0861,
           25253.6296
          ],
          [
           0,
           37829.7242
          ],
          [
           14001.2867,
           23065.4207
          ],
          [
           5455.13265,
           20009.63365
          ],
          [
           0,
           16884.924
          ],
          [
           7576.3487000000005,
           0
          ],
          [
           7210.6716,
           19107.7796
          ],
          [
           10138.884725,
           23568.272
          ],
          [
           6135.51425,
           20234.85475
          ],
          [
           6770.1925,
           0
          ],
          [
           11353.586,
           0
          ],
          [
           6887.8503,
           21902.0228
          ],
          [
           10702.6424,
           0
          ],
          [
           13041.921,
           0
          ],
          [
           10407.08585,
           24915.22085
          ],
          [
           5132.034799999999,
           0
          ],
          [
           0,
           19081.620000000003
          ],
          [
           11272.33139,
           23451.3159
          ],
          [
           0,
           19521.9682
          ],
          [
           2087.019,
           0
          ],
          [
           5595.934450000001,
           0
          ],
          [
           0,
           18328.2381
          ],
          [
           3537.703,
           26729.13524
          ],
          [
           9103.155050000001,
           0
          ],
          [
           8516.829,
           0
          ],
          [
           9162.0606,
           20745.9891
          ],
          [
           8703.456,
           0
          ],
          [
           11658.37915,
           0
          ],
          [
           6282.235,
           0
          ],
          [
           2156.7518,
           0
          ],
          [
           6748.5912,
           17748.5062
          ],
          [
           8277.523,
           0
          ],
          [
           4973.6547,
           19719.6947
          ],
          [
           3149.01675,
           27218.43725
          ],
          [
           9446.542,
           0
          ],
          [
           7243.8136,
           0
          ],
          [
           0,
           23247.0203
          ],
          [
           3761.292,
           0
          ],
          [
           2902.9065,
           18246.4955
          ],
          [
           7323.734819,
           0
          ],
          [
           10436.096,
           0
          ],
          [
           5311.2814,
           0
          ],
          [
           8903.318365,
           0
          ],
          [
           5478.89745,
           0
          ],
          [
           5133.5638,
           0
          ],
          [
           6059.173,
           0
          ],
          [
           2897.3235,
           0
          ],
          [
           7640.3092,
           0
          ],
          [
           6311.952,
           0
          ],
          [
           8930.93455,
           0
          ],
          [
           4255.1276,
           0
          ],
          [
           6711.6055,
           0
          ],
          [
           12730.9996,
           0
          ],
          [
           9835.496500000001,
           19933.458
          ],
          [
           11257.459825,
           0
          ],
          [
           5152.134,
           25309.489
          ],
          [
           7359.7199,
           23442.1409
          ],
          [
           9454.1787,
           24416.6792
          ],
          [
           7337.748,
           0
          ],
          [
           4889.0368,
           30942.1918
          ],
          [
           5919.42125,
           22462.04375
          ],
          [
           2904.088,
           22144.032
          ],
          [
           13352.0998,
           33307.5508
          ],
          [
           4074.4537,
           0
          ],
          [
           5541.9765,
           0
          ],
          [
           9160.20335,
           0
          ],
          [
           6506.7381000000005,
           0
          ],
          [
           8896.707999999999,
           36449.5995
          ],
          [
           7537.1639,
           43943.8761
          ],
          [
           3704.3545,
           32548.3405
          ],
          [
           4260.744,
           0
          ],
          [
           7070.99595,
           0
          ],
          [
           0,
           62592.87309
          ],
          [
           3111.908,
           33907.548
          ],
          [
           9242.75905,
           40223.03455
          ],
          [
           7727.7699999999995,
           0
          ],
          [
           2727.3951,
           0
          ],
          [
           8310.83915,
           37889.75465
          ],
          [
           6854.1291,
           0
          ],
          [
           10141.1362,
           38433.779200000004
          ],
          [
           7864.3395,
           38745.58
          ],
          [
           5373.36425,
           46718.16325
          ],
          [
           6922.8385,
           39727.614
          ],
          [
           10600.5483,
           0
          ],
          [
           5364.5135,
           0
          ],
          [
           11385.909255,
           35595.5898
          ],
          [
           4347.02335,
           34254.05335
          ],
          [
           1526.312,
           0
          ],
          [
           2566.4707,
           34806.4677
          ],
          [
           10461.9794,
           43578.9394
          ],
          [
           9625.92,
           0
          ],
          [
           10338.9316,
           0
          ],
          [
           3956.07145,
           0
          ],
          [
           0,
           47291.055
          ],
          [
           6925.664,
           42843.510500000004
          ],
          [
           3659.346,
           34502.573000000004
          ],
          [
           11469.25805,
           0
          ],
          [
           14439.457065,
           0
          ],
          [
           4239.365,
           0
          ],
          [
           8250.8901,
           0
          ],
          [
           8697.593799999999,
           0
          ],
          [
           9850.432,
           0
          ],
          [
           8266.15565,
           0
          ],
          [
           0,
           34487.6572
          ],
          [
           7810.522199999999,
           34960.894199999995
          ],
          [
           12928.7911,
           43813.8661
          ],
          [
           13880.949,
           0
          ],
          [
           12724.99625,
           41097.16175
          ],
          [
           11552.904,
           0
          ],
          [
           2261.5688,
           35726.0843
          ],
          [
           8551.347,
           0
          ],
          [
           6964.103899999999,
           0
          ],
          [
           8116.26885,
           45710.20785
          ],
          [
           14007.222,
           0
          ],
          [
           4922.9159,
           0
          ],
          [
           2801.2588,
           0
          ],
          [
           6825.961,
           47305.305
          ],
          [
           10161.79095,
           0
          ],
          [
           13544.656545000002,
           0
          ],
          [
           10003.6545,
           41919.097
          ],
          [
           6985.8981,
           0
          ],
          [
           13019.16105,
           0
          ],
          [
           4149.736,
           0
          ],
          [
           0,
           45008.9555
          ],
          [
           3490.5491,
           36898.73308
          ],
          [
           6238.298,
           0
          ],
          [
           1824.2854,
           40941.2854
          ],
          [
           4846.92015,
           0
          ],
          [
           7698.009,
           0
          ],
          [
           6652.2623,
           0
          ],
          [
           12384.3652,
           0
          ],
          [
           3591.48,
           34472.841
          ],
          [
           10601.63225,
           39564.33225
          ],
          [
           0,
           36021.0112
          ],
          [
           10004.039685,
           52590.82939
          ],
          [
           7050.0213,
           0
          ],
          [
           3561.906,
           36085.219
          ],
          [
           13561.81135,
           0
          ],
          [
           4399.462,
           0
          ],
          [
           7749.1564,
           0
          ],
          [
           12620.948499999999,
           0
          ],
          [
           8545.7189,
           37707.0104
          ],
          [
           6128.79745,
           0
          ],
          [
           13462.52,
           0
          ],
          [
           9722.7695,
           0
          ],
          [
           6343.6630000000005,
           0
          ],
          [
           6217.3547,
           36124.5737
          ],
          [
           10370.91255,
           0
          ],
          [
           6983.977665,
           38415.474
          ],
          [
           8287.5896,
           0
          ],
          [
           0,
           37079.372
          ],
          [
           12706.51265,
           34617.84065
          ],
          [
           5699.8375,
           0
          ],
          [
           11385.1932,
           40764.3557
          ],
          [
           4504.6624,
           0
          ],
          [
           7445.918,
           0
          ],
          [
           9900.11575,
           0
          ],
          [
           1700.0923,
           0
          ],
          [
           0,
           47928.03
          ],
          [
           9010.4178,
           0
          ],
          [
           11734.901525000001,
           46889.2612
          ],
          [
           9990.65685,
           0
          ],
          [
           2850.2276,
           0
          ],
          [
           11356.6609,
           0
          ],
          [
           7418.522,
           40182.246
          ],
          [
           6356.27945,
           41618.92195
          ],
          [
           7261.741,
           40952.0615
          ],
          [
           5245.2269,
           44260.7499
          ],
          [
           13224.05705,
           0
          ],
          [
           9563.029,
           0
          ],
          [
           7147.4728,
           0
          ],
          [
           11743.9341,
           38746.3551
          ],
          [
           1826.843,
           36197.699
          ],
          [
           5584.3057,
           37742.5757
          ],
          [
           3021.80915,
           60021.39897
          ],
          [
           13822.803,
           0
          ],
          [
           5826.5057,
           0
          ],
          [
           2020.177,
           41661.602
          ],
          [
           4518.82625,
           0
          ],
          [
           6082.405,
           36397.576
          ],
          [
           5729.0053,
           0
          ],
          [
           5246.047,
           37308.066999999995
          ],
          [
           7422.04185,
           0
          ],
          [
           2020.5523,
           0
          ],
          [
           0,
           34828.654
          ],
          [
           4466.6214,
           42837.7094
          ],
          [
           0,
           47055.5321
          ],
          [
           12644.589,
           0
          ],
          [
           2134.9015,
           0
          ],
          [
           4670.64,
           41566.489499999996
          ],
          [
           11899.472324999999,
           0
          ],
          [
           7272.5045,
           38470.678499999995
          ],
          [
           23265.217109999998,
           0
          ],
          [
           1263.249,
           0
          ],
          [
           2322.6218,
           0
          ],
          [
           3268.84665,
           0
          ],
          [
           0,
           44585.45587
          ],
          [
           1646.4297,
           42111.6647
          ],
          [
           0,
           35585.576
          ],
          [
           2534.39375,
           37465.34375
          ],
          [
           7345.7266,
           0
          ],
          [
           11362.755,
           0
          ],
          [
           10774.655159999998,
           0
          ],
          [
           4889.9995,
           39278.197499999995
          ],
          [
           9417.112,
           0
          ],
          [
           6681.15785,
           0
          ],
          [
           5836.5204,
           46599.1084
          ],
          [
           11163.568,
           0
          ],
          [
           20013.949095,
           0
          ],
          [
           9386.1613,
           42124.5153
          ],
          [
           5361.8195,
           0
          ],
          [
           13228.84695,
           0
          ],
          [
           9072.3187,
           39672.518200000006
          ],
          [
           12363.547,
           0
          ],
          [
           12567.404815,
           41676.0811
          ],
          [
           7443.64305,
           0
          ],
          [
           8263.0015,
           0
          ],
          [
           6551.7501,
           0
          ],
          [
           11207.367999999999,
           43057.44
          ],
          [
           11436.73815,
           48517.56315
          ],
          [
           0,
           51194.55914
          ],
          [
           12516.52441,
           42760.5022
          ],
          [
           28287.89766,
           0
          ],
          [
           5404.03675,
           0
          ],
          [
           11264.541,
           0
          ],
          [
           7665.6187,
           42969.8527
          ],
          [
           19658.526655,
           39142.9523
          ],
          [
           9144.565,
           0
          ],
          [
           20224.47386,
           47896.79135
          ],
          [
           4877.809,
           36149.4835
          ],
          [
           16768.65973,
           46661.4424
          ],
          [
           10382.151450000001,
           41857.949949999995
          ],
          [
           0,
           49577.6624
          ],
          [
           6814.611500000001,
           0
          ],
          [
           6672.687,
           46255.1125
          ],
          [
           9048.0273,
           38678.076799999995
          ],
          [
           7556.0545,
           0
          ],
          [
           6334.34355,
           0
          ],
          [
           5917.7022,
           0
          ],
          [
           3138.7806,
           0
          ],
          [
           20630.28351,
           0
          ],
          [
           5328.5656500000005,
           0
          ],
          [
           12979.358,
           0
          ],
          [
           5428.7277,
           0
          ],
          [
           10785.1044,
           0
          ],
          [
           33471.97189,
           0
          ],
          [
           3766.8838,
           37165.1638
          ],
          [
           0,
           48824.45
          ],
          [
           30063.58055,
           0
          ],
          [
           7637.6122,
           0
          ],
          [
           0,
           39241.442
          ],
          [
           6474.013,
           0
          ],
          [
           14210.53595,
           0
          ],
          [
           11365.952,
           0
          ],
          [
           9900.6874,
           44400.4064
          ],
          [
           20072.685155,
           58571.07448
          ],
          [
           4989.4163,
           36307.7983
          ],
          [
           14410.9321,
           0
          ],
          [
           10226.2842,
           0
          ],
          [
           7935.29115,
           0
          ],
          [
           12173.485700000001,
           0
          ],
          [
           4463.2051,
           41184.1316
          ],
          [
           7543.7675,
           0
          ],
          [
           3393.35635,
           0
          ],
          [
           12981.3457,
           0
          ],
          [
           5972.378,
           0
          ],
          [
           3471.4096,
           44202.6536
          ],
          [
           0,
           42983.4585
          ],
          [
           13970.7695,
           40932.4295
          ],
          [
           14235.072,
           0
          ],
          [
           12890.05765,
           0
          ],
          [
           13470.8044,
           0
          ],
          [
           13470.86,
           0
          ],
          [
           3500.6123,
           0
          ],
          [
           14901.5167,
           0
          ],
          [
           0,
           38344.566
          ],
          [
           8342.90875,
           0
          ],
          [
           2480.9791,
           0
          ],
          [
           5781.3324999999995,
           0
          ],
          [
           6948.7008,
           0
          ],
          [
           10579.711,
           0
          ],
          [
           2730.10785,
           0
          ],
          [
           11855.1885,
           0
          ],
          [
           19496.71917,
           0
          ],
          [
           15170.069,
           0
          ],
          [
           5101.71245,
           0
          ],
          [
           4795.6568,
           0
          ],
          [
           0,
           48173.361
          ],
          [
           12982.8747,
           0
          ],
          [
           9704.66805,
           0
          ],
          [
           6602.5705,
           38126.2465
          ],
          [
           2709.35715,
           0
          ],
          [
           3671.8689,
           0
          ],
          [
           11463.31077,
           0
          ],
          [
           10602.385,
           0
          ],
          [
           10982.5013,
           43896.3763
          ],
          [
           8733.22925,
           0
          ],
          [
           1984.4533,
           0
          ],
          [
           13831.1152,
           0
          ],
          [
           1759.338,
           0
          ],
          [
           6373.55735,
           47125.60035
          ],
          [
           9875.6804,
           0
          ],
          [
           12485.8009,
           0
          ],
          [
           0,
           48673.5588
          ],
          [
           11566.30055,
           0
          ],
          [
           3989.841,
           0
          ],
          [
           1146.7966,
           48970.2476
          ],
          [
           8821.8857,
           0
          ],
          [
           15555.18875,
           0
          ],
          [
           28476.73499,
           0
          ],
          [
           10977.2063,
           0
          ],
          [
           5438.7491,
           0
          ],
          [
           5662.225,
           47269.854
          ],
          [
           0,
           43753.33705
          ],
          [
           11093.6229,
           0
          ],
          [
           4181.3122,
           44143.6377
          ],
          [
           0,
           38792.6856
          ],
          [
           0,
           46151.1245
          ],
          [
           5038.2835000000005,
           0
          ],
          [
           11326.71487,
           0
          ],
          [
           5757.41345,
           0
          ],
          [
           9800.8882,
           0
          ],
          [
           0,
           40904.1995
          ],
          [
           4536.259,
           47462.894
          ],
          [
           6360.9936,
           0
          ],
          [
           1149.3959,
           0
          ],
          [
           4753.6368,
           0
          ],
          [
           5846.9176,
           0
          ],
          [
           12574.049,
           0
          ],
          [
           11576.13,
           0
          ],
          [
           8944.1151,
           46200.9851
          ],
          [
           13063.883,
           0
          ],
          [
           4130.1718,
           0
          ],
          [
           11411.685,
           0
          ],
          [
           9541.69555,
           0
          ],
          [
           9058.7303,
           0
          ],
          [
           0,
           39722.7462
          ],
          [
           8569.8618,
           0
          ],
          [
           6356.2707,
           0
          ],
          [
           0,
           42112.2356
          ],
          [
           3693.428,
           0
          ],
          [
           9549.5651,
           0
          ],
          [
           0,
           45863.205
          ],
          [
           4686.3887,
           0
          ],
          [
           11538.421,
           0
          ],
          [
           12592.5345,
           0
          ],
          [
           0,
           63770.42801
          ],
          [
           8083.9198,
           0
          ],
          [
           0,
           46113.511
          ],
          [
           9748.9106,
           0
          ],
          [
           9432.9253,
           0
          ],
          [
           11381.3254,
           0
          ],
          [
           2438.0552,
           0
          ],
          [
           0,
           44501.3982
          ],
          [
           1163.4627,
           0
          ]
         ]
        }
       ],
       "layout": {
        "coloraxis": {
         "colorscale": [
          [
           0,
           "rgb(247,251,255)"
          ],
          [
           0.125,
           "rgb(222,235,247)"
          ],
          [
           0.25,
           "rgb(198,219,239)"
          ],
          [
           0.375,
           "rgb(158,202,225)"
          ],
          [
           0.5,
           "rgb(107,174,214)"
          ],
          [
           0.625,
           "rgb(66,146,198)"
          ],
          [
           0.75,
           "rgb(33,113,181)"
          ],
          [
           0.875,
           "rgb(8,81,156)"
          ],
          [
           1,
           "rgb(8,48,107)"
          ]
         ]
        },
        "template": {
         "data": {
          "bar": [
           {
            "error_x": {
             "color": "#2a3f5f"
            },
            "error_y": {
             "color": "#2a3f5f"
            },
            "marker": {
             "line": {
              "color": "#E5ECF6",
              "width": 0.5
             },
             "pattern": {
              "fillmode": "overlay",
              "size": 10,
              "solidity": 0.2
             }
            },
            "type": "bar"
           }
          ],
          "barpolar": [
           {
            "marker": {
             "line": {
              "color": "#E5ECF6",
              "width": 0.5
             },
             "pattern": {
              "fillmode": "overlay",
              "size": 10,
              "solidity": 0.2
             }
            },
            "type": "barpolar"
           }
          ],
          "carpet": [
           {
            "aaxis": {
             "endlinecolor": "#2a3f5f",
             "gridcolor": "white",
             "linecolor": "white",
             "minorgridcolor": "white",
             "startlinecolor": "#2a3f5f"
            },
            "baxis": {
             "endlinecolor": "#2a3f5f",
             "gridcolor": "white",
             "linecolor": "white",
             "minorgridcolor": "white",
             "startlinecolor": "#2a3f5f"
            },
            "type": "carpet"
           }
          ],
          "choropleth": [
           {
            "colorbar": {
             "outlinewidth": 0,
             "ticks": ""
            },
            "type": "choropleth"
           }
          ],
          "contour": [
           {
            "colorbar": {
             "outlinewidth": 0,
             "ticks": ""
            },
            "colorscale": [
             [
              0,
              "#0d0887"
             ],
             [
              0.1111111111111111,
              "#46039f"
             ],
             [
              0.2222222222222222,
              "#7201a8"
             ],
             [
              0.3333333333333333,
              "#9c179e"
             ],
             [
              0.4444444444444444,
              "#bd3786"
             ],
             [
              0.5555555555555556,
              "#d8576b"
             ],
             [
              0.6666666666666666,
              "#ed7953"
             ],
             [
              0.7777777777777778,
              "#fb9f3a"
             ],
             [
              0.8888888888888888,
              "#fdca26"
             ],
             [
              1,
              "#f0f921"
             ]
            ],
            "type": "contour"
           }
          ],
          "contourcarpet": [
           {
            "colorbar": {
             "outlinewidth": 0,
             "ticks": ""
            },
            "type": "contourcarpet"
           }
          ],
          "heatmap": [
           {
            "colorbar": {
             "outlinewidth": 0,
             "ticks": ""
            },
            "colorscale": [
             [
              0,
              "#0d0887"
             ],
             [
              0.1111111111111111,
              "#46039f"
             ],
             [
              0.2222222222222222,
              "#7201a8"
             ],
             [
              0.3333333333333333,
              "#9c179e"
             ],
             [
              0.4444444444444444,
              "#bd3786"
             ],
             [
              0.5555555555555556,
              "#d8576b"
             ],
             [
              0.6666666666666666,
              "#ed7953"
             ],
             [
              0.7777777777777778,
              "#fb9f3a"
             ],
             [
              0.8888888888888888,
              "#fdca26"
             ],
             [
              1,
              "#f0f921"
             ]
            ],
            "type": "heatmap"
           }
          ],
          "heatmapgl": [
           {
            "colorbar": {
             "outlinewidth": 0,
             "ticks": ""
            },
            "colorscale": [
             [
              0,
              "#0d0887"
             ],
             [
              0.1111111111111111,
              "#46039f"
             ],
             [
              0.2222222222222222,
              "#7201a8"
             ],
             [
              0.3333333333333333,
              "#9c179e"
             ],
             [
              0.4444444444444444,
              "#bd3786"
             ],
             [
              0.5555555555555556,
              "#d8576b"
             ],
             [
              0.6666666666666666,
              "#ed7953"
             ],
             [
              0.7777777777777778,
              "#fb9f3a"
             ],
             [
              0.8888888888888888,
              "#fdca26"
             ],
             [
              1,
              "#f0f921"
             ]
            ],
            "type": "heatmapgl"
           }
          ],
          "histogram": [
           {
            "marker": {
             "pattern": {
              "fillmode": "overlay",
              "size": 10,
              "solidity": 0.2
             }
            },
            "type": "histogram"
           }
          ],
          "histogram2d": [
           {
            "colorbar": {
             "outlinewidth": 0,
             "ticks": ""
            },
            "colorscale": [
             [
              0,
              "#0d0887"
             ],
             [
              0.1111111111111111,
              "#46039f"
             ],
             [
              0.2222222222222222,
              "#7201a8"
             ],
             [
              0.3333333333333333,
              "#9c179e"
             ],
             [
              0.4444444444444444,
              "#bd3786"
             ],
             [
              0.5555555555555556,
              "#d8576b"
             ],
             [
              0.6666666666666666,
              "#ed7953"
             ],
             [
              0.7777777777777778,
              "#fb9f3a"
             ],
             [
              0.8888888888888888,
              "#fdca26"
             ],
             [
              1,
              "#f0f921"
             ]
            ],
            "type": "histogram2d"
           }
          ],
          "histogram2dcontour": [
           {
            "colorbar": {
             "outlinewidth": 0,
             "ticks": ""
            },
            "colorscale": [
             [
              0,
              "#0d0887"
             ],
             [
              0.1111111111111111,
              "#46039f"
             ],
             [
              0.2222222222222222,
              "#7201a8"
             ],
             [
              0.3333333333333333,
              "#9c179e"
             ],
             [
              0.4444444444444444,
              "#bd3786"
             ],
             [
              0.5555555555555556,
              "#d8576b"
             ],
             [
              0.6666666666666666,
              "#ed7953"
             ],
             [
              0.7777777777777778,
              "#fb9f3a"
             ],
             [
              0.8888888888888888,
              "#fdca26"
             ],
             [
              1,
              "#f0f921"
             ]
            ],
            "type": "histogram2dcontour"
           }
          ],
          "mesh3d": [
           {
            "colorbar": {
             "outlinewidth": 0,
             "ticks": ""
            },
            "type": "mesh3d"
           }
          ],
          "parcoords": [
           {
            "line": {
             "colorbar": {
              "outlinewidth": 0,
              "ticks": ""
             }
            },
            "type": "parcoords"
           }
          ],
          "pie": [
           {
            "automargin": true,
            "type": "pie"
           }
          ],
          "scatter": [
           {
            "fillpattern": {
             "fillmode": "overlay",
             "size": 10,
             "solidity": 0.2
            },
            "type": "scatter"
           }
          ],
          "scatter3d": [
           {
            "line": {
             "colorbar": {
              "outlinewidth": 0,
              "ticks": ""
             }
            },
            "marker": {
             "colorbar": {
              "outlinewidth": 0,
              "ticks": ""
             }
            },
            "type": "scatter3d"
           }
          ],
          "scattercarpet": [
           {
            "marker": {
             "colorbar": {
              "outlinewidth": 0,
              "ticks": ""
             }
            },
            "type": "scattercarpet"
           }
          ],
          "scattergeo": [
           {
            "marker": {
             "colorbar": {
              "outlinewidth": 0,
              "ticks": ""
             }
            },
            "type": "scattergeo"
           }
          ],
          "scattergl": [
           {
            "marker": {
             "colorbar": {
              "outlinewidth": 0,
              "ticks": ""
             }
            },
            "type": "scattergl"
           }
          ],
          "scattermapbox": [
           {
            "marker": {
             "colorbar": {
              "outlinewidth": 0,
              "ticks": ""
             }
            },
            "type": "scattermapbox"
           }
          ],
          "scatterpolar": [
           {
            "marker": {
             "colorbar": {
              "outlinewidth": 0,
              "ticks": ""
             }
            },
            "type": "scatterpolar"
           }
          ],
          "scatterpolargl": [
           {
            "marker": {
             "colorbar": {
              "outlinewidth": 0,
              "ticks": ""
             }
            },
            "type": "scatterpolargl"
           }
          ],
          "scatterternary": [
           {
            "marker": {
             "colorbar": {
              "outlinewidth": 0,
              "ticks": ""
             }
            },
            "type": "scatterternary"
           }
          ],
          "surface": [
           {
            "colorbar": {
             "outlinewidth": 0,
             "ticks": ""
            },
            "colorscale": [
             [
              0,
              "#0d0887"
             ],
             [
              0.1111111111111111,
              "#46039f"
             ],
             [
              0.2222222222222222,
              "#7201a8"
             ],
             [
              0.3333333333333333,
              "#9c179e"
             ],
             [
              0.4444444444444444,
              "#bd3786"
             ],
             [
              0.5555555555555556,
              "#d8576b"
             ],
             [
              0.6666666666666666,
              "#ed7953"
             ],
             [
              0.7777777777777778,
              "#fb9f3a"
             ],
             [
              0.8888888888888888,
              "#fdca26"
             ],
             [
              1,
              "#f0f921"
             ]
            ],
            "type": "surface"
           }
          ],
          "table": [
           {
            "cells": {
             "fill": {
              "color": "#EBF0F8"
             },
             "line": {
              "color": "white"
             }
            },
            "header": {
             "fill": {
              "color": "#C8D4E3"
             },
             "line": {
              "color": "white"
             }
            },
            "type": "table"
           }
          ]
         },
         "layout": {
          "annotationdefaults": {
           "arrowcolor": "#2a3f5f",
           "arrowhead": 0,
           "arrowwidth": 1
          },
          "autotypenumbers": "strict",
          "coloraxis": {
           "colorbar": {
            "outlinewidth": 0,
            "ticks": ""
           }
          },
          "colorscale": {
           "diverging": [
            [
             0,
             "#8e0152"
            ],
            [
             0.1,
             "#c51b7d"
            ],
            [
             0.2,
             "#de77ae"
            ],
            [
             0.3,
             "#f1b6da"
            ],
            [
             0.4,
             "#fde0ef"
            ],
            [
             0.5,
             "#f7f7f7"
            ],
            [
             0.6,
             "#e6f5d0"
            ],
            [
             0.7,
             "#b8e186"
            ],
            [
             0.8,
             "#7fbc41"
            ],
            [
             0.9,
             "#4d9221"
            ],
            [
             1,
             "#276419"
            ]
           ],
           "sequential": [
            [
             0,
             "#0d0887"
            ],
            [
             0.1111111111111111,
             "#46039f"
            ],
            [
             0.2222222222222222,
             "#7201a8"
            ],
            [
             0.3333333333333333,
             "#9c179e"
            ],
            [
             0.4444444444444444,
             "#bd3786"
            ],
            [
             0.5555555555555556,
             "#d8576b"
            ],
            [
             0.6666666666666666,
             "#ed7953"
            ],
            [
             0.7777777777777778,
             "#fb9f3a"
            ],
            [
             0.8888888888888888,
             "#fdca26"
            ],
            [
             1,
             "#f0f921"
            ]
           ],
           "sequentialminus": [
            [
             0,
             "#0d0887"
            ],
            [
             0.1111111111111111,
             "#46039f"
            ],
            [
             0.2222222222222222,
             "#7201a8"
            ],
            [
             0.3333333333333333,
             "#9c179e"
            ],
            [
             0.4444444444444444,
             "#bd3786"
            ],
            [
             0.5555555555555556,
             "#d8576b"
            ],
            [
             0.6666666666666666,
             "#ed7953"
            ],
            [
             0.7777777777777778,
             "#fb9f3a"
            ],
            [
             0.8888888888888888,
             "#fdca26"
            ],
            [
             1,
             "#f0f921"
            ]
           ]
          },
          "colorway": [
           "#636efa",
           "#EF553B",
           "#00cc96",
           "#ab63fa",
           "#FFA15A",
           "#19d3f3",
           "#FF6692",
           "#B6E880",
           "#FF97FF",
           "#FECB52"
          ],
          "font": {
           "color": "#2a3f5f"
          },
          "geo": {
           "bgcolor": "white",
           "lakecolor": "white",
           "landcolor": "#E5ECF6",
           "showlakes": true,
           "showland": true,
           "subunitcolor": "white"
          },
          "hoverlabel": {
           "align": "left"
          },
          "hovermode": "closest",
          "mapbox": {
           "style": "light"
          },
          "paper_bgcolor": "white",
          "plot_bgcolor": "#E5ECF6",
          "polar": {
           "angularaxis": {
            "gridcolor": "white",
            "linecolor": "white",
            "ticks": ""
           },
           "bgcolor": "#E5ECF6",
           "radialaxis": {
            "gridcolor": "white",
            "linecolor": "white",
            "ticks": ""
           }
          },
          "scene": {
           "xaxis": {
            "backgroundcolor": "#E5ECF6",
            "gridcolor": "white",
            "gridwidth": 2,
            "linecolor": "white",
            "showbackground": true,
            "ticks": "",
            "zerolinecolor": "white"
           },
           "yaxis": {
            "backgroundcolor": "#E5ECF6",
            "gridcolor": "white",
            "gridwidth": 2,
            "linecolor": "white",
            "showbackground": true,
            "ticks": "",
            "zerolinecolor": "white"
           },
           "zaxis": {
            "backgroundcolor": "#E5ECF6",
            "gridcolor": "white",
            "gridwidth": 2,
            "linecolor": "white",
            "showbackground": true,
            "ticks": "",
            "zerolinecolor": "white"
           }
          },
          "shapedefaults": {
           "line": {
            "color": "#2a3f5f"
           }
          },
          "ternary": {
           "aaxis": {
            "gridcolor": "white",
            "linecolor": "white",
            "ticks": ""
           },
           "baxis": {
            "gridcolor": "white",
            "linecolor": "white",
            "ticks": ""
           },
           "bgcolor": "#E5ECF6",
           "caxis": {
            "gridcolor": "white",
            "linecolor": "white",
            "ticks": ""
           }
          },
          "title": {
           "x": 0.05
          },
          "xaxis": {
           "automargin": true,
           "gridcolor": "white",
           "linecolor": "white",
           "ticks": "",
           "title": {
            "standoff": 15
           },
           "zerolinecolor": "white",
           "zerolinewidth": 2
          },
          "yaxis": {
           "automargin": true,
           "gridcolor": "white",
           "linecolor": "white",
           "ticks": "",
           "title": {
            "standoff": 15
           },
           "zerolinecolor": "white",
           "zerolinewidth": 2
          }
         }
        },
        "title": {
         "text": "Зависимость страховки от ИМТ и курения"
        },
        "width": 700,
        "xaxis": {
         "anchor": "y",
         "domain": [
          0,
          1
         ],
         "title": {
          "text": "smoker"
         }
        },
        "yaxis": {
         "anchor": "x",
         "autorange": "reversed",
         "domain": [
          0,
          1
         ],
         "title": {
          "text": "bmi"
         }
        }
       }
      }
     },
     "metadata": {},
     "output_type": "display_data"
    }
   ],
   "source": [
    "import plotly.express as px\n",
    "\n",
    "pivot = data.pivot_table(\n",
    "    index='bmi',\n",
    "    columns='smoker',\n",
    "    values='charges',\n",
    "    aggfunc='median',\n",
    "    fill_value=0)\n",
    "fig = px.imshow(\n",
    "    pivot,\n",
    "    aspect='auto',\n",
    "    color_continuous_scale='blues',\n",
    "    title='Зависимость страховки от ИМТ и курения',\n",
    "    width  = 700)\n",
    "fig.show()"
   ]
  },
  {
   "cell_type": "code",
   "execution_count": 50,
   "metadata": {},
   "outputs": [
    {
     "data": {
      "text/html": [
       "<div>\n",
       "<style scoped>\n",
       "    .dataframe tbody tr th:only-of-type {\n",
       "        vertical-align: middle;\n",
       "    }\n",
       "\n",
       "    .dataframe tbody tr th {\n",
       "        vertical-align: top;\n",
       "    }\n",
       "\n",
       "    .dataframe thead th {\n",
       "        text-align: right;\n",
       "    }\n",
       "</style>\n",
       "<table border=\"1\" class=\"dataframe\">\n",
       "  <thead>\n",
       "    <tr style=\"text-align: right;\">\n",
       "      <th></th>\n",
       "      <th>age</th>\n",
       "      <th>sex</th>\n",
       "      <th>bmi</th>\n",
       "      <th>children</th>\n",
       "      <th>smoker</th>\n",
       "      <th>charges</th>\n",
       "      <th>region_northeast</th>\n",
       "      <th>region_northwest</th>\n",
       "      <th>region_southeast</th>\n",
       "      <th>region_southwest</th>\n",
       "    </tr>\n",
       "  </thead>\n",
       "  <tbody>\n",
       "    <tr>\n",
       "      <th>0</th>\n",
       "      <td>19</td>\n",
       "      <td>0</td>\n",
       "      <td>27.900</td>\n",
       "      <td>0</td>\n",
       "      <td>1</td>\n",
       "      <td>16884.92400</td>\n",
       "      <td>0</td>\n",
       "      <td>0</td>\n",
       "      <td>0</td>\n",
       "      <td>1</td>\n",
       "    </tr>\n",
       "    <tr>\n",
       "      <th>1</th>\n",
       "      <td>18</td>\n",
       "      <td>1</td>\n",
       "      <td>33.770</td>\n",
       "      <td>1</td>\n",
       "      <td>0</td>\n",
       "      <td>1725.55230</td>\n",
       "      <td>0</td>\n",
       "      <td>0</td>\n",
       "      <td>1</td>\n",
       "      <td>0</td>\n",
       "    </tr>\n",
       "    <tr>\n",
       "      <th>2</th>\n",
       "      <td>28</td>\n",
       "      <td>1</td>\n",
       "      <td>33.000</td>\n",
       "      <td>3</td>\n",
       "      <td>0</td>\n",
       "      <td>4449.46200</td>\n",
       "      <td>0</td>\n",
       "      <td>0</td>\n",
       "      <td>1</td>\n",
       "      <td>0</td>\n",
       "    </tr>\n",
       "    <tr>\n",
       "      <th>3</th>\n",
       "      <td>33</td>\n",
       "      <td>1</td>\n",
       "      <td>22.705</td>\n",
       "      <td>0</td>\n",
       "      <td>0</td>\n",
       "      <td>21984.47061</td>\n",
       "      <td>0</td>\n",
       "      <td>1</td>\n",
       "      <td>0</td>\n",
       "      <td>0</td>\n",
       "    </tr>\n",
       "    <tr>\n",
       "      <th>4</th>\n",
       "      <td>32</td>\n",
       "      <td>1</td>\n",
       "      <td>28.880</td>\n",
       "      <td>0</td>\n",
       "      <td>0</td>\n",
       "      <td>3866.85520</td>\n",
       "      <td>0</td>\n",
       "      <td>1</td>\n",
       "      <td>0</td>\n",
       "      <td>0</td>\n",
       "    </tr>\n",
       "  </tbody>\n",
       "</table>\n",
       "</div>"
      ],
      "text/plain": [
       "   age  sex     bmi  children  smoker      charges  region_northeast  \\\n",
       "0   19    0  27.900         0       1  16884.92400                 0   \n",
       "1   18    1  33.770         1       0   1725.55230                 0   \n",
       "2   28    1  33.000         3       0   4449.46200                 0   \n",
       "3   33    1  22.705         0       0  21984.47061                 0   \n",
       "4   32    1  28.880         0       0   3866.85520                 0   \n",
       "\n",
       "   region_northwest  region_southeast  region_southwest  \n",
       "0                 0                 0                 1  \n",
       "1                 0                 1                 0  \n",
       "2                 0                 1                 0  \n",
       "3                 1                 0                 0  \n",
       "4                 1                 0                 0  "
      ]
     },
     "execution_count": 50,
     "metadata": {},
     "output_type": "execute_result"
    }
   ],
   "source": [
    "#кодируем бинарные категориальные признаки\n",
    "data['smoker'] = data['smoker'].apply(lambda x: 0 if x == 'no' else 1)\n",
    "data['sex'] = data['sex'].apply(lambda x: 0 if x == 'female' else 1)\n",
    "#оставшиеся категориальные признаки кодируем с помощью OneHot\n",
    "data = pd.get_dummies(data)\n",
    "data.head()"
   ]
  },
  {
   "cell_type": "code",
   "execution_count": 51,
   "metadata": {},
   "outputs": [],
   "source": [
    "# Выделим факторы и целевой признак в отдельные таблицы\n",
    "\n",
    "features = data.drop('charges', axis=1).columns\n",
    "X, y = data[features], data['charges']"
   ]
  },
  {
   "cell_type": "code",
   "execution_count": 52,
   "metadata": {},
   "outputs": [
    {
     "name": "stdout",
     "output_type": "stream",
     "text": [
      "Train shape: (1070, 9)\n",
      "Test shape: (268, 9)\n"
     ]
    }
   ],
   "source": [
    "#Создаем тренировочную и тестовую выборки с помощью train_test_split\n",
    "X_train, X_test, y_train, y_test = train_test_split(\n",
    "    X, y, #таблица с наблюдениями и столбец с правильным ответами\n",
    "    test_size=0.2, #размер тестовой выборки\n",
    "    random_state=42 #число отвечающее за генерацию случайных чисел\n",
    ")\n",
    "#Выводим размеры полученных выборок\n",
    "print('Train shape: {}'.format(X_train.shape))\n",
    "print('Test shape: {}'.format(X_test.shape))"
   ]
  },
  {
   "cell_type": "code",
   "execution_count": 53,
   "metadata": {},
   "outputs": [],
   "source": [
    "# функция для метрик\n",
    "\n",
    "def print_metrics(y_train, y_train_predict, y_test, y_test_predict):\n",
    "    print('Train R^2: {:.3f}'.format(metrics.r2_score(y_train, y_train_predict)))\n",
    "    print('Train MAE: {:.3f}'.format(metrics.mean_absolute_error(y_train, y_train_predict)))\n",
    "    print('Train MAPE: {:.3f}'.format(metrics.mean_absolute_percentage_error(y_train, y_train_predict)*100))\n",
    "    print('\\n')\n",
    "    print('Test R^2: {:.3f}'.format(metrics.r2_score(y_test, y_test_predict)))\n",
    "    print('Test MAE: {:.3f}'.format(metrics.mean_absolute_error(y_test, y_test_predict)))\n",
    "    print('Train MAPE: {:.3f}'.format(metrics.mean_absolute_percentage_error(y_test, y_test_predict)*100))"
   ]
  },
  {
   "cell_type": "code",
   "execution_count": 54,
   "metadata": {},
   "outputs": [
    {
     "name": "stdout",
     "output_type": "stream",
     "text": [
      "Train R^2: 0.742\n",
      "Train MAE: 4208.235\n",
      "Train MAPE: 42.203\n",
      "\n",
      "\n",
      "Test R^2: 0.784\n",
      "Test MAE: 4181.194\n",
      "Train MAPE: 46.888\n"
     ]
    }
   ],
   "source": [
    "#Инициализируем объект класса линейная регрессия\n",
    "lr = linear_model.LinearRegression()\n",
    "#Обучаем модель - ищем параметры\n",
    "lr.fit(X_train, y_train)\n",
    "#Делаем предсказание для каждой из выборок\n",
    "y_train_pred = lr.predict(X_train)\n",
    "y_test_pred = lr.predict(X_test)\n",
    "#Выводим результирующие метрики\n",
    "print_metrics(y_train, y_train_pred, y_test, y_test_pred)"
   ]
  },
  {
   "cell_type": "code",
   "execution_count": 55,
   "metadata": {},
   "outputs": [
    {
     "data": {
      "image/png": "[encoded data removed]",
      "text/plain": [
       "<Figure size 1200x600 with 1 Axes>"
      ]
     },
     "metadata": {},
     "output_type": "display_data"
    }
   ],
   "source": [
    "#Визуализируем ошибки\n",
    "fig, ax = plt.subplots(figsize=(12, 6)) #фигура+координатная плоскость\n",
    "#Ошибки модели на тренировочной выборке \n",
    "y_train_errors = y_train - y_train_pred\n",
    "#Ошибки модели на тестовой выборке\n",
    "y_test_errors = y_test - y_test_pred\n",
    "#Для удобства визуализации составим DataFrame из ошибок\n",
    "predict_df = pd.DataFrame(\n",
    "    {'Train errors': y_train_errors, \n",
    "     'Test errors': y_test_errors\n",
    "    }\n",
    ")\n",
    "#Строим boxplot для ошибок\n",
    "sns.boxplot(data=predict_df, ax=ax)\n",
    "ax.set_xlabel('Model errors') #название оси абсцисс\n",
    "ax.set_ylabel('Model'); #название оси ординат"
   ]
  },
  {
   "cell_type": "code",
   "execution_count": 56,
   "metadata": {},
   "outputs": [
    {
     "name": "stdout",
     "output_type": "stream",
     "text": [
      "Train shape: (1070, 54)\n",
      "Test shape: (268, 54)\n"
     ]
    }
   ],
   "source": [
    "#Создаем объект для min-max нормализации\n",
    "scaler = preprocessing.MinMaxScaler()\n",
    "#Вычисляем параметры для нормализации - min и max для каждого столбца\n",
    "scaler.fit(X_train)\n",
    "#Производим преобразование для каждой из выборок\n",
    "X_train_scaled = scaler.transform(X_train)\n",
    "X_test_scaled = scaler.transform(X_test)\n",
    "\n",
    "#Создаем объект для генерации полиномиальных признаков степени 2\n",
    "poly = preprocessing.PolynomialFeatures(degree=2, include_bias=False)\n",
    "#Вычисляем параметры генерации - результирующее количество признак\n",
    "poly.fit(X_train_scaled)\n",
    "#Производим преобразование для каждой из выборок\n",
    "X_train_scaled_poly = poly.transform(X_train_scaled)\n",
    "X_test_scaled_poly = poly.transform(X_test_scaled)\n",
    "\n",
    "print('Train shape: {}'.format(X_train_scaled_poly.shape))\n",
    "print('Test shape: {}'.format(X_test_scaled_poly.shape))"
   ]
  },
  {
   "cell_type": "code",
   "execution_count": 58,
   "metadata": {},
   "outputs": [
    {
     "name": "stdout",
     "output_type": "stream",
     "text": [
      "Train R^2: 0.842\n",
      "Train MAE: 2912.014\n",
      "Train MAPE: 29.398\n",
      "\n",
      "\n",
      "Test R^2: 0.866\n",
      "Test MAE: 2755.768\n",
      "Train MAPE: 30.333\n"
     ]
    }
   ],
   "source": [
    "lr_poly = linear_model.LinearRegression()\n",
    "lr_poly.fit(X_train_scaled_poly, y_train)\n",
    "y_train_pred = lr_poly.predict(X_train_scaled_poly)\n",
    "y_test_pred = lr_poly.predict(X_test_scaled_poly)\n",
    "\n",
    "print_metrics(y_train, y_train_pred, y_test, y_test_pred)"
   ]
  },
  {
   "cell_type": "code",
   "execution_count": 59,
   "metadata": {},
   "outputs": [
    {
     "data": {
      "text/plain": [
       "array([-3.06227002e+16,  1.86235653e+17,  5.08892343e+14,  4.78013503e+15,\n",
       "        1.28211003e+16, -1.41917221e+16, -6.61624882e+15, -6.95752237e+15,\n",
       "       -4.20906736e+15,  8.42000000e+03,  8.26000000e+02,  9.40000000e+02,\n",
       "       -1.67400000e+03,  1.20000000e+02,  3.06227002e+16,  3.06227002e+16,\n",
       "        3.06227002e+16,  3.06227002e+16, -1.53014624e+17,  7.13750000e+02,\n",
       "       -1.22287500e+03,  2.17125000e+02, -3.32210291e+16, -3.32210291e+16,\n",
       "       -3.32210291e+16, -3.32210291e+16, -9.68037500e+03,  1.60443750e+03,\n",
       "        5.48209531e+04, -5.08892343e+14, -5.08892343e+14, -5.08892343e+14,\n",
       "       -5.08892343e+14, -2.04800000e+03, -2.23400000e+03, -4.78013503e+15,\n",
       "       -4.78013503e+15, -4.78013503e+15, -4.78013503e+15, -6.39877451e+15,\n",
       "       -6.42232583e+15, -6.42232583e+15, -6.42232583e+15, -6.42232583e+15,\n",
       "       -2.95896241e+15,  0.00000000e+00,  0.00000000e+00,  0.00000000e+00,\n",
       "       -1.05344357e+16,  0.00000000e+00,  0.00000000e+00, -1.01931622e+16,\n",
       "        0.00000000e+00, -1.29416172e+16])"
      ]
     },
     "execution_count": 59,
     "metadata": {},
     "output_type": "execute_result"
    }
   ],
   "source": [
    "# Выведите значения коэффициентов полученной модели. Посмотрите на степени коэффициентов.\n",
    "\n",
    "lr_poly.coef_"
   ]
  },
  {
   "cell_type": "code",
   "execution_count": 60,
   "metadata": {},
   "outputs": [
    {
     "name": "stdout",
     "output_type": "stream",
     "text": [
      "Train R^2: 0.842\n",
      "Train MAE: 2890.473\n",
      "Train MAPE: 29.401\n",
      "\n",
      "\n",
      "Test R^2: 0.867\n",
      "Test MAE: 2719.334\n",
      "Train MAPE: 30.070\n"
     ]
    }
   ],
   "source": [
    "# Постройте линейную регрессию с L1-регуляризацией (Lasso) на полиномиальных признаках. В качестве параметра alpha используйте значение по умолчанию, параметр max_iter установите в значение 2000.\n",
    "\n",
    "#Инициализируем объект класса линейная регрессия с L2-регуляризацией \n",
    "ridge_lr_poly = linear_model.Lasso(max_iter = 2000)\n",
    "#Обучаем модель предсказывать логарифм целевого признака\n",
    "ridge_lr_poly.fit(X_train_scaled_poly, y_train)\n",
    "#Делаем предсказание для каждой из выборок\n",
    "#Если обучили на логарифме, то от результата необходимо взять обратную функцию - экспоненту\n",
    "y_train_pred = ridge_lr_poly.predict(X_train_scaled_poly)\n",
    "y_test_pred = ridge_lr_poly.predict(X_test_scaled_poly)\n",
    "#Выводим результирующие метрик\n",
    "print_metrics(y_train, y_train_pred, y_test, y_test_pred)\n",
    "\n",
    "\n",
    "Train R^2: 0.842\n",
    "Train MAE: 2912.014\n",
    "Train MAPE: 29.398\n",
    "\n",
    "\n",
    "Test R^2: 0.866\n",
    "Test MAE: 2755.768\n",
    "Train MAPE: 30.333"
   ]
  },
  {
   "cell_type": "code",
   "execution_count": 61,
   "metadata": {},
   "outputs": [
    {
     "data": {
      "text/plain": [
       "array([ 3.24221653e+03, -4.92313816e+02,  5.07612317e+03,  4.58362056e+03,\n",
       "        1.97928569e+03,  1.88025707e+02, -4.70775218e+02,  5.83657101e+02,\n",
       "       -2.43543456e+02,  8.29826751e+03,  7.74581954e+02,  8.44448593e+02,\n",
       "       -1.20775688e+03,  1.34809915e+02, -1.04309726e+03, -0.00000000e+00,\n",
       "        1.16964229e+03,  1.61765564e+03, -0.00000000e+00,  5.05847740e+02,\n",
       "       -1.13425152e+03,  2.65796922e+02, -1.22240479e+03,  0.00000000e+00,\n",
       "        2.36213242e+02, -5.80031340e+02, -8.17963257e+03,  1.29487768e+03,\n",
       "        5.47148553e+04,  3.58531873e+03,  2.40690210e+03, -9.63549427e+02,\n",
       "        0.00000000e+00, -1.67464337e+03, -2.05436459e+03,  1.94204864e+03,\n",
       "        1.95394442e+03, -0.00000000e+00, -1.06364416e+03,  8.00606774e+00,\n",
       "        5.93688978e+02, -0.00000000e+00, -2.30643423e+02,  1.97933477e+03,\n",
       "        6.31615519e+02,  0.00000000e+00,  0.00000000e+00,  0.00000000e+00,\n",
       "       -0.00000000e+00,  0.00000000e+00,  0.00000000e+00,  0.00000000e+00,\n",
       "        0.00000000e+00, -6.05849873e-01])"
      ]
     },
     "execution_count": 61,
     "metadata": {},
     "output_type": "execute_result"
    }
   ],
   "source": [
    "ridge_lr_poly.coef_"
   ]
  },
  {
   "cell_type": "code",
   "execution_count": 63,
   "metadata": {},
   "outputs": [
    {
     "name": "stdout",
     "output_type": "stream",
     "text": [
      "Train R^2: 0.839\n",
      "Train MAE: 2948.804\n",
      "Train MAPE: 29.546\n",
      "\n",
      "\n",
      "Test R^2: 0.863\n",
      "Test MAE: 2860.555\n",
      "Train MAPE: 31.380\n"
     ]
    }
   ],
   "source": [
    "# Постройте линейную регрессию с L2-регуляризацией на полиномиальных признаках. В качестве параметра alpha используйте значение по умолчанию.\n",
    "\n",
    "#Инициализируем объект класса линейная регрессия с L2-регуляризацией \n",
    "ridge_lr_poly = linear_model.Ridge()\n",
    "#Обучаем модель предсказывать логарифм целевого признака\n",
    "ridge_lr_poly.fit(X_train_scaled_poly, y_train)\n",
    "#Делаем предсказание для каждой из выборок\n",
    "#Если обучили на логарифме, то от результата необходимо взять обраную функцию - экспоненту\n",
    "y_train_pred = ridge_lr_poly.predict(X_train_scaled_poly)\n",
    "y_test_pred = ridge_lr_poly.predict(X_test_scaled_poly)\n",
    "#Выводим результирующие метрики\n",
    "print_metrics(y_train, y_train_pred, y_test, y_test_pred)"
   ]
  }
 ],
 "metadata": {
  "kernelspec": {
   "display_name": "Python 3",
   "language": "python",
   "name": "python3"
  },
  "language_info": {
   "codemirror_mode": {
    "name": "ipython",
    "version": 3
   },
   "file_extension": ".py",
   "mimetype": "text/x-python",
   "name": "python",
   "nbconvert_exporter": "python",
   "pygments_lexer": "ipython3",
   "version": "3.11.0"
  },
  "orig_nbformat": 4,
  "vscode": {
   "interpreter": {
    "hash": "697232e0b8e789ec23fe933c912406e74fbc7d569e5486b9b29a637f977feb44"
   }
  }
 },
 "nbformat": 4,
 "nbformat_minor": 2
}
