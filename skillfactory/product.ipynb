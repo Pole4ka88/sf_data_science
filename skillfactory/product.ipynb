{
 "cells": [
  {
   "cell_type": "code",
   "execution_count": 43,
   "metadata": {},
   "outputs": [
    {
     "name": "stderr",
     "output_type": "stream",
     "text": [
      "C:\\Users\\Администратор\\AppData\\Local\\Temp\\ipykernel_9900\\105086107.py:13: FutureWarning: Indexing with multiple keys (implicitly converted to a tuple of keys) will be deprecated, use a list instead.\n",
      "  sales_product2 = sales_product.groupby('ID Покупателя')['Price', 'Количество'].sum()\n"
     ]
    },
    {
     "data": {
      "text/html": [
       "<div>\n",
       "<style scoped>\n",
       "    .dataframe tbody tr th:only-of-type {\n",
       "        vertical-align: middle;\n",
       "    }\n",
       "\n",
       "    .dataframe tbody tr th {\n",
       "        vertical-align: top;\n",
       "    }\n",
       "\n",
       "    .dataframe thead th {\n",
       "        text-align: right;\n",
       "    }\n",
       "</style>\n",
       "<table border=\"1\" class=\"dataframe\">\n",
       "  <thead>\n",
       "    <tr style=\"text-align: right;\">\n",
       "      <th></th>\n",
       "      <th>Price</th>\n",
       "      <th>Количество</th>\n",
       "      <th>итого</th>\n",
       "    </tr>\n",
       "    <tr>\n",
       "      <th>ID Покупателя</th>\n",
       "      <th></th>\n",
       "      <th></th>\n",
       "      <th></th>\n",
       "    </tr>\n",
       "  </thead>\n",
       "  <tbody>\n",
       "    <tr>\n",
       "      <th>1</th>\n",
       "      <td>448.0</td>\n",
       "      <td>11</td>\n",
       "      <td>4928.0</td>\n",
       "    </tr>\n",
       "    <tr>\n",
       "      <th>5</th>\n",
       "      <td>14042.0</td>\n",
       "      <td>4</td>\n",
       "      <td>56168.0</td>\n",
       "    </tr>\n",
       "    <tr>\n",
       "      <th>7</th>\n",
       "      <td>17096.0</td>\n",
       "      <td>4</td>\n",
       "      <td>68384.0</td>\n",
       "    </tr>\n",
       "    <tr>\n",
       "      <th>8</th>\n",
       "      <td>697.0</td>\n",
       "      <td>13</td>\n",
       "      <td>9061.0</td>\n",
       "    </tr>\n",
       "    <tr>\n",
       "      <th>9</th>\n",
       "      <td>344.0</td>\n",
       "      <td>111</td>\n",
       "      <td>38184.0</td>\n",
       "    </tr>\n",
       "    <tr>\n",
       "      <th>10</th>\n",
       "      <td>199.0</td>\n",
       "      <td>5</td>\n",
       "      <td>995.0</td>\n",
       "    </tr>\n",
       "  </tbody>\n",
       "</table>\n",
       "</div>"
      ],
      "text/plain": [
       "                 Price  Количество    итого\n",
       "ID Покупателя                              \n",
       "1                448.0          11   4928.0\n",
       "5              14042.0           4  56168.0\n",
       "7              17096.0           4  68384.0\n",
       "8                697.0          13   9061.0\n",
       "9                344.0         111  38184.0\n",
       "10               199.0           5    995.0"
      ]
     },
     "metadata": {},
     "output_type": "display_data"
    }
   ],
   "source": [
    "#последнее задание из модуля 8\n",
    "import pandas as pd\n",
    "sales = pd.read_csv('data/orders.csv', sep=';')\n",
    "product = pd.read_csv('data/products.csv', sep=';') #выгрузила таблицы\n",
    "sales_product = sales.join(\n",
    "    product.set_index('Product_ID'),\n",
    "    on='ID товара',\n",
    "    how='left'\n",
    ")\n",
    "#обьединила их. сделала основной табл с заказами. Назначила индексами в таблице с товарами столбец с айди продукта\n",
    "#для того, чтобы по этому столбцу обьединить таблицы. обьединила по столбцу айди товара в левой таблице\n",
    "mask1 = sales_product['Статус'] == 'Оплачен, формируется к отправке'\n",
    "sales_product2 = sales_product.groupby('ID Покупателя')['Price', 'Количество'].sum()\n",
    "sales_product2['итого'] = sales_product2['Price']*sales_product2['Количество']\n",
    "#тут я считала какой клиент принёс больше денегю перед этим отфильтровала по степени оплаты зказа\n",
    "display(sales_product2)"
   ]
  }
 ],
 "metadata": {
  "kernelspec": {
   "display_name": "Python 3",
   "language": "python",
   "name": "python3"
  },
  "language_info": {
   "codemirror_mode": {
    "name": "ipython",
    "version": 3
   },
   "file_extension": ".py",
   "mimetype": "text/x-python",
   "name": "python",
   "nbconvert_exporter": "python",
   "pygments_lexer": "ipython3",
   "version": "3.11.0"
  },
  "orig_nbformat": 4,
  "vscode": {
   "interpreter": {
    "hash": "697232e0b8e789ec23fe933c912406e74fbc7d569e5486b9b29a637f977feb44"
   }
  }
 },
 "nbformat": 4,
 "nbformat_minor": 2
}
