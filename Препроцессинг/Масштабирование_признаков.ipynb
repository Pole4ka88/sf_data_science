{
  "cells": [
    {
      "cell_type": "code",
      "execution_count": 6,
      "metadata": {
        "id": "Gt9xbXDkgbxl"
      },
      "outputs": [],
      "source": [
        "import pandas as pd\n",
        "from sklearn.preprocessing import RobustScaler\n",
        "from sklearn.model_selection import train_test_split\n",
        "from sklearn.linear_model import LinearRegression\n",
        "from sklearn.metrics import mean_absolute_error"
      ]
    },
    {
      "cell_type": "markdown",
      "metadata": {
        "id": "UgdBUCd_gf7A"
      },
      "source": [
        "# Загрузка данных"
      ]
    },
    {
      "cell_type": "code",
      "execution_count": 2,
      "metadata": {
        "id": "r59nCfIZgfFs"
      },
      "outputs": [],
      "source": [
        "%%capture\n",
        "!wget https://www.dropbox.com/s/64ol9q9ssggz6f1/data_ford_price.xlsx"
      ]
    },
    {
      "cell_type": "code",
      "execution_count": 2,
      "metadata": {
        "id": "MByusU1Igr5J"
      },
      "outputs": [],
      "source": [
        "data = pd.read_excel('data_ford_price.xlsx') "
      ]
    },
    {
      "cell_type": "markdown",
      "metadata": {
        "id": "8ZsYlQLvgwuj"
      },
      "source": [
        "## Предобработка данных"
      ]
    },
    {
      "cell_type": "code",
      "execution_count": 3,
      "metadata": {
        "colab": {
          "base_uri": "https://localhost:8080/"
        },
        "id": "835FtZkxgMxo",
        "outputId": "6f333c0e-2c25-4b1a-ddee-3711dc85a2a5"
      },
      "outputs": [],
      "source": [
        "data = data[['price', 'year', 'weather']]\n",
        "data.dropna(inplace = True)"
      ]
    },
    {
      "cell_type": "markdown",
      "metadata": {
        "id": "9cm6C0h3g5-Q"
      },
      "source": [
        "## Масштабирование"
      ]
    },
    {
      "cell_type": "code",
      "execution_count": 4,
      "metadata": {
        "id": "iDWbjVJqg4p3"
      },
      "outputs": [],
      "source": [
        "data_scaled = data.copy()\n",
        "col_names = ['price', 'weather']\n",
        "x = data_scaled[col_names]"
      ]
    },
    {
      "cell_type": "code",
      "execution_count": 9,
      "metadata": {
        "colab": {
          "base_uri": "https://localhost:8080/",
          "height": 419
        },
        "id": "s_8N_lmdg-6s",
        "outputId": "aa53aa0c-81d2-49b1-9a93-e63cdf15f855"
      },
      "outputs": [
        {
          "data": {
            "text/plain": [
              "0.1894603976017671"
            ]
          },
          "execution_count": 9,
          "metadata": {},
          "output_type": "execute_result"
        }
      ],
      "source": [
        "scaler = RobustScaler()\n",
        " \n",
        "data_scaled[col_names] = scaler.fit_transform(x.values)\n",
        "data_scaled['price'][1]"
      ]
    },
    {
      "cell_type": "code",
      "execution_count": 9,
      "metadata": {
        "id": "n1ZO8tC_gVf2"
      },
      "outputs": [],
      "source": [
        "y = data_scaled['year']\n",
        "x = data_scaled.drop(columns='year')\n",
        "\n",
        "X_train, X_test, y_train, y_test = train_test_split(x, y, test_size=0.3, random_state=40)"
      ]
    },
    {
      "cell_type": "code",
      "execution_count": 12,
      "metadata": {
        "colab": {
          "base_uri": "https://localhost:8080/"
        },
        "id": "FsYSPuXFhCp7",
        "outputId": "8559372a-8e16-460b-f375-21ab778bbc66"
      },
      "outputs": [
        {
          "name": "stdout",
          "output_type": "stream",
          "text": [
            "MAE: 3.041\n"
          ]
        }
      ],
      "source": [
        "model = LinearRegression()\n",
        "model.fit(X_train, y_train)\n",
        "y_predicted = model.predict(X_test)\n",
        " \n",
        "mae = mean_absolute_error(y_test, y_predicted)\n",
        "print('MAE: %.3f' % mae)"
      ]
    }
  ],
  "metadata": {
    "colab": {
      "name": "Масштабирование_признаков.ipynb",
      "provenance": []
    },
    "kernelspec": {
      "display_name": "Python 3",
      "language": "python",
      "name": "python3"
    },
    "language_info": {
      "codemirror_mode": {
        "name": "ipython",
        "version": 3
      },
      "file_extension": ".py",
      "mimetype": "text/x-python",
      "name": "python",
      "nbconvert_exporter": "python",
      "pygments_lexer": "ipython3",
      "version": "3.11.0"
    },
    "vscode": {
      "interpreter": {
        "hash": "697232e0b8e789ec23fe933c912406e74fbc7d569e5486b9b29a637f977feb44"
      }
    }
  },
  "nbformat": 4,
  "nbformat_minor": 0
}
